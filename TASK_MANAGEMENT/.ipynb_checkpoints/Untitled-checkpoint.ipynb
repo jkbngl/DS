{
 "cells": [
  {
   "cell_type": "markdown",
   "metadata": {},
   "source": [
    "# Task analysis\n",
    "\n",
    "Goals:\n",
    "\n",
    "* Measurement of all tasks created\n",
    "* Differentiate between unique and double send tasks\n",
    "* (How many tasks are allready created by workerbase System)\n",
    "* (How long are workers in general busy out of the 480m)\n",
    "\n",
    "Current active apps:\n",
    "* - Quality measurements\n",
    "* Machine interruptions\n",
    "* (Trolley change)\n",
    "\n",
    "Example datapoint:\n",
    "\n",
    "![title](./img/task_skelleton.png)"
   ]
  },
  {
   "cell_type": "code",
   "execution_count": null,
   "metadata": {},
   "outputs": [],
   "source": []
  }
 ],
 "metadata": {
  "kernelspec": {
   "display_name": "Python 3",
   "language": "python",
   "name": "python3"
  },
  "language_info": {
   "codemirror_mode": {
    "name": "ipython",
    "version": 3
   },
   "file_extension": ".py",
   "mimetype": "text/x-python",
   "name": "python",
   "nbconvert_exporter": "python",
   "pygments_lexer": "ipython3",
   "version": "3.6.4"
  }
 },
 "nbformat": 4,
 "nbformat_minor": 2
}
