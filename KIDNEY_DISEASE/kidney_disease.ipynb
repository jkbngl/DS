{
 "cells": [
  {
   "cell_type": "markdown",
   "metadata": {},
   "source": [
    "# Forecast kidney diseases\n",
    "\n",
    "## Goal\n",
    "\n",
    "The goal of this project will be to read as many stuff of the data as possible and to visualize it as best as possible, the next step will be to prepare a model which will forecast if a person has kidney disease!\n",
    "\n",
    "But first of all. lets start with the boring stuff, imports and reading the data:"
   ]
  },
  {
   "cell_type": "code",
   "execution_count": 22,
   "metadata": {},
   "outputs": [
    {
     "data": {
      "text/html": [
       "        <script type=\"text/javascript\">\n",
       "        window.PlotlyConfig = {MathJaxConfig: 'local'};\n",
       "        if (window.MathJax) {MathJax.Hub.Config({SVG: {font: \"STIX-Web\"}});}\n",
       "        if (typeof require !== 'undefined') {\n",
       "        require.undef(\"plotly\");\n",
       "        requirejs.config({\n",
       "            paths: {\n",
       "                'plotly': ['https://cdn.plot.ly/plotly-latest.min']\n",
       "            }\n",
       "        });\n",
       "        require(['plotly'], function(Plotly) {\n",
       "            window._Plotly = Plotly;\n",
       "        });\n",
       "        }\n",
       "        </script>\n",
       "        "
      ]
     },
     "metadata": {},
     "output_type": "display_data"
    }
   ],
   "source": [
    "import pandas as pd\n",
    "import numpy as np\n",
    "import cufflinks as cf\n",
    "import plotly.offline\n",
    "import seaborn as sns\n",
    "import matplotlib.pyplot as plt\n",
    "\n",
    "cf.go_offline()\n",
    "cf.set_config_file(offline=False, world_readable=True)\n",
    "\n",
    "data = pd.read_csv(\"kidney_disease.csv\") "
   ]
  },
  {
   "cell_type": "code",
   "execution_count": 23,
   "metadata": {},
   "outputs": [
    {
     "data": {
      "text/html": [
       "<div>\n",
       "<style scoped>\n",
       "    .dataframe tbody tr th:only-of-type {\n",
       "        vertical-align: middle;\n",
       "    }\n",
       "\n",
       "    .dataframe tbody tr th {\n",
       "        vertical-align: top;\n",
       "    }\n",
       "\n",
       "    .dataframe thead th {\n",
       "        text-align: right;\n",
       "    }\n",
       "</style>\n",
       "<table border=\"1\" class=\"dataframe\">\n",
       "  <thead>\n",
       "    <tr style=\"text-align: right;\">\n",
       "      <th></th>\n",
       "      <th>id</th>\n",
       "      <th>age</th>\n",
       "      <th>bp</th>\n",
       "      <th>sg</th>\n",
       "      <th>al</th>\n",
       "      <th>su</th>\n",
       "      <th>rbc</th>\n",
       "      <th>pc</th>\n",
       "      <th>pcc</th>\n",
       "      <th>ba</th>\n",
       "      <th>bgr</th>\n",
       "      <th>bu</th>\n",
       "      <th>sc</th>\n",
       "      <th>sod</th>\n",
       "      <th>pot</th>\n",
       "    </tr>\n",
       "  </thead>\n",
       "  <tbody>\n",
       "    <tr>\n",
       "      <th>0</th>\n",
       "      <td>0</td>\n",
       "      <td>48.0</td>\n",
       "      <td>80.0</td>\n",
       "      <td>1.020</td>\n",
       "      <td>1.0</td>\n",
       "      <td>0.0</td>\n",
       "      <td>NaN</td>\n",
       "      <td>normal</td>\n",
       "      <td>notpresent</td>\n",
       "      <td>notpresent</td>\n",
       "      <td>121.0</td>\n",
       "      <td>36.0</td>\n",
       "      <td>1.2</td>\n",
       "      <td>NaN</td>\n",
       "      <td>NaN</td>\n",
       "    </tr>\n",
       "    <tr>\n",
       "      <th>1</th>\n",
       "      <td>1</td>\n",
       "      <td>7.0</td>\n",
       "      <td>50.0</td>\n",
       "      <td>1.020</td>\n",
       "      <td>4.0</td>\n",
       "      <td>0.0</td>\n",
       "      <td>NaN</td>\n",
       "      <td>normal</td>\n",
       "      <td>notpresent</td>\n",
       "      <td>notpresent</td>\n",
       "      <td>NaN</td>\n",
       "      <td>18.0</td>\n",
       "      <td>0.8</td>\n",
       "      <td>NaN</td>\n",
       "      <td>NaN</td>\n",
       "    </tr>\n",
       "    <tr>\n",
       "      <th>2</th>\n",
       "      <td>2</td>\n",
       "      <td>62.0</td>\n",
       "      <td>80.0</td>\n",
       "      <td>1.010</td>\n",
       "      <td>2.0</td>\n",
       "      <td>3.0</td>\n",
       "      <td>normal</td>\n",
       "      <td>normal</td>\n",
       "      <td>notpresent</td>\n",
       "      <td>notpresent</td>\n",
       "      <td>423.0</td>\n",
       "      <td>53.0</td>\n",
       "      <td>1.8</td>\n",
       "      <td>NaN</td>\n",
       "      <td>NaN</td>\n",
       "    </tr>\n",
       "    <tr>\n",
       "      <th>3</th>\n",
       "      <td>3</td>\n",
       "      <td>48.0</td>\n",
       "      <td>70.0</td>\n",
       "      <td>1.005</td>\n",
       "      <td>4.0</td>\n",
       "      <td>0.0</td>\n",
       "      <td>normal</td>\n",
       "      <td>abnormal</td>\n",
       "      <td>present</td>\n",
       "      <td>notpresent</td>\n",
       "      <td>117.0</td>\n",
       "      <td>56.0</td>\n",
       "      <td>3.8</td>\n",
       "      <td>111.0</td>\n",
       "      <td>2.5</td>\n",
       "    </tr>\n",
       "    <tr>\n",
       "      <th>4</th>\n",
       "      <td>4</td>\n",
       "      <td>51.0</td>\n",
       "      <td>80.0</td>\n",
       "      <td>1.010</td>\n",
       "      <td>2.0</td>\n",
       "      <td>0.0</td>\n",
       "      <td>normal</td>\n",
       "      <td>normal</td>\n",
       "      <td>notpresent</td>\n",
       "      <td>notpresent</td>\n",
       "      <td>106.0</td>\n",
       "      <td>26.0</td>\n",
       "      <td>1.4</td>\n",
       "      <td>NaN</td>\n",
       "      <td>NaN</td>\n",
       "    </tr>\n",
       "  </tbody>\n",
       "</table>\n",
       "</div>"
      ],
      "text/plain": [
       "   id   age    bp     sg   al   su     rbc        pc         pcc          ba  \\\n",
       "0   0  48.0  80.0  1.020  1.0  0.0     NaN    normal  notpresent  notpresent   \n",
       "1   1   7.0  50.0  1.020  4.0  0.0     NaN    normal  notpresent  notpresent   \n",
       "2   2  62.0  80.0  1.010  2.0  3.0  normal    normal  notpresent  notpresent   \n",
       "3   3  48.0  70.0  1.005  4.0  0.0  normal  abnormal     present  notpresent   \n",
       "4   4  51.0  80.0  1.010  2.0  0.0  normal    normal  notpresent  notpresent   \n",
       "\n",
       "     bgr    bu   sc    sod  pot  \n",
       "0  121.0  36.0  1.2    NaN  NaN  \n",
       "1    NaN  18.0  0.8    NaN  NaN  \n",
       "2  423.0  53.0  1.8    NaN  NaN  \n",
       "3  117.0  56.0  3.8  111.0  2.5  \n",
       "4  106.0  26.0  1.4    NaN  NaN  "
      ]
     },
     "execution_count": 23,
     "metadata": {},
     "output_type": "execute_result"
    }
   ],
   "source": [
    "data[[\"id\", \"age\", \"bp\", \"sg\", \"al\", \"su\", \"rbc\", \"pc\", \"pcc\", \"ba\", \"bgr\", \"bu\", \"sc\", \"sod\", \"pot\"]].head()"
   ]
  },
  {
   "cell_type": "code",
   "execution_count": 24,
   "metadata": {},
   "outputs": [
    {
     "data": {
      "text/html": [
       "<div>\n",
       "<style scoped>\n",
       "    .dataframe tbody tr th:only-of-type {\n",
       "        vertical-align: middle;\n",
       "    }\n",
       "\n",
       "    .dataframe tbody tr th {\n",
       "        vertical-align: top;\n",
       "    }\n",
       "\n",
       "    .dataframe thead th {\n",
       "        text-align: right;\n",
       "    }\n",
       "</style>\n",
       "<table border=\"1\" class=\"dataframe\">\n",
       "  <thead>\n",
       "    <tr style=\"text-align: right;\">\n",
       "      <th></th>\n",
       "      <th>hemo</th>\n",
       "      <th>pcv</th>\n",
       "      <th>wc</th>\n",
       "      <th>rc</th>\n",
       "      <th>htn</th>\n",
       "      <th>dm</th>\n",
       "      <th>cad</th>\n",
       "      <th>appet</th>\n",
       "      <th>pe</th>\n",
       "      <th>ane</th>\n",
       "      <th>classification</th>\n",
       "    </tr>\n",
       "  </thead>\n",
       "  <tbody>\n",
       "    <tr>\n",
       "      <th>0</th>\n",
       "      <td>15.4</td>\n",
       "      <td>44</td>\n",
       "      <td>7800</td>\n",
       "      <td>5.2</td>\n",
       "      <td>yes</td>\n",
       "      <td>yes</td>\n",
       "      <td>no</td>\n",
       "      <td>good</td>\n",
       "      <td>no</td>\n",
       "      <td>no</td>\n",
       "      <td>ckd</td>\n",
       "    </tr>\n",
       "    <tr>\n",
       "      <th>1</th>\n",
       "      <td>11.3</td>\n",
       "      <td>38</td>\n",
       "      <td>6000</td>\n",
       "      <td>NaN</td>\n",
       "      <td>no</td>\n",
       "      <td>no</td>\n",
       "      <td>no</td>\n",
       "      <td>good</td>\n",
       "      <td>no</td>\n",
       "      <td>no</td>\n",
       "      <td>ckd</td>\n",
       "    </tr>\n",
       "    <tr>\n",
       "      <th>2</th>\n",
       "      <td>9.6</td>\n",
       "      <td>31</td>\n",
       "      <td>7500</td>\n",
       "      <td>NaN</td>\n",
       "      <td>no</td>\n",
       "      <td>yes</td>\n",
       "      <td>no</td>\n",
       "      <td>poor</td>\n",
       "      <td>no</td>\n",
       "      <td>yes</td>\n",
       "      <td>ckd</td>\n",
       "    </tr>\n",
       "    <tr>\n",
       "      <th>3</th>\n",
       "      <td>11.2</td>\n",
       "      <td>32</td>\n",
       "      <td>6700</td>\n",
       "      <td>3.9</td>\n",
       "      <td>yes</td>\n",
       "      <td>no</td>\n",
       "      <td>no</td>\n",
       "      <td>poor</td>\n",
       "      <td>yes</td>\n",
       "      <td>yes</td>\n",
       "      <td>ckd</td>\n",
       "    </tr>\n",
       "    <tr>\n",
       "      <th>4</th>\n",
       "      <td>11.6</td>\n",
       "      <td>35</td>\n",
       "      <td>7300</td>\n",
       "      <td>4.6</td>\n",
       "      <td>no</td>\n",
       "      <td>no</td>\n",
       "      <td>no</td>\n",
       "      <td>good</td>\n",
       "      <td>no</td>\n",
       "      <td>no</td>\n",
       "      <td>ckd</td>\n",
       "    </tr>\n",
       "  </tbody>\n",
       "</table>\n",
       "</div>"
      ],
      "text/plain": [
       "   hemo pcv    wc   rc  htn   dm cad appet   pe  ane classification\n",
       "0  15.4  44  7800  5.2  yes  yes  no  good   no   no            ckd\n",
       "1  11.3  38  6000  NaN   no   no  no  good   no   no            ckd\n",
       "2   9.6  31  7500  NaN   no  yes  no  poor   no  yes            ckd\n",
       "3  11.2  32  6700  3.9  yes   no  no  poor  yes  yes            ckd\n",
       "4  11.6  35  7300  4.6   no   no  no  good   no   no            ckd"
      ]
     },
     "execution_count": 24,
     "metadata": {},
     "output_type": "execute_result"
    }
   ],
   "source": [
    "data[[\"hemo\", \"pcv\", \"wc\", \"rc\", \"htn\", \"dm\", \"cad\", \"appet\", \"pe\", \"ane\", \"classification\"]].head()"
   ]
  },
  {
   "cell_type": "markdown",
   "metadata": {},
   "source": [
    "## Column Description\n",
    "\n",
    "**id:** count of the entries in the dataset - preceding number  \n",
    "**age:** age  \n",
    "**bp:** blood pressure  \n",
    "**sg:** specific gravity - weight  \n",
    "**al:** albumin  \n",
    "**su:** sugar  \n",
    "**rbc:** red blood cells  \n",
    "**pc:** pus cell *(Pus is the reponse of the body's to an infection, usually caused by bacteria)*  \n",
    "**pcc:** if clumbs of pus cells are present or not  \n",
    "**ba:** if bacteria are present or not  \n",
    "**bgr:** blood glucose random *(Amount of glucose or sugar circulating in a person's blood)*  \n",
    "**bu:** blood urea -   (Measures the amount of urea nitrogen that's in your blood)*  \n",
    "**sc:** serum creatinine  \n",
    "**sod:** sodium  \n",
    "**pot:** potassium  \n",
    "**hemo:** hemoglobin  \n",
    "**pcv:** packed cell volume*(measures the volume percentage of red blood cells (RBC) in blood)*  \n",
    "**wc:** white blood cell count  \n",
    "**rc:** red blood cell count  \n",
    "**htn:** hypertension *(is a long-term medical condition in which the blood pressure in the arteries is persistently elevated)*  \n",
    "**dm:** diabetes mellitus (the blood sugar level is pathologically elevated)  \n",
    "**cad:** coronary artery disease *(involves the reduction of blood flow to the heart muscle due to build-up of plaque in the arteries of the heart)*  \n",
    "**appet:** appetite  \n",
    "**pe:** pedal edema *(Pedal edema is the accumulation of fluid in the feet and lower legs)*  \n",
    "**ane:** anemia *( is a decrease in the total amount of red blood cells or hemoglobin in the blood, or a lowered ability of the blood to carry oxygen)*  \n",
    "**classification:** class *(whether the patient has a kidney disease or not)*  \n",
    "\n",
    "## Data cleaning\n",
    "\n",
    "I wanna do one part of this know and another one at a later point, you will get the point then. As first thing I wanna renamn the columns to have a more palatable name, so it is easier to get which column was meant for which features instead of working only with the abbreviation:"
   ]
  },
  {
   "cell_type": "code",
   "execution_count": 19,
   "metadata": {},
   "outputs": [],
   "source": [
    "data = data.rename(columns={  \"bp\": \"blood_pressure\"\n",
    "                                                        , \"sg\": \"weight\"\n",
    "                                                        , \"al\": \"albumin\"\n",
    "                                                        , \"su\": \"sugar\"\n",
    "                                                        , \"rbc\": \"red_blood_cells\"\n",
    "                                                        , \"pc\": \"pus_cell\"\n",
    "                                                        , \"pcc\": \"pus cell clumps\"\n",
    "                                                        , \"ba\": \"bacteria\"\n",
    "                                                        , \"bgr\": \"blood glucose random\"\n",
    "                                                        , \"bu\": \"blood urea\"\n",
    "                                                        , \"sc\": \"serum creatinine\"\n",
    "                                                        , \"sod\": \"sodium\"\n",
    "                                                        , \"pot\": \"potassium\"\n",
    "                                                        , \"hemo\": \"hemoglobin\"\n",
    "                                                        , \"pcv\": \"packed cell volume\"\n",
    "                                                        , \"wc\": \"white blood cell count\"\n",
    "                                                        , \"rc\": \"red blood cell count\"\n",
    "                                                        , \"htn\": \"hypertension\"\n",
    "                                                        , \"dm\": \"diabetes mellitus\"\n",
    "                                                        , \"cad\": \"coronary artery disease\"\n",
    "                                                        , \"appet\": \"appetite\"\n",
    "                                                        , \"pe\": \"pedal edema\"\n",
    "                                                        , \"ane\": \"anemia\"\n",
    "})"
   ]
  },
  {
   "cell_type": "code",
   "execution_count": null,
   "metadata": {},
   "outputs": [],
   "source": [
    "## EDA\n",
    "\n",
    "First of all lets get to know our data a bit, I like to split that up into 2 sections, the *raw* analysis of the data, where I search for means and stuff like that and the more interesting part the *visualisation* where I explore the data using different plots!\n",
    "\n",
    "\n",
    "# RAW"
   ]
  },
  {
   "cell_type": "code",
   "execution_count": 9,
   "metadata": {},
   "outputs": [
    {
     "name": "stdout",
     "output_type": "stream",
     "text": [
      "(400, 26)\n",
      "---------------------------------------------------------------\n",
      "id                  0\n",
      "age                 9\n",
      "bp                 12\n",
      "sg                 47\n",
      "al                 46\n",
      "su                 49\n",
      "rbc               152\n",
      "pc                 65\n",
      "pcc                 4\n",
      "ba                  4\n",
      "bgr                44\n",
      "bu                 19\n",
      "sc                 17\n",
      "sod                87\n",
      "pot                88\n",
      "hemo               52\n",
      "pcv                70\n",
      "wc                105\n",
      "rc                130\n",
      "htn                 2\n",
      "dm                  2\n",
      "cad                 2\n",
      "appet               1\n",
      "pe                  1\n",
      "ane                 1\n",
      "classification      0\n",
      "dtype: int64\n",
      "---------------------------------------------------------------\n"
     ]
    }
   ],
   "source": [
    "print(data.shape)\n",
    "print(\"---------------------------------------------------------------\")\n",
    "print(data.isna().sum())\n",
    "print(\"---------------------------------------------------------------\")\n"
   ]
  },
  {
   "cell_type": "markdown",
   "metadata": {},
   "source": [
    "We have 400 datapoints in the dataset, not too many, specially if you consider that we have features which are nearly 1/3 na.\n",
    "In general we have 3 possibilities on how to deal with missing datapoints:\n",
    "1. ignore\n",
    "2. drop\n",
    "3. fill with the mean\n",
    "\n",
    "I would suggest the third one, filling the missing datapoints with the mean of the existing values, of course this is not perfect as well, you could consider looking at a histogram to see how wide spread the data is and then decide again."
   ]
  },
  {
   "cell_type": "markdown",
   "metadata": {},
   "source": [
    "## Visualisation\n",
    "\n",
    "Enough with the numbers, we wanna see some plots, lets start with a heatmap:\n",
    "\n",
    "## Heatmap\n",
    "\n",
    "A heatmap is a very easy and quick way to see correlation in our dataset, often it confirm our suggestions, often it shows us stuff which is logic but often the datasets are also strange, and so the heatmap is aswell:"
   ]
  },
  {
   "cell_type": "code",
   "execution_count": 11,
   "metadata": {},
   "outputs": [
    {
     "data": {
      "application/vnd.plotly.v1+json": {
       "config": {
        "linkText": "Export to plot.ly",
        "plotlyServerURL": "https://plot.ly",
        "showLink": true
       },
       "data": [
        {
         "colorscale": [
          [
           0,
           "rgb(247,251,255)"
          ],
          [
           0.125,
           "rgb(222,235,247)"
          ],
          [
           0.25,
           "rgb(198,219,239)"
          ],
          [
           0.375,
           "rgb(158,202,225)"
          ],
          [
           0.5,
           "rgb(107,174,214)"
          ],
          [
           0.625,
           "rgb(66,146,198)"
          ],
          [
           0.75,
           "rgb(33,113,181)"
          ],
          [
           0.875,
           "rgb(8,81,156)"
          ],
          [
           1,
           "rgb(8,48,107)"
          ]
         ],
         "type": "heatmap",
         "uid": "5b845151-3492-4262-8319-af23ef270f1d",
         "x": [
          "id",
          "age",
          "bp",
          "sg",
          "al",
          "su",
          "bgr",
          "bu",
          "sc",
          "sod",
          "pot",
          "hemo"
         ],
         "y": [
          "id",
          "age",
          "bp",
          "sg",
          "al",
          "su",
          "bgr",
          "bu",
          "sc",
          "sod",
          "pot",
          "hemo"
         ],
         "z": [
          [
           1,
           -0.18530782714267732,
           -0.24574410447852635,
           0.6421561536356815,
           -0.5419926613679351,
           -0.2834155209435855,
           -0.3386727058302889,
           -0.3071753456866585,
           -0.2686832115109984,
           0.3642510911827479,
           -0.09234728623127705,
           0.6402983531840151
          ],
          [
           -0.18530782714267732,
           1,
           0.15947969344545337,
           -0.19109638084640065,
           0.122090983208193,
           0.22086632541242557,
           0.24499219961690571,
           0.1969848707760298,
           0.13253086524238836,
           -0.10004598307595666,
           0.058377120010052824,
           -0.19292833896805278
          ],
          [
           -0.24574410447852635,
           0.15947969344545337,
           1,
           -0.21883606991696572,
           0.16068863862750676,
           0.2225760257666719,
           0.16019346180582386,
           0.18851724531031167,
           0.1462220201137379,
           -0.11642203572415327,
           0.07515106557193241,
           -0.30653988843986596
          ],
          [
           0.6421561536356815,
           -0.19109638084640065,
           -0.21883606991696572,
           1,
           -0.46975984918599945,
           -0.29623374836034055,
           -0.37470959173615287,
           -0.3142949791915105,
           -0.3614728373234846,
           0.4121898133018018,
           -0.07278714191556651,
           0.602582277611141
          ],
          [
           -0.5419926613679351,
           0.122090983208193,
           0.16068863862750676,
           -0.46975984918599945,
           1,
           0.2693046462503103,
           0.37946421648102324,
           0.453528317250391,
           0.3991983006303389,
           -0.45989605835835834,
           0.1290381838216137,
           -0.6346317780901208
          ],
          [
           -0.2834155209435855,
           0.22086632541242557,
           0.2225760257666719,
           -0.29623374836034055,
           0.2693046462503103,
           1,
           0.7178267668666222,
           0.16858286812689152,
           0.22324408509178892,
           -0.1317756112111009,
           0.2194495152060006,
           -0.22477515765643227
          ],
          [
           -0.3386727058302889,
           0.24499219961690571,
           0.16019346180582386,
           -0.37470959173615287,
           0.37946421648102324,
           0.7178267668666222,
           1,
           0.14332202004581557,
           0.11487499984094192,
           -0.2678475861576871,
           0.06696579455295651,
           -0.3061892815042018
          ],
          [
           -0.3071753456866585,
           0.1969848707760298,
           0.18851724531031167,
           -0.3142949791915105,
           0.453528317250391,
           0.16858286812689152,
           0.14332202004581557,
           1,
           0.5863678207097762,
           -0.32305423528935345,
           0.35704908135240276,
           -0.6103602784857809
          ],
          [
           -0.2686832115109984,
           0.13253086524238836,
           0.1462220201137379,
           -0.3614728373234846,
           0.3991983006303389,
           0.22324408509178892,
           0.11487499984094192,
           0.5863678207097762,
           1,
           -0.6901578920579919,
           0.326107131869241,
           -0.4016696244358097
          ],
          [
           0.3642510911827479,
           -0.10004598307595666,
           -0.11642203572415327,
           0.4121898133018018,
           -0.45989605835835834,
           -0.1317756112111009,
           -0.2678475861576871,
           -0.32305423528935345,
           -0.6901578920579919,
           1,
           0.09788671547835194,
           0.36518265225752916
          ],
          [
           -0.09234728623127705,
           0.058377120010052824,
           0.07515106557193241,
           -0.07278714191556651,
           0.1290381838216137,
           0.2194495152060006,
           0.06696579455295651,
           0.35704908135240276,
           0.326107131869241,
           0.09788671547835194,
           1,
           -0.1337460417648209
          ],
          [
           0.6402983531840151,
           -0.19292833896805278,
           -0.30653988843986596,
           0.602582277611141,
           -0.6346317780901208,
           -0.22477515765643227,
           -0.3061892815042018,
           -0.6103602784857809,
           -0.4016696244358097,
           0.36518265225752916,
           -0.1337460417648209,
           1
          ]
         ],
         "zmax": 1,
         "zmin": -0.6901578920579919
        }
       ],
       "layout": {
        "legend": {
         "bgcolor": "#F5F6F9",
         "font": {
          "color": "#4D5663"
         }
        },
        "paper_bgcolor": "#F5F6F9",
        "plot_bgcolor": "#F5F6F9",
        "title": {
         "font": {
          "color": "#4D5663"
         },
         "text": "Feature Correlation Matrix"
        },
        "xaxis": {
         "gridcolor": "#E1E5ED",
         "showgrid": true,
         "tickfont": {
          "color": "#4D5663"
         },
         "title": {
          "font": {
           "color": "#4D5663"
          },
          "text": ""
         },
         "zerolinecolor": "#E1E5ED"
        },
        "yaxis": {
         "gridcolor": "#E1E5ED",
         "showgrid": true,
         "tickfont": {
          "color": "#4D5663"
         },
         "title": {
          "font": {
           "color": "#4D5663"
          },
          "text": ""
         },
         "zerolinecolor": "#E1E5ED"
        }
       }
      },
      "text/html": [
       "<div>\n",
       "        \n",
       "        \n",
       "            <div id=\"39d8f6ad-7299-48c8-a7c7-ae4f4ba352d2\" class=\"plotly-graph-div\" style=\"height:525px; width:100%;\"></div>\n",
       "            <script type=\"text/javascript\">\n",
       "                require([\"plotly\"], function(Plotly) {\n",
       "                    window.PLOTLYENV=window.PLOTLYENV || {};\n",
       "                    window.PLOTLYENV.BASE_URL='https://plot.ly';\n",
       "                    \n",
       "                if (document.getElementById(\"39d8f6ad-7299-48c8-a7c7-ae4f4ba352d2\")) {\n",
       "                    Plotly.newPlot(\n",
       "                        '39d8f6ad-7299-48c8-a7c7-ae4f4ba352d2',\n",
       "                        [{\"colorscale\": [[0.0, \"rgb(247,251,255)\"], [0.125, \"rgb(222,235,247)\"], [0.25, \"rgb(198,219,239)\"], [0.375, \"rgb(158,202,225)\"], [0.5, \"rgb(107,174,214)\"], [0.625, \"rgb(66,146,198)\"], [0.75, \"rgb(33,113,181)\"], [0.875, \"rgb(8,81,156)\"], [1.0, \"rgb(8,48,107)\"]], \"type\": \"heatmap\", \"uid\": \"5b845151-3492-4262-8319-af23ef270f1d\", \"x\": [\"id\", \"age\", \"bp\", \"sg\", \"al\", \"su\", \"bgr\", \"bu\", \"sc\", \"sod\", \"pot\", \"hemo\"], \"y\": [\"id\", \"age\", \"bp\", \"sg\", \"al\", \"su\", \"bgr\", \"bu\", \"sc\", \"sod\", \"pot\", \"hemo\"], \"z\": [[1.0, -0.18530782714267732, -0.24574410447852635, 0.6421561536356815, -0.5419926613679351, -0.2834155209435855, -0.3386727058302889, -0.3071753456866585, -0.2686832115109984, 0.3642510911827479, -0.09234728623127705, 0.6402983531840151], [-0.18530782714267732, 1.0, 0.15947969344545337, -0.19109638084640065, 0.122090983208193, 0.22086632541242557, 0.24499219961690571, 0.1969848707760298, 0.13253086524238836, -0.10004598307595666, 0.058377120010052824, -0.19292833896805278], [-0.24574410447852635, 0.15947969344545337, 1.0, -0.21883606991696572, 0.16068863862750676, 0.2225760257666719, 0.16019346180582386, 0.18851724531031167, 0.1462220201137379, -0.11642203572415327, 0.07515106557193241, -0.30653988843986596], [0.6421561536356815, -0.19109638084640065, -0.21883606991696572, 1.0, -0.46975984918599945, -0.29623374836034055, -0.37470959173615287, -0.3142949791915105, -0.3614728373234846, 0.4121898133018018, -0.07278714191556651, 0.602582277611141], [-0.5419926613679351, 0.122090983208193, 0.16068863862750676, -0.46975984918599945, 1.0, 0.2693046462503103, 0.37946421648102324, 0.453528317250391, 0.3991983006303389, -0.45989605835835834, 0.1290381838216137, -0.6346317780901208], [-0.2834155209435855, 0.22086632541242557, 0.2225760257666719, -0.29623374836034055, 0.2693046462503103, 1.0, 0.7178267668666222, 0.16858286812689152, 0.22324408509178892, -0.1317756112111009, 0.2194495152060006, -0.22477515765643227], [-0.3386727058302889, 0.24499219961690571, 0.16019346180582386, -0.37470959173615287, 0.37946421648102324, 0.7178267668666222, 1.0, 0.14332202004581557, 0.11487499984094192, -0.2678475861576871, 0.06696579455295651, -0.3061892815042018], [-0.3071753456866585, 0.1969848707760298, 0.18851724531031167, -0.3142949791915105, 0.453528317250391, 0.16858286812689152, 0.14332202004581557, 1.0, 0.5863678207097762, -0.32305423528935345, 0.35704908135240276, -0.6103602784857809], [-0.2686832115109984, 0.13253086524238836, 0.1462220201137379, -0.3614728373234846, 0.3991983006303389, 0.22324408509178892, 0.11487499984094192, 0.5863678207097762, 1.0, -0.6901578920579919, 0.326107131869241, -0.4016696244358097], [0.3642510911827479, -0.10004598307595666, -0.11642203572415327, 0.4121898133018018, -0.45989605835835834, -0.1317756112111009, -0.2678475861576871, -0.32305423528935345, -0.6901578920579919, 1.0, 0.09788671547835194, 0.36518265225752916], [-0.09234728623127705, 0.058377120010052824, 0.07515106557193241, -0.07278714191556651, 0.1290381838216137, 0.2194495152060006, 0.06696579455295651, 0.35704908135240276, 0.326107131869241, 0.09788671547835194, 1.0, -0.1337460417648209], [0.6402983531840151, -0.19292833896805278, -0.30653988843986596, 0.602582277611141, -0.6346317780901208, -0.22477515765643227, -0.3061892815042018, -0.6103602784857809, -0.4016696244358097, 0.36518265225752916, -0.1337460417648209, 1.0]], \"zmax\": 1.0, \"zmin\": -0.6901578920579919}],\n",
       "                        {\"legend\": {\"bgcolor\": \"#F5F6F9\", \"font\": {\"color\": \"#4D5663\"}}, \"paper_bgcolor\": \"#F5F6F9\", \"plot_bgcolor\": \"#F5F6F9\", \"title\": {\"font\": {\"color\": \"#4D5663\"}, \"text\": \"Feature Correlation Matrix\"}, \"xaxis\": {\"gridcolor\": \"#E1E5ED\", \"showgrid\": true, \"tickfont\": {\"color\": \"#4D5663\"}, \"title\": {\"font\": {\"color\": \"#4D5663\"}, \"text\": \"\"}, \"zerolinecolor\": \"#E1E5ED\"}, \"yaxis\": {\"gridcolor\": \"#E1E5ED\", \"showgrid\": true, \"tickfont\": {\"color\": \"#4D5663\"}, \"title\": {\"font\": {\"color\": \"#4D5663\"}, \"text\": \"\"}, \"zerolinecolor\": \"#E1E5ED\"}},\n",
       "                        {\"showLink\": true, \"linkText\": \"Export to plot.ly\", \"plotlyServerURL\": \"https://plot.ly\", \"responsive\": true}\n",
       "                    ).then(function(){\n",
       "                            \n",
       "var gd = document.getElementById('39d8f6ad-7299-48c8-a7c7-ae4f4ba352d2');\n",
       "var x = new MutationObserver(function (mutations, observer) {{\n",
       "        var display = window.getComputedStyle(gd).display;\n",
       "        if (!display || display === 'none') {{\n",
       "            console.log([gd, 'removed!']);\n",
       "            Plotly.purge(gd);\n",
       "            observer.disconnect();\n",
       "        }}\n",
       "}});\n",
       "\n",
       "// Listen for the removal of the full notebook cells\n",
       "var notebookContainer = gd.closest('#notebook-container');\n",
       "if (notebookContainer) {{\n",
       "    x.observe(notebookContainer, {childList: true});\n",
       "}}\n",
       "\n",
       "// Listen for the clearing of the current output cell\n",
       "var outputEl = gd.closest('.output');\n",
       "if (outputEl) {{\n",
       "    x.observe(outputEl, {childList: true});\n",
       "}}\n",
       "\n",
       "                        })\n",
       "                };\n",
       "                });\n",
       "            </script>\n",
       "        </div>"
      ]
     },
     "metadata": {},
     "output_type": "display_data"
    }
   ],
   "source": [
    "data.corr().iplot(kind='heatmap',colorscale=\"blues\", title=\"Feature Correlation Matrix\")"
   ]
  }
 ],
 "metadata": {
  "kernelspec": {
   "display_name": "Python 3",
   "language": "python",
   "name": "python3"
  },
  "language_info": {
   "codemirror_mode": {
    "name": "ipython",
    "version": 3
   },
   "file_extension": ".py",
   "mimetype": "text/x-python",
   "name": "python",
   "nbconvert_exporter": "python",
   "pygments_lexer": "ipython3",
   "version": "3.6.4"
  }
 },
 "nbformat": 4,
 "nbformat_minor": 2
}
