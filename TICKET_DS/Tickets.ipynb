{
 "cells": [
  {
   "cell_type": "markdown",
   "metadata": {},
   "source": [
    "# Tickets issued"
   ]
  },
  {
   "cell_type": "markdown",
   "metadata": {},
   "source": [
    "## Imports\n",
    "\n",
    "Before everything **else**, the imports:"
   ]
  },
  {
   "cell_type": "code",
   "execution_count": 1,
   "metadata": {},
   "outputs": [],
   "source": [
    "#!pip install plotly==3.10.0\n",
    "\n",
    "import pandas as pd\n",
    "import seaborn as sns\n",
    "import numpy as np\n",
    "import matplotlib.pyplot as plt\n",
    "#import plotly.graph_objects as go"
   ]
  },
  {
   "cell_type": "markdown",
   "metadata": {},
   "source": [
    "## Read and show the data\n",
    "\n",
    "Then, read the data and take a look at the data:"
   ]
  },
  {
   "cell_type": "code",
   "execution_count": 2,
   "metadata": {},
   "outputs": [
    {
     "data": {
      "text/plain": [
       "0    3594156\n",
       "1    3508579\n",
       "2    3580991\n",
       "3    3725376\n",
       "Name: count, dtype: int64"
      ]
     },
     "execution_count": 2,
     "metadata": {},
     "output_type": "execute_result"
    }
   ],
   "source": [
    "data = pd.read_csv(\"tickets.csv\")\n",
    "data_per_year = data.groupby(['Violation Year']).size().reset_index(name='count')\n",
    "\n",
    "data_per_year['count']"
   ]
  },
  {
   "cell_type": "code",
   "execution_count": 3,
   "metadata": {},
   "outputs": [
    {
     "name": "stdout",
     "output_type": "stream",
     "text": [
      "-------------------------------\n",
      "Shape of Data - 1/5\n",
      "-------------------------------\n",
      "(14409102, 11)\n",
      "-------------------------------\n",
      "na columns of the data - 2/5\n",
      "-------------------------------\n",
      "Violation Charged Code         0\n",
      "Violation Description          0\n",
      "Violation Year                 0\n",
      "Violation Month                0\n",
      "Violation Day of Week          0\n",
      "Age at Violation          178189\n",
      "Gender                         0\n",
      "State of License              12\n",
      "Police Agency                  0\n",
      "Court                          0\n",
      "Source                         0\n",
      "dtype: int64\n",
      "-------------------------------\n",
      "Dropped na columns - 4/5\n",
      "-------------------------------\n",
      "Violation Charged Code    0\n",
      "Violation Description     0\n",
      "Violation Year            0\n",
      "Violation Month           0\n",
      "Violation Day of Week     0\n",
      "Age at Violation          0\n",
      "Gender                    0\n",
      "State of License          0\n",
      "Police Agency             0\n",
      "Court                     0\n",
      "Source                    0\n",
      "dtype: int64\n",
      "-------------------------------\n",
      "Data Types - 4/5\n",
      "-------------------------------\n",
      "Violation Charged Code     object\n",
      "Violation Description      object\n",
      "Violation Year              int64\n",
      "Violation Month             int64\n",
      "Violation Day of Week      object\n",
      "Age at Violation          float64\n",
      "Gender                     object\n",
      "State of License           object\n",
      "Police Agency              object\n",
      "Court                      object\n",
      "Source                     object\n",
      "dtype: object\n",
      "-------------------------------\n",
      "Data Head - 5/5\n",
      "-------------------------------\n"
     ]
    },
    {
     "data": {
      "text/html": [
       "<div>\n",
       "<style scoped>\n",
       "    .dataframe tbody tr th:only-of-type {\n",
       "        vertical-align: middle;\n",
       "    }\n",
       "\n",
       "    .dataframe tbody tr th {\n",
       "        vertical-align: top;\n",
       "    }\n",
       "\n",
       "    .dataframe thead th {\n",
       "        text-align: right;\n",
       "    }\n",
       "</style>\n",
       "<table border=\"1\" class=\"dataframe\">\n",
       "  <thead>\n",
       "    <tr style=\"text-align: right;\">\n",
       "      <th></th>\n",
       "      <th>Violation Charged Code</th>\n",
       "      <th>Violation Description</th>\n",
       "      <th>Violation Year</th>\n",
       "      <th>Violation Month</th>\n",
       "      <th>Violation Day of Week</th>\n",
       "      <th>Age at Violation</th>\n",
       "      <th>Gender</th>\n",
       "      <th>State of License</th>\n",
       "      <th>Police Agency</th>\n",
       "      <th>Court</th>\n",
       "      <th>Source</th>\n",
       "    </tr>\n",
       "  </thead>\n",
       "  <tbody>\n",
       "    <tr>\n",
       "      <th>0</th>\n",
       "      <td>306B</td>\n",
       "      <td>UNINSPECTED MOTOR VEHICLE</td>\n",
       "      <td>2016</td>\n",
       "      <td>3</td>\n",
       "      <td>TUESDAY</td>\n",
       "      <td>21.0</td>\n",
       "      <td>M</td>\n",
       "      <td>NEW YORK</td>\n",
       "      <td>1000 ISLAND ST PRK POLICE</td>\n",
       "      <td>ADAMS TOWN COURT</td>\n",
       "      <td>TSLED</td>\n",
       "    </tr>\n",
       "    <tr>\n",
       "      <th>1</th>\n",
       "      <td>1180B</td>\n",
       "      <td>SPEED OVER 55 ZONE</td>\n",
       "      <td>2016</td>\n",
       "      <td>3</td>\n",
       "      <td>SATURDAY</td>\n",
       "      <td>18.0</td>\n",
       "      <td>F</td>\n",
       "      <td>NEW YORK</td>\n",
       "      <td>1000 ISLAND ST PRK POLICE</td>\n",
       "      <td>ADAMS TOWN COURT</td>\n",
       "      <td>TSLED</td>\n",
       "    </tr>\n",
       "    <tr>\n",
       "      <th>2</th>\n",
       "      <td>1180B</td>\n",
       "      <td>SPEED OVER 55 ZONE</td>\n",
       "      <td>2016</td>\n",
       "      <td>2</td>\n",
       "      <td>WEDNESDAY</td>\n",
       "      <td>55.0</td>\n",
       "      <td>M</td>\n",
       "      <td>NEW YORK</td>\n",
       "      <td>1000 ISLAND ST PRK POLICE</td>\n",
       "      <td>ADAMS TOWN COURT</td>\n",
       "      <td>TSLED</td>\n",
       "    </tr>\n",
       "    <tr>\n",
       "      <th>3</th>\n",
       "      <td>1180D</td>\n",
       "      <td>SPEED IN ZONE</td>\n",
       "      <td>2016</td>\n",
       "      <td>2</td>\n",
       "      <td>SUNDAY</td>\n",
       "      <td>41.0</td>\n",
       "      <td>M</td>\n",
       "      <td>NEW YORK</td>\n",
       "      <td>1000 ISLAND ST PRK POLICE</td>\n",
       "      <td>ADAMS TOWN COURT</td>\n",
       "      <td>TSLED</td>\n",
       "    </tr>\n",
       "    <tr>\n",
       "      <th>4</th>\n",
       "      <td>1180B</td>\n",
       "      <td>SPEED OVER 55 ZONE</td>\n",
       "      <td>2016</td>\n",
       "      <td>1</td>\n",
       "      <td>THURSDAY</td>\n",
       "      <td>25.0</td>\n",
       "      <td>M</td>\n",
       "      <td>NEW YORK</td>\n",
       "      <td>1000 ISLAND ST PRK POLICE</td>\n",
       "      <td>ADAMS TOWN COURT</td>\n",
       "      <td>TSLED</td>\n",
       "    </tr>\n",
       "  </tbody>\n",
       "</table>\n",
       "</div>"
      ],
      "text/plain": [
       "  Violation Charged Code      Violation Description  Violation Year  \\\n",
       "0                   306B  UNINSPECTED MOTOR VEHICLE            2016   \n",
       "1                  1180B         SPEED OVER 55 ZONE            2016   \n",
       "2                  1180B         SPEED OVER 55 ZONE            2016   \n",
       "3                  1180D              SPEED IN ZONE            2016   \n",
       "4                  1180B         SPEED OVER 55 ZONE            2016   \n",
       "\n",
       "   Violation Month Violation Day of Week  Age at Violation Gender  \\\n",
       "0                3               TUESDAY              21.0      M   \n",
       "1                3              SATURDAY              18.0      F   \n",
       "2                2             WEDNESDAY              55.0      M   \n",
       "3                2                SUNDAY              41.0      M   \n",
       "4                1              THURSDAY              25.0      M   \n",
       "\n",
       "  State of License              Police Agency             Court Source  \n",
       "0         NEW YORK  1000 ISLAND ST PRK POLICE  ADAMS TOWN COURT  TSLED  \n",
       "1         NEW YORK  1000 ISLAND ST PRK POLICE  ADAMS TOWN COURT  TSLED  \n",
       "2         NEW YORK  1000 ISLAND ST PRK POLICE  ADAMS TOWN COURT  TSLED  \n",
       "3         NEW YORK  1000 ISLAND ST PRK POLICE  ADAMS TOWN COURT  TSLED  \n",
       "4         NEW YORK  1000 ISLAND ST PRK POLICE  ADAMS TOWN COURT  TSLED  "
      ]
     },
     "execution_count": 3,
     "metadata": {},
     "output_type": "execute_result"
    }
   ],
   "source": [
    "data = pd.read_csv(\"tickets.csv\") \n",
    "\n",
    "print(\"-------------------------------\")\n",
    "print(\"Shape of Data - 1/5\")\n",
    "print(\"-------------------------------\")\n",
    "print(data.shape)\n",
    "print(\"-------------------------------\")\n",
    "print(\"na columns of the data - 2/5\")\n",
    "print(\"-------------------------------\")\n",
    "print(data.isna().sum())\n",
    "data = data.dropna()\n",
    "print(\"-------------------------------\")\n",
    "print(\"Dropped na columns - 4/5\")\n",
    "print(\"-------------------------------\")\n",
    "print(data.isna().sum())\n",
    "print(\"-------------------------------\")\n",
    "print(\"Data Types - 4/5\")\n",
    "print(\"-------------------------------\")\n",
    "print(data.dtypes)\n",
    "print(\"-------------------------------\")\n",
    "print(\"Data Head - 5/5\")\n",
    "print(\"-------------------------------\")\n",
    "\n",
    "data.head()"
   ]
  },
  {
   "cell_type": "markdown",
   "metadata": {},
   "source": [
    "## Analysis using visualisation\n",
    "\n",
    "This is a lot of data to look at, in order to get an idea of the data and which features might correlate I will start with a correlation map:"
   ]
  },
  {
   "cell_type": "code",
   "execution_count": 7,
   "metadata": {},
   "outputs": [
    {
     "data": {
      "text/html": [
       "        <script type=\"text/javascript\">\n",
       "        window.PlotlyConfig = {MathJaxConfig: 'local'};\n",
       "        if (window.MathJax) {MathJax.Hub.Config({SVG: {font: \"STIX-Web\"}});}\n",
       "        if (typeof require !== 'undefined') {\n",
       "        require.undef(\"plotly\");\n",
       "        requirejs.config({\n",
       "            paths: {\n",
       "                'plotly': ['https://cdn.plot.ly/plotly-latest.min']\n",
       "            }\n",
       "        });\n",
       "        require(['plotly'], function(Plotly) {\n",
       "            window._Plotly = Plotly;\n",
       "        });\n",
       "        }\n",
       "        </script>\n",
       "        "
      ]
     },
     "metadata": {},
     "output_type": "display_data"
    },
    {
     "name": "stdout",
     "output_type": "stream",
     "text": [
      "Aw, snap! We didn't get a username with your request.\n",
      "\n",
      "Don't have an account? https://plot.ly/api_signup\n",
      "\n",
      "Questions? accounts@plot.ly\n"
     ]
    },
    {
     "ename": "PlotlyError",
     "evalue": "Because you didn't supply a 'file_id' in the call, we're assuming you're trying to snag a figure from a url. You supplied the url, '', we expected it to start with 'https://plot.ly'.\nRun help on this function for more information.",
     "output_type": "error",
     "traceback": [
      "\u001b[1;31m---------------------------------------------------------------------------\u001b[0m",
      "\u001b[1;31mPlotlyError\u001b[0m                               Traceback (most recent call last)",
      "\u001b[1;32m<ipython-input-7-bcd427510032>\u001b[0m in \u001b[0;36m<module>\u001b[1;34m()\u001b[0m\n\u001b[0;32m     34\u001b[0m ]\n\u001b[0;32m     35\u001b[0m \u001b[1;33m\u001b[0m\u001b[0m\n\u001b[1;32m---> 36\u001b[1;33m \u001b[0mpy\u001b[0m\u001b[1;33m.\u001b[0m\u001b[0miplot\u001b[0m\u001b[1;33m(\u001b[0m\u001b[0mchart_data\u001b[0m\u001b[1;33m,\u001b[0m \u001b[0mfilename\u001b[0m\u001b[1;33m=\u001b[0m\u001b[1;34m'pandas-bar-chart'\u001b[0m\u001b[1;33m)\u001b[0m\u001b[1;33m\u001b[0m\u001b[0m\n\u001b[0m\u001b[0;32m     37\u001b[0m \u001b[1;31m#url = py.plot(chart_data, filename='pandas-bar-chart')\u001b[0m\u001b[1;33m\u001b[0m\u001b[1;33m\u001b[0m\u001b[0m\n\u001b[0;32m     38\u001b[0m \u001b[1;33m\u001b[0m\u001b[0m\n",
      "\u001b[1;32mH:\\Users\\Jakob Engl\\Anaconda3\\lib\\site-packages\\chart_studio\\plotly\\plotly.py\u001b[0m in \u001b[0;36miplot\u001b[1;34m(figure_or_data, **plot_options)\u001b[0m\n\u001b[0;32m    185\u001b[0m         \u001b[0membed_options\u001b[0m\u001b[1;33m[\u001b[0m\u001b[1;34m'height'\u001b[0m\u001b[1;33m]\u001b[0m \u001b[1;33m=\u001b[0m \u001b[0mstr\u001b[0m\u001b[1;33m(\u001b[0m\u001b[0membed_options\u001b[0m\u001b[1;33m[\u001b[0m\u001b[1;34m'height'\u001b[0m\u001b[1;33m]\u001b[0m\u001b[1;33m)\u001b[0m \u001b[1;33m+\u001b[0m \u001b[1;34m'px'\u001b[0m\u001b[1;33m\u001b[0m\u001b[0m\n\u001b[0;32m    186\u001b[0m \u001b[1;33m\u001b[0m\u001b[0m\n\u001b[1;32m--> 187\u001b[1;33m     \u001b[1;32mreturn\u001b[0m \u001b[0mtools\u001b[0m\u001b[1;33m.\u001b[0m\u001b[0membed\u001b[0m\u001b[1;33m(\u001b[0m\u001b[0murl\u001b[0m\u001b[1;33m,\u001b[0m \u001b[1;33m**\u001b[0m\u001b[0membed_options\u001b[0m\u001b[1;33m)\u001b[0m\u001b[1;33m\u001b[0m\u001b[0m\n\u001b[0m\u001b[0;32m    188\u001b[0m \u001b[1;33m\u001b[0m\u001b[0m\n\u001b[0;32m    189\u001b[0m \u001b[1;33m\u001b[0m\u001b[0m\n",
      "\u001b[1;32mH:\\Users\\Jakob Engl\\Anaconda3\\lib\\site-packages\\chart_studio\\tools.py\u001b[0m in \u001b[0;36membed\u001b[1;34m(file_owner_or_url, file_id, width, height)\u001b[0m\n\u001b[0;32m    362\u001b[0m         \u001b[1;32melse\u001b[0m\u001b[1;33m:\u001b[0m\u001b[1;33m\u001b[0m\u001b[0m\n\u001b[0;32m    363\u001b[0m             \u001b[0murl\u001b[0m \u001b[1;33m=\u001b[0m \u001b[0mfile_owner_or_url\u001b[0m\u001b[1;33m\u001b[0m\u001b[0m\n\u001b[1;32m--> 364\u001b[1;33m         \u001b[1;32mreturn\u001b[0m \u001b[0mPlotlyDisplay\u001b[0m\u001b[1;33m(\u001b[0m\u001b[0murl\u001b[0m\u001b[1;33m,\u001b[0m \u001b[0mwidth\u001b[0m\u001b[1;33m,\u001b[0m \u001b[0mheight\u001b[0m\u001b[1;33m)\u001b[0m\u001b[1;33m\u001b[0m\u001b[0m\n\u001b[0m\u001b[0;32m    365\u001b[0m     \u001b[1;32melse\u001b[0m\u001b[1;33m:\u001b[0m\u001b[1;33m\u001b[0m\u001b[0m\n\u001b[0;32m    366\u001b[0m         if (get_config_defaults()['plotly_domain']\n",
      "\u001b[1;32mH:\\Users\\Jakob Engl\\Anaconda3\\lib\\site-packages\\chart_studio\\tools.py\u001b[0m in \u001b[0;36m__init__\u001b[1;34m(self, url, width, height)\u001b[0m\n\u001b[0;32m    393\u001b[0m         \u001b[1;32mdef\u001b[0m \u001b[0m__init__\u001b[0m\u001b[1;33m(\u001b[0m\u001b[0mself\u001b[0m\u001b[1;33m,\u001b[0m \u001b[0murl\u001b[0m\u001b[1;33m,\u001b[0m \u001b[0mwidth\u001b[0m\u001b[1;33m,\u001b[0m \u001b[0mheight\u001b[0m\u001b[1;33m)\u001b[0m\u001b[1;33m:\u001b[0m\u001b[1;33m\u001b[0m\u001b[0m\n\u001b[0;32m    394\u001b[0m             \u001b[0mself\u001b[0m\u001b[1;33m.\u001b[0m\u001b[0mresource\u001b[0m \u001b[1;33m=\u001b[0m \u001b[0murl\u001b[0m\u001b[1;33m\u001b[0m\u001b[0m\n\u001b[1;32m--> 395\u001b[1;33m             \u001b[0mself\u001b[0m\u001b[1;33m.\u001b[0m\u001b[0membed_code\u001b[0m \u001b[1;33m=\u001b[0m \u001b[0mget_embed\u001b[0m\u001b[1;33m(\u001b[0m\u001b[0murl\u001b[0m\u001b[1;33m,\u001b[0m \u001b[0mwidth\u001b[0m\u001b[1;33m=\u001b[0m\u001b[0mwidth\u001b[0m\u001b[1;33m,\u001b[0m \u001b[0mheight\u001b[0m\u001b[1;33m=\u001b[0m\u001b[0mheight\u001b[0m\u001b[1;33m)\u001b[0m\u001b[1;33m\u001b[0m\u001b[0m\n\u001b[0m\u001b[0;32m    396\u001b[0m             \u001b[0msuper\u001b[0m\u001b[1;33m(\u001b[0m\u001b[0mPlotlyDisplay\u001b[0m\u001b[1;33m,\u001b[0m \u001b[0mself\u001b[0m\u001b[1;33m)\u001b[0m\u001b[1;33m.\u001b[0m\u001b[0m__init__\u001b[0m\u001b[1;33m(\u001b[0m\u001b[0mdata\u001b[0m\u001b[1;33m=\u001b[0m\u001b[0mself\u001b[0m\u001b[1;33m.\u001b[0m\u001b[0membed_code\u001b[0m\u001b[1;33m)\u001b[0m\u001b[1;33m\u001b[0m\u001b[0m\n\u001b[0;32m    397\u001b[0m \u001b[1;33m\u001b[0m\u001b[0m\n",
      "\u001b[1;32mH:\\Users\\Jakob Engl\\Anaconda3\\lib\\site-packages\\chart_studio\\tools.py\u001b[0m in \u001b[0;36mget_embed\u001b[1;34m(file_owner_or_url, file_id, width, height)\u001b[0m\n\u001b[0;32m    267\u001b[0m                 \u001b[1;34m\"'{1}'.\"\u001b[0m\u001b[1;33m\u001b[0m\u001b[0m\n\u001b[0;32m    268\u001b[0m                 \u001b[1;34m\"\\nRun help on this function for more information.\"\u001b[0m\u001b[1;33m\u001b[0m\u001b[0m\n\u001b[1;32m--> 269\u001b[1;33m                 \"\".format(url, plotly_rest_url))\n\u001b[0m\u001b[0;32m    270\u001b[0m         \u001b[0murlsplit\u001b[0m \u001b[1;33m=\u001b[0m \u001b[0msix\u001b[0m\u001b[1;33m.\u001b[0m\u001b[0mmoves\u001b[0m\u001b[1;33m.\u001b[0m\u001b[0murllib\u001b[0m\u001b[1;33m.\u001b[0m\u001b[0mparse\u001b[0m\u001b[1;33m.\u001b[0m\u001b[0murlparse\u001b[0m\u001b[1;33m(\u001b[0m\u001b[0murl\u001b[0m\u001b[1;33m)\u001b[0m\u001b[1;33m\u001b[0m\u001b[0m\n\u001b[0;32m    271\u001b[0m         \u001b[0mfile_owner\u001b[0m \u001b[1;33m=\u001b[0m \u001b[0murlsplit\u001b[0m\u001b[1;33m.\u001b[0m\u001b[0mpath\u001b[0m\u001b[1;33m.\u001b[0m\u001b[0msplit\u001b[0m\u001b[1;33m(\u001b[0m\u001b[1;34m'/'\u001b[0m\u001b[1;33m)\u001b[0m\u001b[1;33m[\u001b[0m\u001b[1;36m1\u001b[0m\u001b[1;33m]\u001b[0m\u001b[1;33m.\u001b[0m\u001b[0msplit\u001b[0m\u001b[1;33m(\u001b[0m\u001b[1;34m'~'\u001b[0m\u001b[1;33m)\u001b[0m\u001b[1;33m[\u001b[0m\u001b[1;36m1\u001b[0m\u001b[1;33m]\u001b[0m\u001b[1;33m\u001b[0m\u001b[0m\n",
      "\u001b[1;31mPlotlyError\u001b[0m: Because you didn't supply a 'file_id' in the call, we're assuming you're trying to snag a figure from a url. You supplied the url, '', we expected it to start with 'https://plot.ly'.\nRun help on this function for more information."
     ]
    }
   ],
   "source": [
    "# Execute in anaconda prompt: $ conda install plotly\n",
    "\n",
    "import chart_studio.plotly as py\n",
    "import scipy as sp\n",
    "import plotly.figure_factory as ff\n",
    "from plotly import graph_objs as go\n",
    "import plotly.express as px\n",
    "import plotly\n",
    "import plotly.graph_objs as go\n",
    "from plotly.offline import *\n",
    "plotly.offline.init_notebook_mode(connected=True)\n",
    "\n",
    "data = data.rename(columns={\"Violation Year\": \"violationyear\"\n",
    "                                                     , \"Violation Month\": \"violationmonth\"\n",
    "})\n",
    "\n",
    "# Casting the data\n",
    "#data['violationyear'] = data['violationyear'].astype('int64')\n",
    "\n",
    "# filtering data\n",
    "#filter = data[\"violationyear\"]<2015 \n",
    "#data.where(filter, inplace = True) \n",
    "\n",
    "data_per_year = data.groupby(['violationyear']).size().reset_index(name='count')\n",
    "\n",
    "data_per_year['count']\n",
    "\n",
    "#chart_data = data.groupby(['Violation Description']).size().sort_values(ascending=False)\n",
    "chart_data = [\n",
    "    go.Bar(\n",
    "        x=data_per_year['violationyear'],\n",
    "        y=data_per_year['count']\n",
    "    )\n",
    "]\n",
    "\n",
    "py.iplot(chart_data, filename='pandas-bar-chart')\n",
    "#url = py.plot(chart_data, filename='pandas-bar-chart')\n",
    "\n"
   ]
  },
  {
   "cell_type": "code",
   "execution_count": 28,
   "metadata": {},
   "outputs": [
    {
     "ename": "AttributeError",
     "evalue": "'Series' object has no attribute 'iplot'",
     "output_type": "error",
     "traceback": [
      "\u001b[1;31m---------------------------------------------------------------------------\u001b[0m",
      "\u001b[1;31mAttributeError\u001b[0m                            Traceback (most recent call last)",
      "\u001b[1;32m<ipython-input-28-3a90e30ad17b>\u001b[0m in \u001b[0;36m<module>\u001b[1;34m()\u001b[0m\n\u001b[0;32m      2\u001b[0m \u001b[1;32mimport\u001b[0m \u001b[0mplotly\u001b[0m\u001b[1;33m\u001b[0m\u001b[0m\n\u001b[0;32m      3\u001b[0m \u001b[1;33m\u001b[0m\u001b[0m\n\u001b[1;32m----> 4\u001b[1;33m \u001b[0mdata\u001b[0m\u001b[1;33m[\u001b[0m\u001b[1;34m\"violationyear\"\u001b[0m\u001b[1;33m]\u001b[0m\u001b[1;33m.\u001b[0m\u001b[0miplot\u001b[0m\u001b[1;33m(\u001b[0m\u001b[0mkind\u001b[0m\u001b[1;33m=\u001b[0m\u001b[1;34m\"histogram\"\u001b[0m\u001b[1;33m,\u001b[0m \u001b[0mbins\u001b[0m\u001b[1;33m=\u001b[0m\u001b[1;36m20\u001b[0m\u001b[1;33m,\u001b[0m \u001b[0mtheme\u001b[0m\u001b[1;33m=\u001b[0m\u001b[1;34m\"white\"\u001b[0m\u001b[1;33m,\u001b[0m \u001b[0mtitle\u001b[0m\u001b[1;33m=\u001b[0m\u001b[1;34m\"Passenger's Ages\"\u001b[0m\u001b[1;33m,\u001b[0m\u001b[0mxTitle\u001b[0m\u001b[1;33m=\u001b[0m\u001b[1;34m'Ages'\u001b[0m\u001b[1;33m,\u001b[0m \u001b[0myTitle\u001b[0m\u001b[1;33m=\u001b[0m\u001b[1;34m'Count'\u001b[0m\u001b[1;33m)\u001b[0m\u001b[1;33m\u001b[0m\u001b[0m\n\u001b[0m",
      "\u001b[1;32mH:\\Users\\Jakob Engl\\Anaconda3\\lib\\site-packages\\pandas\\core\\generic.py\u001b[0m in \u001b[0;36m__getattr__\u001b[1;34m(self, name)\u001b[0m\n\u001b[0;32m   3612\u001b[0m             \u001b[1;32mif\u001b[0m \u001b[0mname\u001b[0m \u001b[1;32min\u001b[0m \u001b[0mself\u001b[0m\u001b[1;33m.\u001b[0m\u001b[0m_info_axis\u001b[0m\u001b[1;33m:\u001b[0m\u001b[1;33m\u001b[0m\u001b[0m\n\u001b[0;32m   3613\u001b[0m                 \u001b[1;32mreturn\u001b[0m \u001b[0mself\u001b[0m\u001b[1;33m[\u001b[0m\u001b[0mname\u001b[0m\u001b[1;33m]\u001b[0m\u001b[1;33m\u001b[0m\u001b[0m\n\u001b[1;32m-> 3614\u001b[1;33m             \u001b[1;32mreturn\u001b[0m \u001b[0mobject\u001b[0m\u001b[1;33m.\u001b[0m\u001b[0m__getattribute__\u001b[0m\u001b[1;33m(\u001b[0m\u001b[0mself\u001b[0m\u001b[1;33m,\u001b[0m \u001b[0mname\u001b[0m\u001b[1;33m)\u001b[0m\u001b[1;33m\u001b[0m\u001b[0m\n\u001b[0m\u001b[0;32m   3615\u001b[0m \u001b[1;33m\u001b[0m\u001b[0m\n\u001b[0;32m   3616\u001b[0m     \u001b[1;32mdef\u001b[0m \u001b[0m__setattr__\u001b[0m\u001b[1;33m(\u001b[0m\u001b[0mself\u001b[0m\u001b[1;33m,\u001b[0m \u001b[0mname\u001b[0m\u001b[1;33m,\u001b[0m \u001b[0mvalue\u001b[0m\u001b[1;33m)\u001b[0m\u001b[1;33m:\u001b[0m\u001b[1;33m\u001b[0m\u001b[0m\n",
      "\u001b[1;31mAttributeError\u001b[0m: 'Series' object has no attribute 'iplot'"
     ]
    }
   ],
   "source": [
    "#!pip install cufflinks --upgrade\n",
    "import plotly\n",
    "\n",
    "data[\"violationyear\"].iplot(kind=\"histogram\", bins=20, theme=\"white\", title=\"Passenger's Ages\",xTitle='Ages', yTitle='Count')\n"
   ]
  },
  {
   "cell_type": "code",
   "execution_count": null,
   "metadata": {},
   "outputs": [],
   "source": [
    "\n",
    "gender = data['Gender'].unique()\n",
    "violation_year = data['Violation Year'].unique()\n",
    "amount_of_violations_per_group = data.groupby(['Violation Description']).size()\n",
    "\n",
    "\n",
    "#tips = px.data.tips()\n",
    "#fig = px.bar(tips, x=gender, y=amount_of_violations_per_group, color=gender)\n",
    "#fig.show()\n",
    "\n",
    "data_tickets = px.data.gapminder().query(\"Gender == 'M'\")\n",
    "\n",
    "#print(data_tickets)\n",
    "\n",
    "fig = px.bar(data_tickets, x='Violation Year', y='Violation Description')\n",
    "fig.show()"
   ]
  },
  {
   "cell_type": "code",
   "execution_count": null,
   "metadata": {},
   "outputs": [],
   "source": [
    "# Remove mirrored correlation\n",
    "mask = np.zeros_like(data.corr(), dtype=np.bool)\n",
    "mask[np.triu_indices_from(mask)] = True\n",
    "# Size of heatmap\n",
    "f, ax = plt.subplots(figsize=(8,8))\n",
    "\n",
    "sns.heatmap(data.corr()\n",
    "                      , mask=mask\n",
    "                      , vmin=-1\n",
    "                      , vmax=1\n",
    "                      , cmap='coolwarm'\n",
    "                      , square=True\n",
    "                      , annot=True\n",
    "                      , linewidths=.7\n",
    ")"
   ]
  },
  {
   "cell_type": "markdown",
   "metadata": {},
   "source": [
    "## Raw analysis\n",
    "\n",
    "This does not really help us a lot... lets take another less visual look at the data:"
   ]
  },
  {
   "cell_type": "code",
   "execution_count": 22,
   "metadata": {},
   "outputs": [
    {
     "name": "stdout",
     "output_type": "stream",
     "text": [
      "violationyear\n",
      "2014.0    3594156\n",
      "Name: violationyear, dtype: int64\n",
      "[2014.   nan]\n",
      "-------------------------------\n",
      "[ 1.  2.  3.  4.  5.  6.  7.  8.  9. 10. 11. 12. nan]\n"
     ]
    }
   ],
   "source": [
    "print(data.groupby('violationyear').violationyear.count())\n",
    "years = data.violationyear.unique()\n",
    "years.sort()\n",
    "print (years)\n",
    "\n",
    "print (\"-------------------------------\")\n",
    "\n",
    "months = data.violationmonth.unique()\n",
    "months.sort()\n",
    "print (months)"
   ]
  },
  {
   "cell_type": "code",
   "execution_count": 21,
   "metadata": {},
   "outputs": [
    {
     "data": {
      "text/plain": [
       "Violation Charged Code    3594156\n",
       "Violation Description     3594156\n",
       "violationyear             3594156\n",
       "violationmonth            3594156\n",
       "Violation Day of Week     3594156\n",
       "Age at Violation          3558934\n",
       "Gender                    3594156\n",
       "State of License          3594144\n",
       "Police Agency             3594156\n",
       "Court                     3594156\n",
       "Source                    3594156\n",
       "dtype: int64"
      ]
     },
     "execution_count": 21,
     "metadata": {},
     "output_type": "execute_result"
    }
   ],
   "source": [
    "#data.groupby(['Violation Description']).size().sort_values(ascending=False)\n",
    "#data.groupby(['violationyear']).size().sort_values(ascending=False)\n",
    "\n",
    "filter = data[\"violationyear\"]<2015 \n",
    "data.where(filter, inplace = True) \n",
    "print(data.count())"
   ]
  }
 ],
 "metadata": {
  "kernelspec": {
   "display_name": "Python 3",
   "language": "python",
   "name": "python3"
  }
 },
 "nbformat": 4,
 "nbformat_minor": 2
}
