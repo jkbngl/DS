{
 "cells": [
  {
   "cell_type": "markdown",
   "metadata": {},
   "source": [
    "# Tickets issued"
   ]
  },
  {
   "cell_type": "markdown",
   "metadata": {},
   "source": [
    "Before everything else, the imports:"
   ]
  },
  {
   "cell_type": "code",
   "execution_count": 1,
   "metadata": {},
   "outputs": [],
   "source": [
    "import pandas as pd\n",
    "import seaborn as sns\n",
    "import numpy as np\n",
    "import matplotlib.pyplot as plt\n",
    "import plotly.plotly as py\n",
    "import plotly.graph_objects as go"
   ]
  },
  {
   "cell_type": "markdown",
   "metadata": {},
   "source": [
    "Then, read the data and take a look at the data:"
   ]
  },
  {
   "cell_type": "code",
   "execution_count": 6,
   "metadata": {},
   "outputs": [
    {
     "name": "stdout",
     "output_type": "stream",
     "text": [
      "(14409102, 11)\n",
      "Violation Charged Code         0\n",
      "Violation Description          0\n",
      "Violation Year                 0\n",
      "Violation Month                0\n",
      "Violation Day of Week          0\n",
      "Age at Violation          178189\n",
      "Gender                         0\n",
      "State of License              12\n",
      "Police Agency                  0\n",
      "Court                          0\n",
      "Source                         0\n",
      "dtype: int64\n"
     ]
    },
    {
     "data": {
      "text/html": [
       "<div>\n",
       "<style scoped>\n",
       "    .dataframe tbody tr th:only-of-type {\n",
       "        vertical-align: middle;\n",
       "    }\n",
       "\n",
       "    .dataframe tbody tr th {\n",
       "        vertical-align: top;\n",
       "    }\n",
       "\n",
       "    .dataframe thead th {\n",
       "        text-align: right;\n",
       "    }\n",
       "</style>\n",
       "<table border=\"1\" class=\"dataframe\">\n",
       "  <thead>\n",
       "    <tr style=\"text-align: right;\">\n",
       "      <th></th>\n",
       "      <th>Violation Charged Code</th>\n",
       "      <th>Violation Description</th>\n",
       "      <th>Violation Year</th>\n",
       "      <th>Violation Month</th>\n",
       "      <th>Violation Day of Week</th>\n",
       "      <th>Age at Violation</th>\n",
       "      <th>Gender</th>\n",
       "      <th>State of License</th>\n",
       "      <th>Police Agency</th>\n",
       "      <th>Court</th>\n",
       "      <th>Source</th>\n",
       "    </tr>\n",
       "  </thead>\n",
       "  <tbody>\n",
       "    <tr>\n",
       "      <th>0</th>\n",
       "      <td>306B</td>\n",
       "      <td>UNINSPECTED MOTOR VEHICLE</td>\n",
       "      <td>2016</td>\n",
       "      <td>3</td>\n",
       "      <td>TUESDAY</td>\n",
       "      <td>21.0</td>\n",
       "      <td>M</td>\n",
       "      <td>NEW YORK</td>\n",
       "      <td>1000 ISLAND ST PRK POLICE</td>\n",
       "      <td>ADAMS TOWN COURT</td>\n",
       "      <td>TSLED</td>\n",
       "    </tr>\n",
       "    <tr>\n",
       "      <th>1</th>\n",
       "      <td>1180B</td>\n",
       "      <td>SPEED OVER 55 ZONE</td>\n",
       "      <td>2016</td>\n",
       "      <td>3</td>\n",
       "      <td>SATURDAY</td>\n",
       "      <td>18.0</td>\n",
       "      <td>F</td>\n",
       "      <td>NEW YORK</td>\n",
       "      <td>1000 ISLAND ST PRK POLICE</td>\n",
       "      <td>ADAMS TOWN COURT</td>\n",
       "      <td>TSLED</td>\n",
       "    </tr>\n",
       "    <tr>\n",
       "      <th>2</th>\n",
       "      <td>1180B</td>\n",
       "      <td>SPEED OVER 55 ZONE</td>\n",
       "      <td>2016</td>\n",
       "      <td>2</td>\n",
       "      <td>WEDNESDAY</td>\n",
       "      <td>55.0</td>\n",
       "      <td>M</td>\n",
       "      <td>NEW YORK</td>\n",
       "      <td>1000 ISLAND ST PRK POLICE</td>\n",
       "      <td>ADAMS TOWN COURT</td>\n",
       "      <td>TSLED</td>\n",
       "    </tr>\n",
       "    <tr>\n",
       "      <th>3</th>\n",
       "      <td>1180D</td>\n",
       "      <td>SPEED IN ZONE</td>\n",
       "      <td>2016</td>\n",
       "      <td>2</td>\n",
       "      <td>SUNDAY</td>\n",
       "      <td>41.0</td>\n",
       "      <td>M</td>\n",
       "      <td>NEW YORK</td>\n",
       "      <td>1000 ISLAND ST PRK POLICE</td>\n",
       "      <td>ADAMS TOWN COURT</td>\n",
       "      <td>TSLED</td>\n",
       "    </tr>\n",
       "    <tr>\n",
       "      <th>4</th>\n",
       "      <td>1180B</td>\n",
       "      <td>SPEED OVER 55 ZONE</td>\n",
       "      <td>2016</td>\n",
       "      <td>1</td>\n",
       "      <td>THURSDAY</td>\n",
       "      <td>25.0</td>\n",
       "      <td>M</td>\n",
       "      <td>NEW YORK</td>\n",
       "      <td>1000 ISLAND ST PRK POLICE</td>\n",
       "      <td>ADAMS TOWN COURT</td>\n",
       "      <td>TSLED</td>\n",
       "    </tr>\n",
       "  </tbody>\n",
       "</table>\n",
       "</div>"
      ],
      "text/plain": [
       "  Violation Charged Code      Violation Description  Violation Year  \\\n",
       "0                   306B  UNINSPECTED MOTOR VEHICLE            2016   \n",
       "1                  1180B         SPEED OVER 55 ZONE            2016   \n",
       "2                  1180B         SPEED OVER 55 ZONE            2016   \n",
       "3                  1180D              SPEED IN ZONE            2016   \n",
       "4                  1180B         SPEED OVER 55 ZONE            2016   \n",
       "\n",
       "   Violation Month Violation Day of Week  Age at Violation Gender  \\\n",
       "0                3               TUESDAY              21.0      M   \n",
       "1                3              SATURDAY              18.0      F   \n",
       "2                2             WEDNESDAY              55.0      M   \n",
       "3                2                SUNDAY              41.0      M   \n",
       "4                1              THURSDAY              25.0      M   \n",
       "\n",
       "  State of License              Police Agency             Court Source  \n",
       "0         NEW YORK  1000 ISLAND ST PRK POLICE  ADAMS TOWN COURT  TSLED  \n",
       "1         NEW YORK  1000 ISLAND ST PRK POLICE  ADAMS TOWN COURT  TSLED  \n",
       "2         NEW YORK  1000 ISLAND ST PRK POLICE  ADAMS TOWN COURT  TSLED  \n",
       "3         NEW YORK  1000 ISLAND ST PRK POLICE  ADAMS TOWN COURT  TSLED  \n",
       "4         NEW YORK  1000 ISLAND ST PRK POLICE  ADAMS TOWN COURT  TSLED  "
      ]
     },
     "execution_count": 6,
     "metadata": {},
     "output_type": "execute_result"
    }
   ],
   "source": [
    "#data = pd.read_csv(\"tickets.csv\") \n",
    "print(data.shape)\n",
    "print(data.isna().sum())\n",
    "data.head()"
   ]
  },
  {
   "cell_type": "code",
   "execution_count": null,
   "metadata": {},
   "outputs": [],
   "source": []
  }
 ],
 "metadata": {
  "kernelspec": {
   "display_name": "Python 3",
   "language": "python",
   "name": "python3"
  },
  "language_info": {
   "codemirror_mode": {
    "name": "ipython",
    "version": 3
   },
   "file_extension": ".py",
   "mimetype": "text/x-python",
   "name": "python",
   "nbconvert_exporter": "python",
   "pygments_lexer": "ipython3",
   "version": "3.6.4"
  }
 },
 "nbformat": 4,
 "nbformat_minor": 2
}
