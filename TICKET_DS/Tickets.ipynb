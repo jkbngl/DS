{
 "cells": [
  {
   "cell_type": "markdown",
   "metadata": {},
   "source": [
    "# Tickets issued"
   ]
  },
  {
   "cell_type": "markdown",
   "metadata": {},
   "source": [
    "## Imports\n",
    "\n",
    "Before everything **else**, the imports:"
   ]
  },
  {
   "cell_type": "code",
   "execution_count": 1,
   "metadata": {},
   "outputs": [],
   "source": [
    "#!pip install plotly==3.10.0\n",
    "\n",
    "import pandas as pd\n",
    "import seaborn as sns\n",
    "import numpy as np\n",
    "import matplotlib.pyplot as plt\n",
    "#import plotly.graph_objects as go"
   ]
  },
  {
   "cell_type": "markdown",
   "metadata": {},
   "source": [
    "## Read and show the data\n",
    "\n",
    "Then, read the data and take a look at the data:"
   ]
  },
  {
   "cell_type": "code",
   "execution_count": 2,
   "metadata": {},
   "outputs": [
    {
     "name": "stdout",
     "output_type": "stream",
     "text": [
      "(14409102, 11)\n",
      "Violation Charged Code         0\n",
      "Violation Description          0\n",
      "Violation Year                 0\n",
      "Violation Month                0\n",
      "Violation Day of Week          0\n",
      "Age at Violation          178189\n",
      "Gender                         0\n",
      "State of License              12\n",
      "Police Agency                  0\n",
      "Court                          0\n",
      "Source                         0\n",
      "dtype: int64\n",
      "Violation Charged Code     object\n",
      "Violation Description      object\n",
      "Violation Year              int64\n",
      "Violation Month             int64\n",
      "Violation Day of Week      object\n",
      "Age at Violation          float64\n",
      "Gender                     object\n",
      "State of License           object\n",
      "Police Agency              object\n",
      "Court                      object\n",
      "Source                     object\n",
      "dtype: object\n"
     ]
    },
    {
     "data": {
      "text/html": [
       "<div>\n",
       "<style scoped>\n",
       "    .dataframe tbody tr th:only-of-type {\n",
       "        vertical-align: middle;\n",
       "    }\n",
       "\n",
       "    .dataframe tbody tr th {\n",
       "        vertical-align: top;\n",
       "    }\n",
       "\n",
       "    .dataframe thead th {\n",
       "        text-align: right;\n",
       "    }\n",
       "</style>\n",
       "<table border=\"1\" class=\"dataframe\">\n",
       "  <thead>\n",
       "    <tr style=\"text-align: right;\">\n",
       "      <th></th>\n",
       "      <th>Violation Charged Code</th>\n",
       "      <th>Violation Description</th>\n",
       "      <th>Violation Year</th>\n",
       "      <th>Violation Month</th>\n",
       "      <th>Violation Day of Week</th>\n",
       "      <th>Age at Violation</th>\n",
       "      <th>Gender</th>\n",
       "      <th>State of License</th>\n",
       "      <th>Police Agency</th>\n",
       "      <th>Court</th>\n",
       "      <th>Source</th>\n",
       "    </tr>\n",
       "  </thead>\n",
       "  <tbody>\n",
       "    <tr>\n",
       "      <th>0</th>\n",
       "      <td>306B</td>\n",
       "      <td>UNINSPECTED MOTOR VEHICLE</td>\n",
       "      <td>2016</td>\n",
       "      <td>3</td>\n",
       "      <td>TUESDAY</td>\n",
       "      <td>21.0</td>\n",
       "      <td>M</td>\n",
       "      <td>NEW YORK</td>\n",
       "      <td>1000 ISLAND ST PRK POLICE</td>\n",
       "      <td>ADAMS TOWN COURT</td>\n",
       "      <td>TSLED</td>\n",
       "    </tr>\n",
       "    <tr>\n",
       "      <th>1</th>\n",
       "      <td>1180B</td>\n",
       "      <td>SPEED OVER 55 ZONE</td>\n",
       "      <td>2016</td>\n",
       "      <td>3</td>\n",
       "      <td>SATURDAY</td>\n",
       "      <td>18.0</td>\n",
       "      <td>F</td>\n",
       "      <td>NEW YORK</td>\n",
       "      <td>1000 ISLAND ST PRK POLICE</td>\n",
       "      <td>ADAMS TOWN COURT</td>\n",
       "      <td>TSLED</td>\n",
       "    </tr>\n",
       "    <tr>\n",
       "      <th>2</th>\n",
       "      <td>1180B</td>\n",
       "      <td>SPEED OVER 55 ZONE</td>\n",
       "      <td>2016</td>\n",
       "      <td>2</td>\n",
       "      <td>WEDNESDAY</td>\n",
       "      <td>55.0</td>\n",
       "      <td>M</td>\n",
       "      <td>NEW YORK</td>\n",
       "      <td>1000 ISLAND ST PRK POLICE</td>\n",
       "      <td>ADAMS TOWN COURT</td>\n",
       "      <td>TSLED</td>\n",
       "    </tr>\n",
       "    <tr>\n",
       "      <th>3</th>\n",
       "      <td>1180D</td>\n",
       "      <td>SPEED IN ZONE</td>\n",
       "      <td>2016</td>\n",
       "      <td>2</td>\n",
       "      <td>SUNDAY</td>\n",
       "      <td>41.0</td>\n",
       "      <td>M</td>\n",
       "      <td>NEW YORK</td>\n",
       "      <td>1000 ISLAND ST PRK POLICE</td>\n",
       "      <td>ADAMS TOWN COURT</td>\n",
       "      <td>TSLED</td>\n",
       "    </tr>\n",
       "    <tr>\n",
       "      <th>4</th>\n",
       "      <td>1180B</td>\n",
       "      <td>SPEED OVER 55 ZONE</td>\n",
       "      <td>2016</td>\n",
       "      <td>1</td>\n",
       "      <td>THURSDAY</td>\n",
       "      <td>25.0</td>\n",
       "      <td>M</td>\n",
       "      <td>NEW YORK</td>\n",
       "      <td>1000 ISLAND ST PRK POLICE</td>\n",
       "      <td>ADAMS TOWN COURT</td>\n",
       "      <td>TSLED</td>\n",
       "    </tr>\n",
       "  </tbody>\n",
       "</table>\n",
       "</div>"
      ],
      "text/plain": [
       "  Violation Charged Code      Violation Description  Violation Year  \\\n",
       "0                   306B  UNINSPECTED MOTOR VEHICLE            2016   \n",
       "1                  1180B         SPEED OVER 55 ZONE            2016   \n",
       "2                  1180B         SPEED OVER 55 ZONE            2016   \n",
       "3                  1180D              SPEED IN ZONE            2016   \n",
       "4                  1180B         SPEED OVER 55 ZONE            2016   \n",
       "\n",
       "   Violation Month Violation Day of Week  Age at Violation Gender  \\\n",
       "0                3               TUESDAY              21.0      M   \n",
       "1                3              SATURDAY              18.0      F   \n",
       "2                2             WEDNESDAY              55.0      M   \n",
       "3                2                SUNDAY              41.0      M   \n",
       "4                1              THURSDAY              25.0      M   \n",
       "\n",
       "  State of License              Police Agency             Court Source  \n",
       "0         NEW YORK  1000 ISLAND ST PRK POLICE  ADAMS TOWN COURT  TSLED  \n",
       "1         NEW YORK  1000 ISLAND ST PRK POLICE  ADAMS TOWN COURT  TSLED  \n",
       "2         NEW YORK  1000 ISLAND ST PRK POLICE  ADAMS TOWN COURT  TSLED  \n",
       "3         NEW YORK  1000 ISLAND ST PRK POLICE  ADAMS TOWN COURT  TSLED  \n",
       "4         NEW YORK  1000 ISLAND ST PRK POLICE  ADAMS TOWN COURT  TSLED  "
      ]
     },
     "execution_count": 2,
     "metadata": {},
     "output_type": "execute_result"
    }
   ],
   "source": [
    "data = pd.read_csv(\"tickets.csv\") \n",
    "print(data.shape)\n",
    "print(data.isna().sum())\n",
    "print(data.dtypes)\n",
    "data.head()"
   ]
  },
  {
   "cell_type": "markdown",
   "metadata": {},
   "source": [
    "## Analysis using visualisation\n",
    "\n",
    "This is a lot of data to look at, in order to get an idea of the data and which features might correlate I will start with a correlation map:"
   ]
  },
  {
   "cell_type": "code",
   "execution_count": 21,
   "metadata": {},
   "outputs": [
    {
     "data": {
      "application/vnd.plotly.v1+json": {
       "config": {
        "plotlyServerURL": "https://plot.ly"
       },
       "data": [
        {
         "type": "bar",
         "x": [
          2016,
          2014,
          2017,
          2015
         ],
         "y": [
          3,
          220,
          1,
          12,
          182,
          3158,
          3145,
          1122,
          26133,
          14748,
          4423,
          9970,
          42571,
          307811,
          29675,
          6053,
          432,
          64,
          160,
          93,
          1,
          12,
          169,
          1,
          2,
          338,
          10659,
          39343,
          32055,
          25727,
          3400,
          27181,
          1501,
          133,
          3,
          44,
          6029,
          3062,
          115,
          232,
          754,
          132,
          54,
          85,
          2,
          7,
          8,
          110,
          14,
          1,
          1,
          1,
          98,
          752,
          6,
          10,
          739,
          2,
          34059,
          5,
          2,
          1,
          55,
          69,
          2713,
          1732,
          1717,
          39,
          1,
          1,
          848,
          801,
          23,
          6699,
          1,
          2,
          2,
          55,
          4793,
          1047136,
          14120,
          423,
          5,
          23,
          1,
          37,
          30,
          2,
          6,
          54,
          104,
          1159,
          7,
          373,
          16,
          51,
          105938,
          2848,
          15508,
          3402,
          3545,
          1386,
          27,
          57,
          26616,
          3757,
          452,
          74979,
          31,
          23,
          15473,
          28,
          18,
          5145,
          7,
          6,
          127334,
          66,
          46,
          17,
          724,
          25855,
          42655,
          866,
          6131,
          941,
          12846,
          124,
          2,
          65,
          1,
          2561,
          1,
          1,
          4,
          1,
          495,
          8081,
          377,
          28,
          2,
          3,
          44,
          6177,
          460,
          8,
          102,
          28,
          2,
          2609,
          80,
          3222,
          650,
          1706,
          174,
          267,
          59,
          19,
          11,
          5367,
          111,
          628,
          232,
          68,
          12,
          343,
          1434,
          31,
          1,
          2326,
          62,
          8383,
          14019,
          5827,
          1,
          19472,
          704,
          870,
          8,
          58381,
          820,
          7,
          616,
          21255,
          5144,
          19,
          1,
          2,
          1,
          203,
          4250,
          283,
          190,
          1,
          1,
          19116,
          34042,
          10433,
          2224,
          69,
          1,
          4,
          12,
          1756,
          652,
          526,
          35,
          918,
          9365,
          3,
          14,
          64,
          159,
          34,
          2,
          243,
          7,
          21,
          19,
          266,
          1,
          362,
          1,
          19,
          1038,
          118,
          2,
          53036,
          2573,
          827,
          1,
          11526,
          37981,
          68,
          30,
          61,
          11,
          2,
          13,
          2,
          1,
          4,
          6,
          19,
          256,
          1,
          2,
          6,
          1486,
          1,
          92,
          71,
          7,
          185,
          441460,
          949,
          1338,
          14196,
          25064,
          9,
          182,
          32,
          1078,
          85,
          32,
          10840,
          15337,
          1541,
          1625,
          27803,
          28,
          18511,
          11843,
          2339,
          14370,
          6,
          5,
          44,
          2,
          143968,
          11,
          16,
          32,
          120,
          6368,
          1836,
          2,
          13,
          1,
          2,
          1,
          681,
          5002,
          134,
          1,
          1,
          1502,
          267,
          66131,
          3,
          31104,
          22909,
          233,
          88,
          49,
          96835,
          5278,
          4,
          1875,
          5400,
          1594,
          10254,
          1,
          895,
          89,
          91,
          525,
          89,
          2179,
          1724,
          560,
          519,
          1017,
          1162,
          2,
          27,
          18,
          2,
          47,
          80,
          418,
          434,
          9970,
          15,
          122,
          33,
          149,
          3,
          16990,
          23,
          64,
          10,
          99,
          249,
          22112,
          30572,
          185,
          1012,
          6402,
          42018,
          16493,
          2003,
          38711,
          745,
          270,
          47536,
          1,
          14,
          221879,
          3,
          784,
          3079,
          166059,
          25409,
          2582,
          321,
          720,
          430,
          4,
          49,
          19,
          13598,
          247,
          1150,
          1867,
          21,
          3,
          33,
          1,
          1706,
          22,
          4783,
          133,
          44,
          713,
          118,
          6,
          2109,
          32983,
          288367,
          2,
          4450,
          1096,
          680,
          1209,
          7,
          5277,
          1,
          58212,
          101,
          46410,
          589,
          935,
          2862,
          4,
          6931,
          32,
          12,
          50,
          208,
          41,
          133,
          35,
          243,
          3554,
          41009,
          328,
          1032,
          36214,
          5,
          442,
          117,
          324,
          3306,
          66,
          211,
          1970,
          1,
          47,
          6,
          219,
          31,
          173658,
          69,
          160823,
          18,
          3,
          4,
          7,
          68,
          38,
          3685,
          3095,
          1484,
          1,
          288,
          6491,
          7852,
          89,
          7,
          95,
          1,
          4,
          2,
          3,
          37,
          2,
          288,
          43,
          1,
          4,
          1,
          16,
          1726,
          278,
          391,
          27836,
          257,
          2060,
          30,
          451,
          249947,
          70,
          60,
          7,
          103,
          4198,
          10938,
          3148,
          2,
          2,
          10,
          2082,
          98,
          1895,
          2971,
          14,
          2,
          65,
          5414,
          632,
          245,
          446,
          1104,
          15,
          142,
          1,
          1371,
          1,
          380,
          129,
          2564,
          13931,
          479,
          4,
          307668,
          23173,
          87,
          157,
          36296,
          348,
          288,
          1,
          3,
          94,
          65,
          57,
          260,
          3,
          11385,
          12,
          2,
          469,
          18228,
          63,
          344,
          91,
          17812,
          1482,
          354865,
          3874,
          104449,
          115458,
          751,
          146567,
          170,
          973,
          11,
          42,
          1,
          7,
          126,
          535,
          49,
          387,
          67,
          54987,
          156595,
          1,
          390,
          4415,
          121,
          11671,
          1,
          1,
          7063,
          363,
          14,
          472,
          25,
          394,
          711,
          51,
          23,
          13,
          659,
          7,
          7,
          4,
          371,
          46,
          619,
          106,
          894,
          364126,
          13430,
          3407,
          67,
          1,
          10,
          17568,
          115,
          18,
          697,
          18051,
          280,
          5,
          16,
          153,
          7683,
          114,
          1271,
          182,
          16,
          252,
          43,
          17602,
          515308,
          42883,
          132923,
          20,
          8,
          3041,
          409102,
          454,
          690,
          1068,
          13,
          3,
          10,
          490,
          1,
          5,
          505,
          789,
          40,
          80,
          4,
          1156,
          2,
          751,
          136,
          1796,
          4053,
          4,
          11,
          585,
          876,
          2,
          5,
          9810,
          1440,
          94,
          1783,
          4978,
          1470,
          1267,
          8,
          1002,
          1046,
          371,
          2908,
          2174,
          1,
          1,
          152,
          373,
          1516,
          30,
          58,
          2,
          25,
          4620,
          121860,
          235,
          16038,
          3697,
          388,
          42,
          324,
          29,
          499,
          732,
          79,
          71,
          6,
          67,
          29,
          1647,
          234,
          283,
          567,
          4,
          13,
          80,
          98,
          186,
          2,
          94,
          5,
          334,
          3,
          70,
          53,
          6205,
          11511,
          754,
          1,
          3,
          38,
          2,
          10,
          228074,
          695,
          18,
          2096,
          1,
          95,
          3,
          22,
          109,
          1783,
          4,
          4512,
          11,
          17,
          1,
          52655,
          3716,
          13220,
          347,
          5,
          18515,
          7,
          51,
          282,
          3,
          36,
          1,
          1,
          131,
          193,
          5,
          5727,
          92,
          94,
          22360,
          360,
          15423,
          29,
          1,
          81,
          7,
          3,
          1,
          1,
          89,
          38,
          48,
          6,
          46,
          279,
          3,
          622,
          2592,
          461645,
          4,
          2,
          7,
          242,
          1091,
          13,
          10,
          3,
          25,
          1443,
          9,
          235,
          2566,
          1852,
          1,
          6662,
          71856,
          534,
          15071,
          1438817,
          13066,
          429316,
          37962,
          4,
          1,
          83347,
          420,
          650177,
          487,
          347,
          7,
          122,
          4,
          5,
          12,
          1156,
          2700,
          1,
          169,
          1528,
          11804,
          26909,
          49431,
          204,
          85,
          1,
          40,
          58,
          1,
          31,
          1,
          1,
          3527,
          212,
          1,
          95,
          732,
          7804,
          86,
          37,
          7,
          4,
          177,
          18,
          14584,
          701,
          839,
          58,
          31815,
          327,
          1126,
          96,
          678,
          1844,
          67,
          859,
          6160,
          7324,
          126,
          5235,
          3,
          19,
          27,
          62,
          72,
          1,
          424,
          3,
          54,
          463,
          310,
          1,
          11,
          6,
          231,
          135,
          6,
          125,
          5474,
          148,
          696,
          2,
          5857,
          93,
          428,
          1,
          2171,
          1032,
          17,
          1004,
          7947,
          4,
          1,
          52,
          11116,
          772,
          67,
          665010,
          386,
          7,
          93,
          11,
          31,
          67,
          2635,
          571,
          69,
          12,
          20014,
          364,
          99,
          5,
          2,
          210,
          1443,
          14,
          239,
          4,
          1,
          24,
          1,
          180431,
          133,
          626799,
          356,
          7,
          1416,
          10767,
          2,
          1,
          15,
          1224,
          3,
          1836,
          218,
          32122,
          3102,
          1183,
          27,
          4,
          2,
          880,
          284280,
          4494,
          4,
          1,
          15836,
          1,
          675,
          2,
          23,
          7,
          8917,
          41492,
          2,
          97,
          127,
          2,
          28,
          5824,
          164,
          52,
          2729,
          1604,
          120,
          51,
          6,
          111,
          1,
          15,
          5,
          125,
          46,
          84,
          29,
          105,
          12,
          1689,
          46703,
          1,
          25
         ]
        }
       ],
       "layout": {
        "template": {
         "data": {
          "bar": [
           {
            "error_x": {
             "color": "#2a3f5f"
            },
            "error_y": {
             "color": "#2a3f5f"
            },
            "marker": {
             "line": {
              "color": "#E5ECF6",
              "width": 0.5
             }
            },
            "type": "bar"
           }
          ],
          "barpolar": [
           {
            "marker": {
             "line": {
              "color": "#E5ECF6",
              "width": 0.5
             }
            },
            "type": "barpolar"
           }
          ],
          "carpet": [
           {
            "aaxis": {
             "endlinecolor": "#2a3f5f",
             "gridcolor": "white",
             "linecolor": "white",
             "minorgridcolor": "white",
             "startlinecolor": "#2a3f5f"
            },
            "baxis": {
             "endlinecolor": "#2a3f5f",
             "gridcolor": "white",
             "linecolor": "white",
             "minorgridcolor": "white",
             "startlinecolor": "#2a3f5f"
            },
            "type": "carpet"
           }
          ],
          "choropleth": [
           {
            "colorbar": {
             "outlinewidth": 0,
             "ticks": ""
            },
            "type": "choropleth"
           }
          ],
          "contour": [
           {
            "colorbar": {
             "outlinewidth": 0,
             "ticks": ""
            },
            "colorscale": [
             [
              0,
              "#0d0887"
             ],
             [
              0.1111111111111111,
              "#46039f"
             ],
             [
              0.2222222222222222,
              "#7201a8"
             ],
             [
              0.3333333333333333,
              "#9c179e"
             ],
             [
              0.4444444444444444,
              "#bd3786"
             ],
             [
              0.5555555555555556,
              "#d8576b"
             ],
             [
              0.6666666666666666,
              "#ed7953"
             ],
             [
              0.7777777777777778,
              "#fb9f3a"
             ],
             [
              0.8888888888888888,
              "#fdca26"
             ],
             [
              1,
              "#f0f921"
             ]
            ],
            "type": "contour"
           }
          ],
          "contourcarpet": [
           {
            "colorbar": {
             "outlinewidth": 0,
             "ticks": ""
            },
            "type": "contourcarpet"
           }
          ],
          "heatmap": [
           {
            "colorbar": {
             "outlinewidth": 0,
             "ticks": ""
            },
            "colorscale": [
             [
              0,
              "#0d0887"
             ],
             [
              0.1111111111111111,
              "#46039f"
             ],
             [
              0.2222222222222222,
              "#7201a8"
             ],
             [
              0.3333333333333333,
              "#9c179e"
             ],
             [
              0.4444444444444444,
              "#bd3786"
             ],
             [
              0.5555555555555556,
              "#d8576b"
             ],
             [
              0.6666666666666666,
              "#ed7953"
             ],
             [
              0.7777777777777778,
              "#fb9f3a"
             ],
             [
              0.8888888888888888,
              "#fdca26"
             ],
             [
              1,
              "#f0f921"
             ]
            ],
            "type": "heatmap"
           }
          ],
          "heatmapgl": [
           {
            "colorbar": {
             "outlinewidth": 0,
             "ticks": ""
            },
            "colorscale": [
             [
              0,
              "#0d0887"
             ],
             [
              0.1111111111111111,
              "#46039f"
             ],
             [
              0.2222222222222222,
              "#7201a8"
             ],
             [
              0.3333333333333333,
              "#9c179e"
             ],
             [
              0.4444444444444444,
              "#bd3786"
             ],
             [
              0.5555555555555556,
              "#d8576b"
             ],
             [
              0.6666666666666666,
              "#ed7953"
             ],
             [
              0.7777777777777778,
              "#fb9f3a"
             ],
             [
              0.8888888888888888,
              "#fdca26"
             ],
             [
              1,
              "#f0f921"
             ]
            ],
            "type": "heatmapgl"
           }
          ],
          "histogram": [
           {
            "marker": {
             "colorbar": {
              "outlinewidth": 0,
              "ticks": ""
             }
            },
            "type": "histogram"
           }
          ],
          "histogram2d": [
           {
            "colorbar": {
             "outlinewidth": 0,
             "ticks": ""
            },
            "colorscale": [
             [
              0,
              "#0d0887"
             ],
             [
              0.1111111111111111,
              "#46039f"
             ],
             [
              0.2222222222222222,
              "#7201a8"
             ],
             [
              0.3333333333333333,
              "#9c179e"
             ],
             [
              0.4444444444444444,
              "#bd3786"
             ],
             [
              0.5555555555555556,
              "#d8576b"
             ],
             [
              0.6666666666666666,
              "#ed7953"
             ],
             [
              0.7777777777777778,
              "#fb9f3a"
             ],
             [
              0.8888888888888888,
              "#fdca26"
             ],
             [
              1,
              "#f0f921"
             ]
            ],
            "type": "histogram2d"
           }
          ],
          "histogram2dcontour": [
           {
            "colorbar": {
             "outlinewidth": 0,
             "ticks": ""
            },
            "colorscale": [
             [
              0,
              "#0d0887"
             ],
             [
              0.1111111111111111,
              "#46039f"
             ],
             [
              0.2222222222222222,
              "#7201a8"
             ],
             [
              0.3333333333333333,
              "#9c179e"
             ],
             [
              0.4444444444444444,
              "#bd3786"
             ],
             [
              0.5555555555555556,
              "#d8576b"
             ],
             [
              0.6666666666666666,
              "#ed7953"
             ],
             [
              0.7777777777777778,
              "#fb9f3a"
             ],
             [
              0.8888888888888888,
              "#fdca26"
             ],
             [
              1,
              "#f0f921"
             ]
            ],
            "type": "histogram2dcontour"
           }
          ],
          "mesh3d": [
           {
            "colorbar": {
             "outlinewidth": 0,
             "ticks": ""
            },
            "type": "mesh3d"
           }
          ],
          "parcoords": [
           {
            "line": {
             "colorbar": {
              "outlinewidth": 0,
              "ticks": ""
             }
            },
            "type": "parcoords"
           }
          ],
          "scatter": [
           {
            "marker": {
             "colorbar": {
              "outlinewidth": 0,
              "ticks": ""
             }
            },
            "type": "scatter"
           }
          ],
          "scatter3d": [
           {
            "line": {
             "colorbar": {
              "outlinewidth": 0,
              "ticks": ""
             }
            },
            "marker": {
             "colorbar": {
              "outlinewidth": 0,
              "ticks": ""
             }
            },
            "type": "scatter3d"
           }
          ],
          "scattercarpet": [
           {
            "marker": {
             "colorbar": {
              "outlinewidth": 0,
              "ticks": ""
             }
            },
            "type": "scattercarpet"
           }
          ],
          "scattergeo": [
           {
            "marker": {
             "colorbar": {
              "outlinewidth": 0,
              "ticks": ""
             }
            },
            "type": "scattergeo"
           }
          ],
          "scattergl": [
           {
            "marker": {
             "colorbar": {
              "outlinewidth": 0,
              "ticks": ""
             }
            },
            "type": "scattergl"
           }
          ],
          "scattermapbox": [
           {
            "marker": {
             "colorbar": {
              "outlinewidth": 0,
              "ticks": ""
             }
            },
            "type": "scattermapbox"
           }
          ],
          "scatterpolar": [
           {
            "marker": {
             "colorbar": {
              "outlinewidth": 0,
              "ticks": ""
             }
            },
            "type": "scatterpolar"
           }
          ],
          "scatterpolargl": [
           {
            "marker": {
             "colorbar": {
              "outlinewidth": 0,
              "ticks": ""
             }
            },
            "type": "scatterpolargl"
           }
          ],
          "scatterternary": [
           {
            "marker": {
             "colorbar": {
              "outlinewidth": 0,
              "ticks": ""
             }
            },
            "type": "scatterternary"
           }
          ],
          "surface": [
           {
            "colorbar": {
             "outlinewidth": 0,
             "ticks": ""
            },
            "colorscale": [
             [
              0,
              "#0d0887"
             ],
             [
              0.1111111111111111,
              "#46039f"
             ],
             [
              0.2222222222222222,
              "#7201a8"
             ],
             [
              0.3333333333333333,
              "#9c179e"
             ],
             [
              0.4444444444444444,
              "#bd3786"
             ],
             [
              0.5555555555555556,
              "#d8576b"
             ],
             [
              0.6666666666666666,
              "#ed7953"
             ],
             [
              0.7777777777777778,
              "#fb9f3a"
             ],
             [
              0.8888888888888888,
              "#fdca26"
             ],
             [
              1,
              "#f0f921"
             ]
            ],
            "type": "surface"
           }
          ],
          "table": [
           {
            "cells": {
             "fill": {
              "color": "#EBF0F8"
             },
             "line": {
              "color": "white"
             }
            },
            "header": {
             "fill": {
              "color": "#C8D4E3"
             },
             "line": {
              "color": "white"
             }
            },
            "type": "table"
           }
          ]
         },
         "layout": {
          "annotationdefaults": {
           "arrowcolor": "#2a3f5f",
           "arrowhead": 0,
           "arrowwidth": 1
          },
          "colorscale": {
           "diverging": [
            [
             0,
             "#8e0152"
            ],
            [
             0.1,
             "#c51b7d"
            ],
            [
             0.2,
             "#de77ae"
            ],
            [
             0.3,
             "#f1b6da"
            ],
            [
             0.4,
             "#fde0ef"
            ],
            [
             0.5,
             "#f7f7f7"
            ],
            [
             0.6,
             "#e6f5d0"
            ],
            [
             0.7,
             "#b8e186"
            ],
            [
             0.8,
             "#7fbc41"
            ],
            [
             0.9,
             "#4d9221"
            ],
            [
             1,
             "#276419"
            ]
           ],
           "sequential": [
            [
             0,
             "#0d0887"
            ],
            [
             0.1111111111111111,
             "#46039f"
            ],
            [
             0.2222222222222222,
             "#7201a8"
            ],
            [
             0.3333333333333333,
             "#9c179e"
            ],
            [
             0.4444444444444444,
             "#bd3786"
            ],
            [
             0.5555555555555556,
             "#d8576b"
            ],
            [
             0.6666666666666666,
             "#ed7953"
            ],
            [
             0.7777777777777778,
             "#fb9f3a"
            ],
            [
             0.8888888888888888,
             "#fdca26"
            ],
            [
             1,
             "#f0f921"
            ]
           ],
           "sequentialminus": [
            [
             0,
             "#0d0887"
            ],
            [
             0.1111111111111111,
             "#46039f"
            ],
            [
             0.2222222222222222,
             "#7201a8"
            ],
            [
             0.3333333333333333,
             "#9c179e"
            ],
            [
             0.4444444444444444,
             "#bd3786"
            ],
            [
             0.5555555555555556,
             "#d8576b"
            ],
            [
             0.6666666666666666,
             "#ed7953"
            ],
            [
             0.7777777777777778,
             "#fb9f3a"
            ],
            [
             0.8888888888888888,
             "#fdca26"
            ],
            [
             1,
             "#f0f921"
            ]
           ]
          },
          "colorway": [
           "#636efa",
           "#EF553B",
           "#00cc96",
           "#ab63fa",
           "#FFA15A",
           "#19d3f3",
           "#FF6692",
           "#B6E880",
           "#FF97FF",
           "#FECB52"
          ],
          "font": {
           "color": "#2a3f5f"
          },
          "geo": {
           "bgcolor": "white",
           "lakecolor": "white",
           "landcolor": "#E5ECF6",
           "showlakes": true,
           "showland": true,
           "subunitcolor": "white"
          },
          "hoverlabel": {
           "align": "left"
          },
          "hovermode": "closest",
          "mapbox": {
           "style": "light"
          },
          "paper_bgcolor": "white",
          "plot_bgcolor": "#E5ECF6",
          "polar": {
           "angularaxis": {
            "gridcolor": "white",
            "linecolor": "white",
            "ticks": ""
           },
           "bgcolor": "#E5ECF6",
           "radialaxis": {
            "gridcolor": "white",
            "linecolor": "white",
            "ticks": ""
           }
          },
          "scene": {
           "xaxis": {
            "backgroundcolor": "#E5ECF6",
            "gridcolor": "white",
            "gridwidth": 2,
            "linecolor": "white",
            "showbackground": true,
            "ticks": "",
            "zerolinecolor": "white"
           },
           "yaxis": {
            "backgroundcolor": "#E5ECF6",
            "gridcolor": "white",
            "gridwidth": 2,
            "linecolor": "white",
            "showbackground": true,
            "ticks": "",
            "zerolinecolor": "white"
           },
           "zaxis": {
            "backgroundcolor": "#E5ECF6",
            "gridcolor": "white",
            "gridwidth": 2,
            "linecolor": "white",
            "showbackground": true,
            "ticks": "",
            "zerolinecolor": "white"
           }
          },
          "shapedefaults": {
           "line": {
            "color": "#2a3f5f"
           }
          },
          "ternary": {
           "aaxis": {
            "gridcolor": "white",
            "linecolor": "white",
            "ticks": ""
           },
           "baxis": {
            "gridcolor": "white",
            "linecolor": "white",
            "ticks": ""
           },
           "bgcolor": "#E5ECF6",
           "caxis": {
            "gridcolor": "white",
            "linecolor": "white",
            "ticks": ""
           }
          },
          "title": {
           "x": 0.05
          },
          "xaxis": {
           "automargin": true,
           "gridcolor": "white",
           "linecolor": "white",
           "ticks": "",
           "zerolinecolor": "white",
           "zerolinewidth": 2
          },
          "yaxis": {
           "automargin": true,
           "gridcolor": "white",
           "linecolor": "white",
           "ticks": "",
           "zerolinecolor": "white",
           "zerolinewidth": 2
          }
         }
        }
       }
      },
      "text/html": [
       "<div>\n",
       "        \n",
       "        \n",
       "            <div id=\"ad645c56-8eb5-4355-816c-8422084824d7\" class=\"plotly-graph-div\" style=\"height:525px; width:100%;\"></div>\n",
       "            <script type=\"text/javascript\">\n",
       "                require([\"plotly\"], function(Plotly) {\n",
       "                    window.PLOTLYENV=window.PLOTLYENV || {};\n",
       "                    \n",
       "                if (document.getElementById(\"ad645c56-8eb5-4355-816c-8422084824d7\")) {\n",
       "                    Plotly.newPlot(\n",
       "                        'ad645c56-8eb5-4355-816c-8422084824d7',\n",
       "                        [{\"type\": \"bar\", \"x\": [2016, 2014, 2017, 2015], \"y\": [3, 220, 1, 12, 182, 3158, 3145, 1122, 26133, 14748, 4423, 9970, 42571, 307811, 29675, 6053, 432, 64, 160, 93, 1, 12, 169, 1, 2, 338, 10659, 39343, 32055, 25727, 3400, 27181, 1501, 133, 3, 44, 6029, 3062, 115, 232, 754, 132, 54, 85, 2, 7, 8, 110, 14, 1, 1, 1, 98, 752, 6, 10, 739, 2, 34059, 5, 2, 1, 55, 69, 2713, 1732, 1717, 39, 1, 1, 848, 801, 23, 6699, 1, 2, 2, 55, 4793, 1047136, 14120, 423, 5, 23, 1, 37, 30, 2, 6, 54, 104, 1159, 7, 373, 16, 51, 105938, 2848, 15508, 3402, 3545, 1386, 27, 57, 26616, 3757, 452, 74979, 31, 23, 15473, 28, 18, 5145, 7, 6, 127334, 66, 46, 17, 724, 25855, 42655, 866, 6131, 941, 12846, 124, 2, 65, 1, 2561, 1, 1, 4, 1, 495, 8081, 377, 28, 2, 3, 44, 6177, 460, 8, 102, 28, 2, 2609, 80, 3222, 650, 1706, 174, 267, 59, 19, 11, 5367, 111, 628, 232, 68, 12, 343, 1434, 31, 1, 2326, 62, 8383, 14019, 5827, 1, 19472, 704, 870, 8, 58381, 820, 7, 616, 21255, 5144, 19, 1, 2, 1, 203, 4250, 283, 190, 1, 1, 19116, 34042, 10433, 2224, 69, 1, 4, 12, 1756, 652, 526, 35, 918, 9365, 3, 14, 64, 159, 34, 2, 243, 7, 21, 19, 266, 1, 362, 1, 19, 1038, 118, 2, 53036, 2573, 827, 1, 11526, 37981, 68, 30, 61, 11, 2, 13, 2, 1, 4, 6, 19, 256, 1, 2, 6, 1486, 1, 92, 71, 7, 185, 441460, 949, 1338, 14196, 25064, 9, 182, 32, 1078, 85, 32, 10840, 15337, 1541, 1625, 27803, 28, 18511, 11843, 2339, 14370, 6, 5, 44, 2, 143968, 11, 16, 32, 120, 6368, 1836, 2, 13, 1, 2, 1, 681, 5002, 134, 1, 1, 1502, 267, 66131, 3, 31104, 22909, 233, 88, 49, 96835, 5278, 4, 1875, 5400, 1594, 10254, 1, 895, 89, 91, 525, 89, 2179, 1724, 560, 519, 1017, 1162, 2, 27, 18, 2, 47, 80, 418, 434, 9970, 15, 122, 33, 149, 3, 16990, 23, 64, 10, 99, 249, 22112, 30572, 185, 1012, 6402, 42018, 16493, 2003, 38711, 745, 270, 47536, 1, 14, 221879, 3, 784, 3079, 166059, 25409, 2582, 321, 720, 430, 4, 49, 19, 13598, 247, 1150, 1867, 21, 3, 33, 1, 1706, 22, 4783, 133, 44, 713, 118, 6, 2109, 32983, 288367, 2, 4450, 1096, 680, 1209, 7, 5277, 1, 58212, 101, 46410, 589, 935, 2862, 4, 6931, 32, 12, 50, 208, 41, 133, 35, 243, 3554, 41009, 328, 1032, 36214, 5, 442, 117, 324, 3306, 66, 211, 1970, 1, 47, 6, 219, 31, 173658, 69, 160823, 18, 3, 4, 7, 68, 38, 3685, 3095, 1484, 1, 288, 6491, 7852, 89, 7, 95, 1, 4, 2, 3, 37, 2, 288, 43, 1, 4, 1, 16, 1726, 278, 391, 27836, 257, 2060, 30, 451, 249947, 70, 60, 7, 103, 4198, 10938, 3148, 2, 2, 10, 2082, 98, 1895, 2971, 14, 2, 65, 5414, 632, 245, 446, 1104, 15, 142, 1, 1371, 1, 380, 129, 2564, 13931, 479, 4, 307668, 23173, 87, 157, 36296, 348, 288, 1, 3, 94, 65, 57, 260, 3, 11385, 12, 2, 469, 18228, 63, 344, 91, 17812, 1482, 354865, 3874, 104449, 115458, 751, 146567, 170, 973, 11, 42, 1, 7, 126, 535, 49, 387, 67, 54987, 156595, 1, 390, 4415, 121, 11671, 1, 1, 7063, 363, 14, 472, 25, 394, 711, 51, 23, 13, 659, 7, 7, 4, 371, 46, 619, 106, 894, 364126, 13430, 3407, 67, 1, 10, 17568, 115, 18, 697, 18051, 280, 5, 16, 153, 7683, 114, 1271, 182, 16, 252, 43, 17602, 515308, 42883, 132923, 20, 8, 3041, 409102, 454, 690, 1068, 13, 3, 10, 490, 1, 5, 505, 789, 40, 80, 4, 1156, 2, 751, 136, 1796, 4053, 4, 11, 585, 876, 2, 5, 9810, 1440, 94, 1783, 4978, 1470, 1267, 8, 1002, 1046, 371, 2908, 2174, 1, 1, 152, 373, 1516, 30, 58, 2, 25, 4620, 121860, 235, 16038, 3697, 388, 42, 324, 29, 499, 732, 79, 71, 6, 67, 29, 1647, 234, 283, 567, 4, 13, 80, 98, 186, 2, 94, 5, 334, 3, 70, 53, 6205, 11511, 754, 1, 3, 38, 2, 10, 228074, 695, 18, 2096, 1, 95, 3, 22, 109, 1783, 4, 4512, 11, 17, 1, 52655, 3716, 13220, 347, 5, 18515, 7, 51, 282, 3, 36, 1, 1, 131, 193, 5, 5727, 92, 94, 22360, 360, 15423, 29, 1, 81, 7, 3, 1, 1, 89, 38, 48, 6, 46, 279, 3, 622, 2592, 461645, 4, 2, 7, 242, 1091, 13, 10, 3, 25, 1443, 9, 235, 2566, 1852, 1, 6662, 71856, 534, 15071, 1438817, 13066, 429316, 37962, 4, 1, 83347, 420, 650177, 487, 347, 7, 122, 4, 5, 12, 1156, 2700, 1, 169, 1528, 11804, 26909, 49431, 204, 85, 1, 40, 58, 1, 31, 1, 1, 3527, 212, 1, 95, 732, 7804, 86, 37, 7, 4, 177, 18, 14584, 701, 839, 58, 31815, 327, 1126, 96, 678, 1844, 67, 859, 6160, 7324, 126, 5235, 3, 19, 27, 62, 72, 1, 424, 3, 54, 463, 310, 1, 11, 6, 231, 135, 6, 125, 5474, 148, 696, 2, 5857, 93, 428, 1, 2171, 1032, 17, 1004, 7947, 4, 1, 52, 11116, 772, 67, 665010, 386, 7, 93, 11, 31, 67, 2635, 571, 69, 12, 20014, 364, 99, 5, 2, 210, 1443, 14, 239, 4, 1, 24, 1, 180431, 133, 626799, 356, 7, 1416, 10767, 2, 1, 15, 1224, 3, 1836, 218, 32122, 3102, 1183, 27, 4, 2, 880, 284280, 4494, 4, 1, 15836, 1, 675, 2, 23, 7, 8917, 41492, 2, 97, 127, 2, 28, 5824, 164, 52, 2729, 1604, 120, 51, 6, 111, 1, 15, 5, 125, 46, 84, 29, 105, 12, 1689, 46703, 1, 25]}],\n",
       "                        {\"template\": {\"data\": {\"bar\": [{\"error_x\": {\"color\": \"#2a3f5f\"}, \"error_y\": {\"color\": \"#2a3f5f\"}, \"marker\": {\"line\": {\"color\": \"#E5ECF6\", \"width\": 0.5}}, \"type\": \"bar\"}], \"barpolar\": [{\"marker\": {\"line\": {\"color\": \"#E5ECF6\", \"width\": 0.5}}, \"type\": \"barpolar\"}], \"carpet\": [{\"aaxis\": {\"endlinecolor\": \"#2a3f5f\", \"gridcolor\": \"white\", \"linecolor\": \"white\", \"minorgridcolor\": \"white\", \"startlinecolor\": \"#2a3f5f\"}, \"baxis\": {\"endlinecolor\": \"#2a3f5f\", \"gridcolor\": \"white\", \"linecolor\": \"white\", \"minorgridcolor\": \"white\", \"startlinecolor\": \"#2a3f5f\"}, \"type\": \"carpet\"}], \"choropleth\": [{\"colorbar\": {\"outlinewidth\": 0, \"ticks\": \"\"}, \"type\": \"choropleth\"}], \"contour\": [{\"colorbar\": {\"outlinewidth\": 0, \"ticks\": \"\"}, \"colorscale\": [[0.0, \"#0d0887\"], [0.1111111111111111, \"#46039f\"], [0.2222222222222222, \"#7201a8\"], [0.3333333333333333, \"#9c179e\"], [0.4444444444444444, \"#bd3786\"], [0.5555555555555556, \"#d8576b\"], [0.6666666666666666, \"#ed7953\"], [0.7777777777777778, \"#fb9f3a\"], [0.8888888888888888, \"#fdca26\"], [1.0, \"#f0f921\"]], \"type\": \"contour\"}], \"contourcarpet\": [{\"colorbar\": {\"outlinewidth\": 0, \"ticks\": \"\"}, \"type\": \"contourcarpet\"}], \"heatmap\": [{\"colorbar\": {\"outlinewidth\": 0, \"ticks\": \"\"}, \"colorscale\": [[0.0, \"#0d0887\"], [0.1111111111111111, \"#46039f\"], [0.2222222222222222, \"#7201a8\"], [0.3333333333333333, \"#9c179e\"], [0.4444444444444444, \"#bd3786\"], [0.5555555555555556, \"#d8576b\"], [0.6666666666666666, \"#ed7953\"], [0.7777777777777778, \"#fb9f3a\"], [0.8888888888888888, \"#fdca26\"], [1.0, \"#f0f921\"]], \"type\": \"heatmap\"}], \"heatmapgl\": [{\"colorbar\": {\"outlinewidth\": 0, \"ticks\": \"\"}, \"colorscale\": [[0.0, \"#0d0887\"], [0.1111111111111111, \"#46039f\"], [0.2222222222222222, \"#7201a8\"], [0.3333333333333333, \"#9c179e\"], [0.4444444444444444, \"#bd3786\"], [0.5555555555555556, \"#d8576b\"], [0.6666666666666666, \"#ed7953\"], [0.7777777777777778, \"#fb9f3a\"], [0.8888888888888888, \"#fdca26\"], [1.0, \"#f0f921\"]], \"type\": \"heatmapgl\"}], \"histogram\": [{\"marker\": {\"colorbar\": {\"outlinewidth\": 0, \"ticks\": \"\"}}, \"type\": \"histogram\"}], \"histogram2d\": [{\"colorbar\": {\"outlinewidth\": 0, \"ticks\": \"\"}, \"colorscale\": [[0.0, \"#0d0887\"], [0.1111111111111111, \"#46039f\"], [0.2222222222222222, \"#7201a8\"], [0.3333333333333333, \"#9c179e\"], [0.4444444444444444, \"#bd3786\"], [0.5555555555555556, \"#d8576b\"], [0.6666666666666666, \"#ed7953\"], [0.7777777777777778, \"#fb9f3a\"], [0.8888888888888888, \"#fdca26\"], [1.0, \"#f0f921\"]], \"type\": \"histogram2d\"}], \"histogram2dcontour\": [{\"colorbar\": {\"outlinewidth\": 0, \"ticks\": \"\"}, \"colorscale\": [[0.0, \"#0d0887\"], [0.1111111111111111, \"#46039f\"], [0.2222222222222222, \"#7201a8\"], [0.3333333333333333, \"#9c179e\"], [0.4444444444444444, \"#bd3786\"], [0.5555555555555556, \"#d8576b\"], [0.6666666666666666, \"#ed7953\"], [0.7777777777777778, \"#fb9f3a\"], [0.8888888888888888, \"#fdca26\"], [1.0, \"#f0f921\"]], \"type\": \"histogram2dcontour\"}], \"mesh3d\": [{\"colorbar\": {\"outlinewidth\": 0, \"ticks\": \"\"}, \"type\": \"mesh3d\"}], \"parcoords\": [{\"line\": {\"colorbar\": {\"outlinewidth\": 0, \"ticks\": \"\"}}, \"type\": \"parcoords\"}], \"scatter\": [{\"marker\": {\"colorbar\": {\"outlinewidth\": 0, \"ticks\": \"\"}}, \"type\": \"scatter\"}], \"scatter3d\": [{\"line\": {\"colorbar\": {\"outlinewidth\": 0, \"ticks\": \"\"}}, \"marker\": {\"colorbar\": {\"outlinewidth\": 0, \"ticks\": \"\"}}, \"type\": \"scatter3d\"}], \"scattercarpet\": [{\"marker\": {\"colorbar\": {\"outlinewidth\": 0, \"ticks\": \"\"}}, \"type\": \"scattercarpet\"}], \"scattergeo\": [{\"marker\": {\"colorbar\": {\"outlinewidth\": 0, \"ticks\": \"\"}}, \"type\": \"scattergeo\"}], \"scattergl\": [{\"marker\": {\"colorbar\": {\"outlinewidth\": 0, \"ticks\": \"\"}}, \"type\": \"scattergl\"}], \"scattermapbox\": [{\"marker\": {\"colorbar\": {\"outlinewidth\": 0, \"ticks\": \"\"}}, \"type\": \"scattermapbox\"}], \"scatterpolar\": [{\"marker\": {\"colorbar\": {\"outlinewidth\": 0, \"ticks\": \"\"}}, \"type\": \"scatterpolar\"}], \"scatterpolargl\": [{\"marker\": {\"colorbar\": {\"outlinewidth\": 0, \"ticks\": \"\"}}, \"type\": \"scatterpolargl\"}], \"scatterternary\": [{\"marker\": {\"colorbar\": {\"outlinewidth\": 0, \"ticks\": \"\"}}, \"type\": \"scatterternary\"}], \"surface\": [{\"colorbar\": {\"outlinewidth\": 0, \"ticks\": \"\"}, \"colorscale\": [[0.0, \"#0d0887\"], [0.1111111111111111, \"#46039f\"], [0.2222222222222222, \"#7201a8\"], [0.3333333333333333, \"#9c179e\"], [0.4444444444444444, \"#bd3786\"], [0.5555555555555556, \"#d8576b\"], [0.6666666666666666, \"#ed7953\"], [0.7777777777777778, \"#fb9f3a\"], [0.8888888888888888, \"#fdca26\"], [1.0, \"#f0f921\"]], \"type\": \"surface\"}], \"table\": [{\"cells\": {\"fill\": {\"color\": \"#EBF0F8\"}, \"line\": {\"color\": \"white\"}}, \"header\": {\"fill\": {\"color\": \"#C8D4E3\"}, \"line\": {\"color\": \"white\"}}, \"type\": \"table\"}]}, \"layout\": {\"annotationdefaults\": {\"arrowcolor\": \"#2a3f5f\", \"arrowhead\": 0, \"arrowwidth\": 1}, \"colorscale\": {\"diverging\": [[0, \"#8e0152\"], [0.1, \"#c51b7d\"], [0.2, \"#de77ae\"], [0.3, \"#f1b6da\"], [0.4, \"#fde0ef\"], [0.5, \"#f7f7f7\"], [0.6, \"#e6f5d0\"], [0.7, \"#b8e186\"], [0.8, \"#7fbc41\"], [0.9, \"#4d9221\"], [1, \"#276419\"]], \"sequential\": [[0.0, \"#0d0887\"], [0.1111111111111111, \"#46039f\"], [0.2222222222222222, \"#7201a8\"], [0.3333333333333333, \"#9c179e\"], [0.4444444444444444, \"#bd3786\"], [0.5555555555555556, \"#d8576b\"], [0.6666666666666666, \"#ed7953\"], [0.7777777777777778, \"#fb9f3a\"], [0.8888888888888888, \"#fdca26\"], [1.0, \"#f0f921\"]], \"sequentialminus\": [[0.0, \"#0d0887\"], [0.1111111111111111, \"#46039f\"], [0.2222222222222222, \"#7201a8\"], [0.3333333333333333, \"#9c179e\"], [0.4444444444444444, \"#bd3786\"], [0.5555555555555556, \"#d8576b\"], [0.6666666666666666, \"#ed7953\"], [0.7777777777777778, \"#fb9f3a\"], [0.8888888888888888, \"#fdca26\"], [1.0, \"#f0f921\"]]}, \"colorway\": [\"#636efa\", \"#EF553B\", \"#00cc96\", \"#ab63fa\", \"#FFA15A\", \"#19d3f3\", \"#FF6692\", \"#B6E880\", \"#FF97FF\", \"#FECB52\"], \"font\": {\"color\": \"#2a3f5f\"}, \"geo\": {\"bgcolor\": \"white\", \"lakecolor\": \"white\", \"landcolor\": \"#E5ECF6\", \"showlakes\": true, \"showland\": true, \"subunitcolor\": \"white\"}, \"hoverlabel\": {\"align\": \"left\"}, \"hovermode\": \"closest\", \"mapbox\": {\"style\": \"light\"}, \"paper_bgcolor\": \"white\", \"plot_bgcolor\": \"#E5ECF6\", \"polar\": {\"angularaxis\": {\"gridcolor\": \"white\", \"linecolor\": \"white\", \"ticks\": \"\"}, \"bgcolor\": \"#E5ECF6\", \"radialaxis\": {\"gridcolor\": \"white\", \"linecolor\": \"white\", \"ticks\": \"\"}}, \"scene\": {\"xaxis\": {\"backgroundcolor\": \"#E5ECF6\", \"gridcolor\": \"white\", \"gridwidth\": 2, \"linecolor\": \"white\", \"showbackground\": true, \"ticks\": \"\", \"zerolinecolor\": \"white\"}, \"yaxis\": {\"backgroundcolor\": \"#E5ECF6\", \"gridcolor\": \"white\", \"gridwidth\": 2, \"linecolor\": \"white\", \"showbackground\": true, \"ticks\": \"\", \"zerolinecolor\": \"white\"}, \"zaxis\": {\"backgroundcolor\": \"#E5ECF6\", \"gridcolor\": \"white\", \"gridwidth\": 2, \"linecolor\": \"white\", \"showbackground\": true, \"ticks\": \"\", \"zerolinecolor\": \"white\"}}, \"shapedefaults\": {\"line\": {\"color\": \"#2a3f5f\"}}, \"ternary\": {\"aaxis\": {\"gridcolor\": \"white\", \"linecolor\": \"white\", \"ticks\": \"\"}, \"baxis\": {\"gridcolor\": \"white\", \"linecolor\": \"white\", \"ticks\": \"\"}, \"bgcolor\": \"#E5ECF6\", \"caxis\": {\"gridcolor\": \"white\", \"linecolor\": \"white\", \"ticks\": \"\"}}, \"title\": {\"x\": 0.05}, \"xaxis\": {\"automargin\": true, \"gridcolor\": \"white\", \"linecolor\": \"white\", \"ticks\": \"\", \"zerolinecolor\": \"white\", \"zerolinewidth\": 2}, \"yaxis\": {\"automargin\": true, \"gridcolor\": \"white\", \"linecolor\": \"white\", \"ticks\": \"\", \"zerolinecolor\": \"white\", \"zerolinewidth\": 2}}}},\n",
       "                        {\"responsive\": true}\n",
       "                    ).then(function(){\n",
       "                            \n",
       "var gd = document.getElementById('ad645c56-8eb5-4355-816c-8422084824d7');\n",
       "var x = new MutationObserver(function (mutations, observer) {{\n",
       "        var display = window.getComputedStyle(gd).display;\n",
       "        if (!display || display === 'none') {{\n",
       "            console.log([gd, 'removed!']);\n",
       "            Plotly.purge(gd);\n",
       "            observer.disconnect();\n",
       "        }}\n",
       "}});\n",
       "\n",
       "// Listen for the removal of the full notebook cells\n",
       "var notebookContainer = gd.closest('#notebook-container');\n",
       "if (notebookContainer) {{\n",
       "    x.observe(notebookContainer, {childList: true});\n",
       "}}\n",
       "\n",
       "// Listen for the clearing of the current output cell\n",
       "var outputEl = gd.closest('.output');\n",
       "if (outputEl) {{\n",
       "    x.observe(outputEl, {childList: true});\n",
       "}}\n",
       "\n",
       "                        })\n",
       "                };\n",
       "                });\n",
       "            </script>\n",
       "        </div>"
      ]
     },
     "metadata": {},
     "output_type": "display_data"
    }
   ],
   "source": [
    "# Execute in anaconda prompt: $ conda install plotly\n",
    "\n",
    "import chart_studio.plotly as py\n",
    "import scipy as sp\n",
    "import plotly.figure_factory as ff\n",
    "from plotly import graph_objs as go\n",
    "import plotly.express as px\n",
    "\n",
    "\n",
    "fig = go.Figure([go.Bar(x=data['Violation Year'].unique(), y=data.groupby(['Violation Description']).size())])\n",
    "fig.show()\n",
    "\n"
   ]
  },
  {
   "cell_type": "code",
   "execution_count": 24,
   "metadata": {},
   "outputs": [
    {
     "name": "stdout",
     "output_type": "stream",
     "text": [
      "         Violation Charged Code  \\\n",
      "0                          306B   \n",
      "1                         1180B   \n",
      "2                         1180B   \n",
      "3                         1180D   \n",
      "4                         1180B   \n",
      "5                         11923   \n",
      "6                         11922   \n",
      "7                         1163B   \n",
      "8                         1180B   \n",
      "9                       1225C2A   \n",
      "10                        1225D   \n",
      "11                       3752A1   \n",
      "12                         306B   \n",
      "13                        37530   \n",
      "14                        1129A   \n",
      "15                      1144-AA   \n",
      "16                       1229C3   \n",
      "17                        3751A   \n",
      "18                        1180A   \n",
      "19                        1180B   \n",
      "20                       3752A1   \n",
      "21                      37512A2   \n",
      "22                         1123   \n",
      "23                         1123   \n",
      "24                        37540   \n",
      "25                         1121   \n",
      "26                        1160B   \n",
      "27                        6001A   \n",
      "28                        1128A   \n",
      "29                        4011A   \n",
      "...                         ...   \n",
      "14409072                   4023   \n",
      "14409073                  37531   \n",
      "14409074                 3752A4   \n",
      "14409075                   5091   \n",
      "14409076                   306B   \n",
      "14409077                 5112A4   \n",
      "14409078                   306B   \n",
      "14409079                   306B   \n",
      "14409080                  1172A   \n",
      "14409081                 3752A4   \n",
      "14409082                   306B   \n",
      "14409083                   306B   \n",
      "14409084                   306B   \n",
      "14409085                   5091   \n",
      "14409086                   306B   \n",
      "14409087                   306B   \n",
      "14409088                  1172A   \n",
      "14409089                   4021   \n",
      "14409090                  1163A   \n",
      "14409091                  1163D   \n",
      "14409092                  12271   \n",
      "14409093                  1120A   \n",
      "14409094                   1102   \n",
      "14409095                  1163D   \n",
      "14409096                  1129A   \n",
      "14409097                 3752A1   \n",
      "14409098                 1229C3   \n",
      "14409099                   306B   \n",
      "14409100                   5098   \n",
      "14409101                   5095   \n",
      "\n",
      "                                   Violation Description  Violation Year  \\\n",
      "0                              UNINSPECTED MOTOR VEHICLE            2016   \n",
      "1                                     SPEED OVER 55 ZONE            2016   \n",
      "2                                     SPEED OVER 55 ZONE            2016   \n",
      "3                                          SPEED IN ZONE            2016   \n",
      "4                                     SPEED OVER 55 ZONE            2016   \n",
      "5                              DRIVING WHILE INTOXICATED            2014   \n",
      "6                 DRIVING W/.08 OF 1 PERCENT OF ALCO/BLD            2014   \n",
      "7                  INSUFF TURN SIGNAL-LESS THAN 100 FEET            2014   \n",
      "8                                     SPEED OVER 55 ZONE            2014   \n",
      "9                              OPERATING MV MOBILE PHONE            2014   \n",
      "10                 OPER MV WHILE USING PORTABLE ELEC DEV            2017   \n",
      "11                               NO/INADEQUATE HEADLAMPS            2017   \n",
      "12                             UNINSPECTED MOTOR VEHICLE            2017   \n",
      "13                               DRIVERS VIEW OBSTRUCTED            2017   \n",
      "14                                 FOLLOWING TOO CLOSELY            2017   \n",
      "15        FLD DUE CARE FOR EMERG VEH STOPPED OR STANDING            2017   \n",
      "16                                    NO SEAT BELT ADULT            2017   \n",
      "17                       INADEQUATE STEERING/BRAKES/HORN            2017   \n",
      "18                      SPEED NOT REASONABLE AND PRUDENT            2017   \n",
      "19                                    SPEED OVER 55 ZONE            2017   \n",
      "20                               NO/INADEQUATE HEADLAMPS            2017   \n",
      "21                 SIDEWINGS/SIDEWINDOWS/NON/TRANSPARENT            2017   \n",
      "22                             IMPROPER PASSING ON RIGHT            2017   \n",
      "23                             IMPROPER PASSING ON RIGHT            2017   \n",
      "24                           INADEQUATE OR NO STOP LAMPS            2017   \n",
      "25                    FAILED TO GIVE ONE HALF OF ROADWAY            2017   \n",
      "26                    IMPROPER LEFT TURN ON TWO-WAY RDWY            2017   \n",
      "27                LEAVING/SCENE PROPERTY DAMAGE ACCIDENT            2017   \n",
      "28                      MOVED FROM LANE UNSAFELY/WEAVING            2017   \n",
      "29                            UNREGISTERED MOTOR VEHICLE            2017   \n",
      "...                                                  ...             ...   \n",
      "14409072                            UNREGISTERED TRAILER            2014   \n",
      "14409073            NO/INADEQUATE MUFFLER/EXHAUST SYSTEM            2014   \n",
      "14409074                       NO/INADEQUATE PLATE LAMPS            2014   \n",
      "14409075                             UNLICENSED OPERATOR            2014   \n",
      "14409076                       UNINSPECTED MOTOR VEHICLE            2014   \n",
      "14409077         AGGRAVATED UNLIC OPER 3 PLUS SUSPENSION            2014   \n",
      "14409078                       UNINSPECTED MOTOR VEHICLE            2014   \n",
      "14409079                       UNINSPECTED MOTOR VEHICLE            2014   \n",
      "14409080                        FLD TO STOP AT STOP SIGN            2014   \n",
      "14409081                       NO/INADEQUATE PLATE LAMPS            2014   \n",
      "14409082                       UNINSPECTED MOTOR VEHICLE            2014   \n",
      "14409083                       UNINSPECTED MOTOR VEHICLE            2014   \n",
      "14409084                       UNINSPECTED MOTOR VEHICLE            2014   \n",
      "14409085                             UNLICENSED OPERATOR            2014   \n",
      "14409086                       UNINSPECTED MOTOR VEHICLE            2014   \n",
      "14409087                       UNINSPECTED MOTOR VEHICLE            2014   \n",
      "14409088                        FLD TO STOP AT STOP SIGN            2014   \n",
      "14409089                    PLATE MISSING/INSECURE/DIRTY            2014   \n",
      "14409090          IMPROPER OR UNSAFE TURN/WITHOUT SIGNAL            2014   \n",
      "14409091                                 IMPROPER SIGNAL            2014   \n",
      "14409092            CONSUMPTION/ALCOHOL IN MOTOR VEHICLE            2014   \n",
      "14409093                            FAILED TO KEEP RIGHT            2014   \n",
      "14409094                 FAILED TO COMPLY W/LAWFUL ORDER            2014   \n",
      "14409095                                 IMPROPER SIGNAL            2014   \n",
      "14409096                           FOLLOWING TOO CLOSELY            2014   \n",
      "14409097                         NO/INADEQUATE HEADLAMPS            2014   \n",
      "14409098                              NO SEAT BELT ADULT            2014   \n",
      "14409099                       UNINSPECTED MOTOR VEHICLE            2014   \n",
      "14409100                FLD/NOTIFY DMV CHANGE OF ADDRESS            2014   \n",
      "14409101           HOLDING MORE THAN 1 VALID NYS LICENSE            2014   \n",
      "\n",
      "          Violation Month Violation Day of Week  Age at Violation Gender  \\\n",
      "0                       3               TUESDAY              21.0      M   \n",
      "1                       3              SATURDAY              18.0      F   \n",
      "2                       2             WEDNESDAY              55.0      M   \n",
      "3                       2                SUNDAY              41.0      M   \n",
      "4                       1              THURSDAY              25.0      M   \n",
      "5                      12                SUNDAY              56.0      F   \n",
      "6                      12                SUNDAY              56.0      F   \n",
      "7                      12                SUNDAY              56.0      F   \n",
      "8                       5                MONDAY              24.0      F   \n",
      "9                       4                MONDAY              35.0      M   \n",
      "10                     12             WEDNESDAY              23.0      F   \n",
      "11                     12               TUESDAY              18.0      M   \n",
      "12                     12               TUESDAY              18.0      M   \n",
      "13                     12               TUESDAY              18.0      M   \n",
      "14                     12                SUNDAY              28.0      M   \n",
      "15                     12                SUNDAY              28.0      M   \n",
      "16                     12              SATURDAY              25.0      M   \n",
      "17                     12                MONDAY              26.0      F   \n",
      "18                     12                FRIDAY              22.0      F   \n",
      "19                     12                FRIDAY              21.0      M   \n",
      "20                     11               TUESDAY              36.0      F   \n",
      "21                     11              THURSDAY              21.0      M   \n",
      "22                     11              THURSDAY              48.0      M   \n",
      "23                     11                SUNDAY              36.0      M   \n",
      "24                     11                FRIDAY              38.0      M   \n",
      "25                     10             WEDNESDAY              39.0      M   \n",
      "26                     10             WEDNESDAY              39.0      M   \n",
      "27                     10             WEDNESDAY              39.0      M   \n",
      "28                     10             WEDNESDAY              39.0      M   \n",
      "29                     10             WEDNESDAY              30.0      F   \n",
      "...                   ...                   ...               ...    ...   \n",
      "14409072                1              SATURDAY              43.0      M   \n",
      "14409073                1                MONDAY              35.0      M   \n",
      "14409074                1                MONDAY              24.0      M   \n",
      "14409075                1                MONDAY              20.0      M   \n",
      "14409076                1                MONDAY              24.0      F   \n",
      "14409077                1                MONDAY              35.0      M   \n",
      "14409078                1                MONDAY              28.0      F   \n",
      "14409079                1                MONDAY              24.0      M   \n",
      "14409080                1                MONDAY              50.0      M   \n",
      "14409081                1                MONDAY              24.0      F   \n",
      "14409082                1                MONDAY              20.0      M   \n",
      "14409083                1                MONDAY              23.0      M   \n",
      "14409084                1                MONDAY              33.0      F   \n",
      "14409085                1                MONDAY              35.0      M   \n",
      "14409086                1                MONDAY              41.0      F   \n",
      "14409087                1                MONDAY              35.0      M   \n",
      "14409088                1                MONDAY              24.0      F   \n",
      "14409089                1                FRIDAY              29.0      M   \n",
      "14409090                1                FRIDAY              24.0      M   \n",
      "14409091                1                FRIDAY              29.0      M   \n",
      "14409092                1                FRIDAY              29.0      M   \n",
      "14409093                1                FRIDAY              49.0      M   \n",
      "14409094                1                FRIDAY              29.0      M   \n",
      "14409095                1                FRIDAY              29.0      M   \n",
      "14409096                1                FRIDAY              38.0      M   \n",
      "14409097                1                FRIDAY              29.0      M   \n",
      "14409098                1                FRIDAY              29.0      M   \n",
      "14409099                1                FRIDAY              40.0      M   \n",
      "14409100                1                FRIDAY              29.0      M   \n",
      "14409101                1                FRIDAY              29.0      M   \n",
      "\n",
      "         State of License                  Police Agency  \\\n",
      "0                NEW YORK      1000 ISLAND ST PRK POLICE   \n",
      "1                NEW YORK      1000 ISLAND ST PRK POLICE   \n",
      "2                NEW YORK      1000 ISLAND ST PRK POLICE   \n",
      "3                NEW YORK      1000 ISLAND ST PRK POLICE   \n",
      "4                NEW YORK      1000 ISLAND ST PRK POLICE   \n",
      "5                COLORADO      1000 ISLAND ST PRK POLICE   \n",
      "6                COLORADO      1000 ISLAND ST PRK POLICE   \n",
      "7                COLORADO      1000 ISLAND ST PRK POLICE   \n",
      "8                NEW YORK      1000 ISLAND ST PRK POLICE   \n",
      "9                NEW YORK      1000 ISLAND ST PRK POLICE   \n",
      "10               NEW YORK             ADAMS STATE POLICE   \n",
      "11               NEW YORK             ADAMS STATE POLICE   \n",
      "12               NEW YORK             ADAMS STATE POLICE   \n",
      "13               NEW YORK             ADAMS STATE POLICE   \n",
      "14               NEW YORK             ADAMS STATE POLICE   \n",
      "15               NEW YORK             ADAMS STATE POLICE   \n",
      "16               NEW YORK             ADAMS STATE POLICE   \n",
      "17               NEW YORK             ADAMS STATE POLICE   \n",
      "18               NEW YORK             ADAMS STATE POLICE   \n",
      "19               NEW YORK             ADAMS STATE POLICE   \n",
      "20               NEW YORK             ADAMS STATE POLICE   \n",
      "21               NEW YORK             ADAMS STATE POLICE   \n",
      "22               NEW YORK             ADAMS STATE POLICE   \n",
      "23               NEW YORK             ADAMS STATE POLICE   \n",
      "24               NEW YORK             ADAMS STATE POLICE   \n",
      "25               NEW YORK             ADAMS STATE POLICE   \n",
      "26               NEW YORK             ADAMS STATE POLICE   \n",
      "27               NEW YORK             ADAMS STATE POLICE   \n",
      "28               NEW YORK             ADAMS STATE POLICE   \n",
      "29               NEW YORK             ADAMS STATE POLICE   \n",
      "...                   ...                            ...   \n",
      "14409072         NEW YORK  YORKVILLE VILLAGE POLICE DEPT   \n",
      "14409073         NEW YORK  YORKVILLE VILLAGE POLICE DEPT   \n",
      "14409074         NEW YORK  YORKVILLE VILLAGE POLICE DEPT   \n",
      "14409075         NEW YORK  YORKVILLE VILLAGE POLICE DEPT   \n",
      "14409076         NEW YORK  YORKVILLE VILLAGE POLICE DEPT   \n",
      "14409077         NEW YORK  YORKVILLE VILLAGE POLICE DEPT   \n",
      "14409078         NEW YORK  YORKVILLE VILLAGE POLICE DEPT   \n",
      "14409079         NEW YORK  YORKVILLE VILLAGE POLICE DEPT   \n",
      "14409080         NEW YORK  YORKVILLE VILLAGE POLICE DEPT   \n",
      "14409081         NEW YORK  YORKVILLE VILLAGE POLICE DEPT   \n",
      "14409082         NEW YORK  YORKVILLE VILLAGE POLICE DEPT   \n",
      "14409083         NEW YORK  YORKVILLE VILLAGE POLICE DEPT   \n",
      "14409084         NEW YORK  YORKVILLE VILLAGE POLICE DEPT   \n",
      "14409085         NEW YORK  YORKVILLE VILLAGE POLICE DEPT   \n",
      "14409086         NEW YORK  YORKVILLE VILLAGE POLICE DEPT   \n",
      "14409087         NEW YORK  YORKVILLE VILLAGE POLICE DEPT   \n",
      "14409088         NEW YORK  YORKVILLE VILLAGE POLICE DEPT   \n",
      "14409089         NEW YORK  YORKVILLE VILLAGE POLICE DEPT   \n",
      "14409090         NEW YORK  YORKVILLE VILLAGE POLICE DEPT   \n",
      "14409091         NEW YORK  YORKVILLE VILLAGE POLICE DEPT   \n",
      "14409092         NEW YORK  YORKVILLE VILLAGE POLICE DEPT   \n",
      "14409093         NEW YORK  YORKVILLE VILLAGE POLICE DEPT   \n",
      "14409094         NEW YORK  YORKVILLE VILLAGE POLICE DEPT   \n",
      "14409095         NEW YORK  YORKVILLE VILLAGE POLICE DEPT   \n",
      "14409096         NEW YORK  YORKVILLE VILLAGE POLICE DEPT   \n",
      "14409097         NEW YORK  YORKVILLE VILLAGE POLICE DEPT   \n",
      "14409098         NEW YORK  YORKVILLE VILLAGE POLICE DEPT   \n",
      "14409099         NEW YORK  YORKVILLE VILLAGE POLICE DEPT   \n",
      "14409100         NEW YORK  YORKVILLE VILLAGE POLICE DEPT   \n",
      "14409101         NEW YORK  YORKVILLE VILLAGE POLICE DEPT   \n",
      "\n",
      "                            Court Source  \n",
      "0                ADAMS TOWN COURT  TSLED  \n",
      "1                ADAMS TOWN COURT  TSLED  \n",
      "2                ADAMS TOWN COURT  TSLED  \n",
      "3                ADAMS TOWN COURT  TSLED  \n",
      "4                ADAMS TOWN COURT  TSLED  \n",
      "5                ADAMS TOWN COURT  TSLED  \n",
      "6                ADAMS TOWN COURT  TSLED  \n",
      "7                ADAMS TOWN COURT  TSLED  \n",
      "8                ADAMS TOWN COURT  TSLED  \n",
      "9                ADAMS TOWN COURT  TSLED  \n",
      "10               ADAMS TOWN COURT  TSLED  \n",
      "11               ADAMS TOWN COURT  TSLED  \n",
      "12               ADAMS TOWN COURT  TSLED  \n",
      "13               ADAMS TOWN COURT  TSLED  \n",
      "14               ADAMS TOWN COURT  TSLED  \n",
      "15               ADAMS TOWN COURT  TSLED  \n",
      "16               ADAMS TOWN COURT  TSLED  \n",
      "17               ADAMS TOWN COURT  TSLED  \n",
      "18               ADAMS TOWN COURT  TSLED  \n",
      "19               ADAMS TOWN COURT  TSLED  \n",
      "20               ADAMS TOWN COURT  TSLED  \n",
      "21               ADAMS TOWN COURT  TSLED  \n",
      "22               ADAMS TOWN COURT  TSLED  \n",
      "23               ADAMS TOWN COURT  TSLED  \n",
      "24               ADAMS TOWN COURT  TSLED  \n",
      "25               ADAMS TOWN COURT  TSLED  \n",
      "26               ADAMS TOWN COURT  TSLED  \n",
      "27               ADAMS TOWN COURT  TSLED  \n",
      "28               ADAMS TOWN COURT  TSLED  \n",
      "29               ADAMS TOWN COURT  TSLED  \n",
      "...                           ...    ...  \n",
      "14409072  YORKVILLE VILLAGE COURT  TSLED  \n",
      "14409073  YORKVILLE VILLAGE COURT  TSLED  \n",
      "14409074  YORKVILLE VILLAGE COURT  TSLED  \n",
      "14409075  YORKVILLE VILLAGE COURT  TSLED  \n",
      "14409076  YORKVILLE VILLAGE COURT  TSLED  \n",
      "14409077  YORKVILLE VILLAGE COURT  TSLED  \n",
      "14409078  YORKVILLE VILLAGE COURT  TSLED  \n",
      "14409079  YORKVILLE VILLAGE COURT  TSLED  \n",
      "14409080  YORKVILLE VILLAGE COURT  TSLED  \n",
      "14409081  YORKVILLE VILLAGE COURT  TSLED  \n",
      "14409082  YORKVILLE VILLAGE COURT  TSLED  \n",
      "14409083  YORKVILLE VILLAGE COURT  TSLED  \n",
      "14409084  YORKVILLE VILLAGE COURT  TSLED  \n",
      "14409085  YORKVILLE VILLAGE COURT  TSLED  \n",
      "14409086  YORKVILLE VILLAGE COURT  TSLED  \n",
      "14409087  YORKVILLE VILLAGE COURT  TSLED  \n",
      "14409088  YORKVILLE VILLAGE COURT  TSLED  \n",
      "14409089  YORKVILLE VILLAGE COURT  TSLED  \n",
      "14409090  YORKVILLE VILLAGE COURT  TSLED  \n",
      "14409091  YORKVILLE VILLAGE COURT  TSLED  \n",
      "14409092  YORKVILLE VILLAGE COURT  TSLED  \n",
      "14409093  YORKVILLE VILLAGE COURT  TSLED  \n",
      "14409094  YORKVILLE VILLAGE COURT  TSLED  \n",
      "14409095  YORKVILLE VILLAGE COURT  TSLED  \n",
      "14409096  YORKVILLE VILLAGE COURT  TSLED  \n",
      "14409097  YORKVILLE VILLAGE COURT  TSLED  \n",
      "14409098  YORKVILLE VILLAGE COURT  TSLED  \n",
      "14409099  YORKVILLE VILLAGE COURT  TSLED  \n",
      "14409100  YORKVILLE VILLAGE COURT  TSLED  \n",
      "14409101  YORKVILLE VILLAGE COURT  TSLED  \n",
      "\n",
      "[14409102 rows x 11 columns]\n"
     ]
    },
    {
     "data": {
      "application/vnd.plotly.v1+json": {
       "config": {
        "plotlyServerURL": "https://plot.ly"
       },
       "data": [
        {
         "alignmentgroup": "True",
         "hoverlabel": {
          "namelength": 0
         },
         "hovertemplate": "year=%{x}<br>pop=%{y}",
         "legendgroup": "",
         "marker": {
          "color": "#636efa"
         },
         "name": "",
         "offsetgroup": "",
         "orientation": "v",
         "showlegend": false,
         "textposition": "auto",
         "type": "bar",
         "x": [
          1952,
          1957,
          1962,
          1967,
          1972,
          1977,
          1982,
          1987,
          1992,
          1997,
          2002,
          2007
         ],
         "xaxis": "x",
         "y": [
          14785584,
          17010154,
          18985849,
          20819767,
          22284500,
          23796400,
          25201900,
          26549700,
          28523502,
          30305843,
          31902268,
          33390141
         ],
         "yaxis": "y"
        }
       ],
       "layout": {
        "barmode": "relative",
        "height": 600,
        "legend": {
         "tracegroupgap": 0
        },
        "margin": {
         "t": 60
        },
        "template": {
         "data": {
          "bar": [
           {
            "error_x": {
             "color": "#2a3f5f"
            },
            "error_y": {
             "color": "#2a3f5f"
            },
            "marker": {
             "line": {
              "color": "#E5ECF6",
              "width": 0.5
             }
            },
            "type": "bar"
           }
          ],
          "barpolar": [
           {
            "marker": {
             "line": {
              "color": "#E5ECF6",
              "width": 0.5
             }
            },
            "type": "barpolar"
           }
          ],
          "carpet": [
           {
            "aaxis": {
             "endlinecolor": "#2a3f5f",
             "gridcolor": "white",
             "linecolor": "white",
             "minorgridcolor": "white",
             "startlinecolor": "#2a3f5f"
            },
            "baxis": {
             "endlinecolor": "#2a3f5f",
             "gridcolor": "white",
             "linecolor": "white",
             "minorgridcolor": "white",
             "startlinecolor": "#2a3f5f"
            },
            "type": "carpet"
           }
          ],
          "choropleth": [
           {
            "colorbar": {
             "outlinewidth": 0,
             "ticks": ""
            },
            "type": "choropleth"
           }
          ],
          "contour": [
           {
            "colorbar": {
             "outlinewidth": 0,
             "ticks": ""
            },
            "colorscale": [
             [
              0,
              "#0d0887"
             ],
             [
              0.1111111111111111,
              "#46039f"
             ],
             [
              0.2222222222222222,
              "#7201a8"
             ],
             [
              0.3333333333333333,
              "#9c179e"
             ],
             [
              0.4444444444444444,
              "#bd3786"
             ],
             [
              0.5555555555555556,
              "#d8576b"
             ],
             [
              0.6666666666666666,
              "#ed7953"
             ],
             [
              0.7777777777777778,
              "#fb9f3a"
             ],
             [
              0.8888888888888888,
              "#fdca26"
             ],
             [
              1,
              "#f0f921"
             ]
            ],
            "type": "contour"
           }
          ],
          "contourcarpet": [
           {
            "colorbar": {
             "outlinewidth": 0,
             "ticks": ""
            },
            "type": "contourcarpet"
           }
          ],
          "heatmap": [
           {
            "colorbar": {
             "outlinewidth": 0,
             "ticks": ""
            },
            "colorscale": [
             [
              0,
              "#0d0887"
             ],
             [
              0.1111111111111111,
              "#46039f"
             ],
             [
              0.2222222222222222,
              "#7201a8"
             ],
             [
              0.3333333333333333,
              "#9c179e"
             ],
             [
              0.4444444444444444,
              "#bd3786"
             ],
             [
              0.5555555555555556,
              "#d8576b"
             ],
             [
              0.6666666666666666,
              "#ed7953"
             ],
             [
              0.7777777777777778,
              "#fb9f3a"
             ],
             [
              0.8888888888888888,
              "#fdca26"
             ],
             [
              1,
              "#f0f921"
             ]
            ],
            "type": "heatmap"
           }
          ],
          "heatmapgl": [
           {
            "colorbar": {
             "outlinewidth": 0,
             "ticks": ""
            },
            "colorscale": [
             [
              0,
              "#0d0887"
             ],
             [
              0.1111111111111111,
              "#46039f"
             ],
             [
              0.2222222222222222,
              "#7201a8"
             ],
             [
              0.3333333333333333,
              "#9c179e"
             ],
             [
              0.4444444444444444,
              "#bd3786"
             ],
             [
              0.5555555555555556,
              "#d8576b"
             ],
             [
              0.6666666666666666,
              "#ed7953"
             ],
             [
              0.7777777777777778,
              "#fb9f3a"
             ],
             [
              0.8888888888888888,
              "#fdca26"
             ],
             [
              1,
              "#f0f921"
             ]
            ],
            "type": "heatmapgl"
           }
          ],
          "histogram": [
           {
            "marker": {
             "colorbar": {
              "outlinewidth": 0,
              "ticks": ""
             }
            },
            "type": "histogram"
           }
          ],
          "histogram2d": [
           {
            "colorbar": {
             "outlinewidth": 0,
             "ticks": ""
            },
            "colorscale": [
             [
              0,
              "#0d0887"
             ],
             [
              0.1111111111111111,
              "#46039f"
             ],
             [
              0.2222222222222222,
              "#7201a8"
             ],
             [
              0.3333333333333333,
              "#9c179e"
             ],
             [
              0.4444444444444444,
              "#bd3786"
             ],
             [
              0.5555555555555556,
              "#d8576b"
             ],
             [
              0.6666666666666666,
              "#ed7953"
             ],
             [
              0.7777777777777778,
              "#fb9f3a"
             ],
             [
              0.8888888888888888,
              "#fdca26"
             ],
             [
              1,
              "#f0f921"
             ]
            ],
            "type": "histogram2d"
           }
          ],
          "histogram2dcontour": [
           {
            "colorbar": {
             "outlinewidth": 0,
             "ticks": ""
            },
            "colorscale": [
             [
              0,
              "#0d0887"
             ],
             [
              0.1111111111111111,
              "#46039f"
             ],
             [
              0.2222222222222222,
              "#7201a8"
             ],
             [
              0.3333333333333333,
              "#9c179e"
             ],
             [
              0.4444444444444444,
              "#bd3786"
             ],
             [
              0.5555555555555556,
              "#d8576b"
             ],
             [
              0.6666666666666666,
              "#ed7953"
             ],
             [
              0.7777777777777778,
              "#fb9f3a"
             ],
             [
              0.8888888888888888,
              "#fdca26"
             ],
             [
              1,
              "#f0f921"
             ]
            ],
            "type": "histogram2dcontour"
           }
          ],
          "mesh3d": [
           {
            "colorbar": {
             "outlinewidth": 0,
             "ticks": ""
            },
            "type": "mesh3d"
           }
          ],
          "parcoords": [
           {
            "line": {
             "colorbar": {
              "outlinewidth": 0,
              "ticks": ""
             }
            },
            "type": "parcoords"
           }
          ],
          "scatter": [
           {
            "marker": {
             "colorbar": {
              "outlinewidth": 0,
              "ticks": ""
             }
            },
            "type": "scatter"
           }
          ],
          "scatter3d": [
           {
            "line": {
             "colorbar": {
              "outlinewidth": 0,
              "ticks": ""
             }
            },
            "marker": {
             "colorbar": {
              "outlinewidth": 0,
              "ticks": ""
             }
            },
            "type": "scatter3d"
           }
          ],
          "scattercarpet": [
           {
            "marker": {
             "colorbar": {
              "outlinewidth": 0,
              "ticks": ""
             }
            },
            "type": "scattercarpet"
           }
          ],
          "scattergeo": [
           {
            "marker": {
             "colorbar": {
              "outlinewidth": 0,
              "ticks": ""
             }
            },
            "type": "scattergeo"
           }
          ],
          "scattergl": [
           {
            "marker": {
             "colorbar": {
              "outlinewidth": 0,
              "ticks": ""
             }
            },
            "type": "scattergl"
           }
          ],
          "scattermapbox": [
           {
            "marker": {
             "colorbar": {
              "outlinewidth": 0,
              "ticks": ""
             }
            },
            "type": "scattermapbox"
           }
          ],
          "scatterpolar": [
           {
            "marker": {
             "colorbar": {
              "outlinewidth": 0,
              "ticks": ""
             }
            },
            "type": "scatterpolar"
           }
          ],
          "scatterpolargl": [
           {
            "marker": {
             "colorbar": {
              "outlinewidth": 0,
              "ticks": ""
             }
            },
            "type": "scatterpolargl"
           }
          ],
          "scatterternary": [
           {
            "marker": {
             "colorbar": {
              "outlinewidth": 0,
              "ticks": ""
             }
            },
            "type": "scatterternary"
           }
          ],
          "surface": [
           {
            "colorbar": {
             "outlinewidth": 0,
             "ticks": ""
            },
            "colorscale": [
             [
              0,
              "#0d0887"
             ],
             [
              0.1111111111111111,
              "#46039f"
             ],
             [
              0.2222222222222222,
              "#7201a8"
             ],
             [
              0.3333333333333333,
              "#9c179e"
             ],
             [
              0.4444444444444444,
              "#bd3786"
             ],
             [
              0.5555555555555556,
              "#d8576b"
             ],
             [
              0.6666666666666666,
              "#ed7953"
             ],
             [
              0.7777777777777778,
              "#fb9f3a"
             ],
             [
              0.8888888888888888,
              "#fdca26"
             ],
             [
              1,
              "#f0f921"
             ]
            ],
            "type": "surface"
           }
          ],
          "table": [
           {
            "cells": {
             "fill": {
              "color": "#EBF0F8"
             },
             "line": {
              "color": "white"
             }
            },
            "header": {
             "fill": {
              "color": "#C8D4E3"
             },
             "line": {
              "color": "white"
             }
            },
            "type": "table"
           }
          ]
         },
         "layout": {
          "annotationdefaults": {
           "arrowcolor": "#2a3f5f",
           "arrowhead": 0,
           "arrowwidth": 1
          },
          "colorscale": {
           "diverging": [
            [
             0,
             "#8e0152"
            ],
            [
             0.1,
             "#c51b7d"
            ],
            [
             0.2,
             "#de77ae"
            ],
            [
             0.3,
             "#f1b6da"
            ],
            [
             0.4,
             "#fde0ef"
            ],
            [
             0.5,
             "#f7f7f7"
            ],
            [
             0.6,
             "#e6f5d0"
            ],
            [
             0.7,
             "#b8e186"
            ],
            [
             0.8,
             "#7fbc41"
            ],
            [
             0.9,
             "#4d9221"
            ],
            [
             1,
             "#276419"
            ]
           ],
           "sequential": [
            [
             0,
             "#0d0887"
            ],
            [
             0.1111111111111111,
             "#46039f"
            ],
            [
             0.2222222222222222,
             "#7201a8"
            ],
            [
             0.3333333333333333,
             "#9c179e"
            ],
            [
             0.4444444444444444,
             "#bd3786"
            ],
            [
             0.5555555555555556,
             "#d8576b"
            ],
            [
             0.6666666666666666,
             "#ed7953"
            ],
            [
             0.7777777777777778,
             "#fb9f3a"
            ],
            [
             0.8888888888888888,
             "#fdca26"
            ],
            [
             1,
             "#f0f921"
            ]
           ],
           "sequentialminus": [
            [
             0,
             "#0d0887"
            ],
            [
             0.1111111111111111,
             "#46039f"
            ],
            [
             0.2222222222222222,
             "#7201a8"
            ],
            [
             0.3333333333333333,
             "#9c179e"
            ],
            [
             0.4444444444444444,
             "#bd3786"
            ],
            [
             0.5555555555555556,
             "#d8576b"
            ],
            [
             0.6666666666666666,
             "#ed7953"
            ],
            [
             0.7777777777777778,
             "#fb9f3a"
            ],
            [
             0.8888888888888888,
             "#fdca26"
            ],
            [
             1,
             "#f0f921"
            ]
           ]
          },
          "colorway": [
           "#636efa",
           "#EF553B",
           "#00cc96",
           "#ab63fa",
           "#FFA15A",
           "#19d3f3",
           "#FF6692",
           "#B6E880",
           "#FF97FF",
           "#FECB52"
          ],
          "font": {
           "color": "#2a3f5f"
          },
          "geo": {
           "bgcolor": "white",
           "lakecolor": "white",
           "landcolor": "#E5ECF6",
           "showlakes": true,
           "showland": true,
           "subunitcolor": "white"
          },
          "hoverlabel": {
           "align": "left"
          },
          "hovermode": "closest",
          "mapbox": {
           "style": "light"
          },
          "paper_bgcolor": "white",
          "plot_bgcolor": "#E5ECF6",
          "polar": {
           "angularaxis": {
            "gridcolor": "white",
            "linecolor": "white",
            "ticks": ""
           },
           "bgcolor": "#E5ECF6",
           "radialaxis": {
            "gridcolor": "white",
            "linecolor": "white",
            "ticks": ""
           }
          },
          "scene": {
           "xaxis": {
            "backgroundcolor": "#E5ECF6",
            "gridcolor": "white",
            "gridwidth": 2,
            "linecolor": "white",
            "showbackground": true,
            "ticks": "",
            "zerolinecolor": "white"
           },
           "yaxis": {
            "backgroundcolor": "#E5ECF6",
            "gridcolor": "white",
            "gridwidth": 2,
            "linecolor": "white",
            "showbackground": true,
            "ticks": "",
            "zerolinecolor": "white"
           },
           "zaxis": {
            "backgroundcolor": "#E5ECF6",
            "gridcolor": "white",
            "gridwidth": 2,
            "linecolor": "white",
            "showbackground": true,
            "ticks": "",
            "zerolinecolor": "white"
           }
          },
          "shapedefaults": {
           "line": {
            "color": "#2a3f5f"
           }
          },
          "ternary": {
           "aaxis": {
            "gridcolor": "white",
            "linecolor": "white",
            "ticks": ""
           },
           "baxis": {
            "gridcolor": "white",
            "linecolor": "white",
            "ticks": ""
           },
           "bgcolor": "#E5ECF6",
           "caxis": {
            "gridcolor": "white",
            "linecolor": "white",
            "ticks": ""
           }
          },
          "title": {
           "x": 0.05
          },
          "xaxis": {
           "automargin": true,
           "gridcolor": "white",
           "linecolor": "white",
           "ticks": "",
           "zerolinecolor": "white",
           "zerolinewidth": 2
          },
          "yaxis": {
           "automargin": true,
           "gridcolor": "white",
           "linecolor": "white",
           "ticks": "",
           "zerolinecolor": "white",
           "zerolinewidth": 2
          }
         }
        },
        "xaxis": {
         "anchor": "y",
         "domain": [
          0,
          0.98
         ],
         "title": {
          "text": "year"
         }
        },
        "yaxis": {
         "anchor": "x",
         "domain": [
          0,
          1
         ],
         "title": {
          "text": "pop"
         }
        }
       }
      },
      "text/html": [
       "<div>\n",
       "        \n",
       "        \n",
       "            <div id=\"9efb7af4-89f9-4f95-8caf-f2bb097b7e51\" class=\"plotly-graph-div\" style=\"height:600px; width:100%;\"></div>\n",
       "            <script type=\"text/javascript\">\n",
       "                require([\"plotly\"], function(Plotly) {\n",
       "                    window.PLOTLYENV=window.PLOTLYENV || {};\n",
       "                    \n",
       "                if (document.getElementById(\"9efb7af4-89f9-4f95-8caf-f2bb097b7e51\")) {\n",
       "                    Plotly.newPlot(\n",
       "                        '9efb7af4-89f9-4f95-8caf-f2bb097b7e51',\n",
       "                        [{\"alignmentgroup\": \"True\", \"hoverlabel\": {\"namelength\": 0}, \"hovertemplate\": \"year=%{x}<br>pop=%{y}\", \"legendgroup\": \"\", \"marker\": {\"color\": \"#636efa\"}, \"name\": \"\", \"offsetgroup\": \"\", \"orientation\": \"v\", \"showlegend\": false, \"textposition\": \"auto\", \"type\": \"bar\", \"x\": [1952, 1957, 1962, 1967, 1972, 1977, 1982, 1987, 1992, 1997, 2002, 2007], \"xaxis\": \"x\", \"y\": [14785584, 17010154, 18985849, 20819767, 22284500, 23796400, 25201900, 26549700, 28523502, 30305843, 31902268, 33390141], \"yaxis\": \"y\"}],\n",
       "                        {\"barmode\": \"relative\", \"height\": 600, \"legend\": {\"tracegroupgap\": 0}, \"margin\": {\"t\": 60}, \"template\": {\"data\": {\"bar\": [{\"error_x\": {\"color\": \"#2a3f5f\"}, \"error_y\": {\"color\": \"#2a3f5f\"}, \"marker\": {\"line\": {\"color\": \"#E5ECF6\", \"width\": 0.5}}, \"type\": \"bar\"}], \"barpolar\": [{\"marker\": {\"line\": {\"color\": \"#E5ECF6\", \"width\": 0.5}}, \"type\": \"barpolar\"}], \"carpet\": [{\"aaxis\": {\"endlinecolor\": \"#2a3f5f\", \"gridcolor\": \"white\", \"linecolor\": \"white\", \"minorgridcolor\": \"white\", \"startlinecolor\": \"#2a3f5f\"}, \"baxis\": {\"endlinecolor\": \"#2a3f5f\", \"gridcolor\": \"white\", \"linecolor\": \"white\", \"minorgridcolor\": \"white\", \"startlinecolor\": \"#2a3f5f\"}, \"type\": \"carpet\"}], \"choropleth\": [{\"colorbar\": {\"outlinewidth\": 0, \"ticks\": \"\"}, \"type\": \"choropleth\"}], \"contour\": [{\"colorbar\": {\"outlinewidth\": 0, \"ticks\": \"\"}, \"colorscale\": [[0.0, \"#0d0887\"], [0.1111111111111111, \"#46039f\"], [0.2222222222222222, \"#7201a8\"], [0.3333333333333333, \"#9c179e\"], [0.4444444444444444, \"#bd3786\"], [0.5555555555555556, \"#d8576b\"], [0.6666666666666666, \"#ed7953\"], [0.7777777777777778, \"#fb9f3a\"], [0.8888888888888888, \"#fdca26\"], [1.0, \"#f0f921\"]], \"type\": \"contour\"}], \"contourcarpet\": [{\"colorbar\": {\"outlinewidth\": 0, \"ticks\": \"\"}, \"type\": \"contourcarpet\"}], \"heatmap\": [{\"colorbar\": {\"outlinewidth\": 0, \"ticks\": \"\"}, \"colorscale\": [[0.0, \"#0d0887\"], [0.1111111111111111, \"#46039f\"], [0.2222222222222222, \"#7201a8\"], [0.3333333333333333, \"#9c179e\"], [0.4444444444444444, \"#bd3786\"], [0.5555555555555556, \"#d8576b\"], [0.6666666666666666, \"#ed7953\"], [0.7777777777777778, \"#fb9f3a\"], [0.8888888888888888, \"#fdca26\"], [1.0, \"#f0f921\"]], \"type\": \"heatmap\"}], \"heatmapgl\": [{\"colorbar\": {\"outlinewidth\": 0, \"ticks\": \"\"}, \"colorscale\": [[0.0, \"#0d0887\"], [0.1111111111111111, \"#46039f\"], [0.2222222222222222, \"#7201a8\"], [0.3333333333333333, \"#9c179e\"], [0.4444444444444444, \"#bd3786\"], [0.5555555555555556, \"#d8576b\"], [0.6666666666666666, \"#ed7953\"], [0.7777777777777778, \"#fb9f3a\"], [0.8888888888888888, \"#fdca26\"], [1.0, \"#f0f921\"]], \"type\": \"heatmapgl\"}], \"histogram\": [{\"marker\": {\"colorbar\": {\"outlinewidth\": 0, \"ticks\": \"\"}}, \"type\": \"histogram\"}], \"histogram2d\": [{\"colorbar\": {\"outlinewidth\": 0, \"ticks\": \"\"}, \"colorscale\": [[0.0, \"#0d0887\"], [0.1111111111111111, \"#46039f\"], [0.2222222222222222, \"#7201a8\"], [0.3333333333333333, \"#9c179e\"], [0.4444444444444444, \"#bd3786\"], [0.5555555555555556, \"#d8576b\"], [0.6666666666666666, \"#ed7953\"], [0.7777777777777778, \"#fb9f3a\"], [0.8888888888888888, \"#fdca26\"], [1.0, \"#f0f921\"]], \"type\": \"histogram2d\"}], \"histogram2dcontour\": [{\"colorbar\": {\"outlinewidth\": 0, \"ticks\": \"\"}, \"colorscale\": [[0.0, \"#0d0887\"], [0.1111111111111111, \"#46039f\"], [0.2222222222222222, \"#7201a8\"], [0.3333333333333333, \"#9c179e\"], [0.4444444444444444, \"#bd3786\"], [0.5555555555555556, \"#d8576b\"], [0.6666666666666666, \"#ed7953\"], [0.7777777777777778, \"#fb9f3a\"], [0.8888888888888888, \"#fdca26\"], [1.0, \"#f0f921\"]], \"type\": \"histogram2dcontour\"}], \"mesh3d\": [{\"colorbar\": {\"outlinewidth\": 0, \"ticks\": \"\"}, \"type\": \"mesh3d\"}], \"parcoords\": [{\"line\": {\"colorbar\": {\"outlinewidth\": 0, \"ticks\": \"\"}}, \"type\": \"parcoords\"}], \"scatter\": [{\"marker\": {\"colorbar\": {\"outlinewidth\": 0, \"ticks\": \"\"}}, \"type\": \"scatter\"}], \"scatter3d\": [{\"line\": {\"colorbar\": {\"outlinewidth\": 0, \"ticks\": \"\"}}, \"marker\": {\"colorbar\": {\"outlinewidth\": 0, \"ticks\": \"\"}}, \"type\": \"scatter3d\"}], \"scattercarpet\": [{\"marker\": {\"colorbar\": {\"outlinewidth\": 0, \"ticks\": \"\"}}, \"type\": \"scattercarpet\"}], \"scattergeo\": [{\"marker\": {\"colorbar\": {\"outlinewidth\": 0, \"ticks\": \"\"}}, \"type\": \"scattergeo\"}], \"scattergl\": [{\"marker\": {\"colorbar\": {\"outlinewidth\": 0, \"ticks\": \"\"}}, \"type\": \"scattergl\"}], \"scattermapbox\": [{\"marker\": {\"colorbar\": {\"outlinewidth\": 0, \"ticks\": \"\"}}, \"type\": \"scattermapbox\"}], \"scatterpolar\": [{\"marker\": {\"colorbar\": {\"outlinewidth\": 0, \"ticks\": \"\"}}, \"type\": \"scatterpolar\"}], \"scatterpolargl\": [{\"marker\": {\"colorbar\": {\"outlinewidth\": 0, \"ticks\": \"\"}}, \"type\": \"scatterpolargl\"}], \"scatterternary\": [{\"marker\": {\"colorbar\": {\"outlinewidth\": 0, \"ticks\": \"\"}}, \"type\": \"scatterternary\"}], \"surface\": [{\"colorbar\": {\"outlinewidth\": 0, \"ticks\": \"\"}, \"colorscale\": [[0.0, \"#0d0887\"], [0.1111111111111111, \"#46039f\"], [0.2222222222222222, \"#7201a8\"], [0.3333333333333333, \"#9c179e\"], [0.4444444444444444, \"#bd3786\"], [0.5555555555555556, \"#d8576b\"], [0.6666666666666666, \"#ed7953\"], [0.7777777777777778, \"#fb9f3a\"], [0.8888888888888888, \"#fdca26\"], [1.0, \"#f0f921\"]], \"type\": \"surface\"}], \"table\": [{\"cells\": {\"fill\": {\"color\": \"#EBF0F8\"}, \"line\": {\"color\": \"white\"}}, \"header\": {\"fill\": {\"color\": \"#C8D4E3\"}, \"line\": {\"color\": \"white\"}}, \"type\": \"table\"}]}, \"layout\": {\"annotationdefaults\": {\"arrowcolor\": \"#2a3f5f\", \"arrowhead\": 0, \"arrowwidth\": 1}, \"colorscale\": {\"diverging\": [[0, \"#8e0152\"], [0.1, \"#c51b7d\"], [0.2, \"#de77ae\"], [0.3, \"#f1b6da\"], [0.4, \"#fde0ef\"], [0.5, \"#f7f7f7\"], [0.6, \"#e6f5d0\"], [0.7, \"#b8e186\"], [0.8, \"#7fbc41\"], [0.9, \"#4d9221\"], [1, \"#276419\"]], \"sequential\": [[0.0, \"#0d0887\"], [0.1111111111111111, \"#46039f\"], [0.2222222222222222, \"#7201a8\"], [0.3333333333333333, \"#9c179e\"], [0.4444444444444444, \"#bd3786\"], [0.5555555555555556, \"#d8576b\"], [0.6666666666666666, \"#ed7953\"], [0.7777777777777778, \"#fb9f3a\"], [0.8888888888888888, \"#fdca26\"], [1.0, \"#f0f921\"]], \"sequentialminus\": [[0.0, \"#0d0887\"], [0.1111111111111111, \"#46039f\"], [0.2222222222222222, \"#7201a8\"], [0.3333333333333333, \"#9c179e\"], [0.4444444444444444, \"#bd3786\"], [0.5555555555555556, \"#d8576b\"], [0.6666666666666666, \"#ed7953\"], [0.7777777777777778, \"#fb9f3a\"], [0.8888888888888888, \"#fdca26\"], [1.0, \"#f0f921\"]]}, \"colorway\": [\"#636efa\", \"#EF553B\", \"#00cc96\", \"#ab63fa\", \"#FFA15A\", \"#19d3f3\", \"#FF6692\", \"#B6E880\", \"#FF97FF\", \"#FECB52\"], \"font\": {\"color\": \"#2a3f5f\"}, \"geo\": {\"bgcolor\": \"white\", \"lakecolor\": \"white\", \"landcolor\": \"#E5ECF6\", \"showlakes\": true, \"showland\": true, \"subunitcolor\": \"white\"}, \"hoverlabel\": {\"align\": \"left\"}, \"hovermode\": \"closest\", \"mapbox\": {\"style\": \"light\"}, \"paper_bgcolor\": \"white\", \"plot_bgcolor\": \"#E5ECF6\", \"polar\": {\"angularaxis\": {\"gridcolor\": \"white\", \"linecolor\": \"white\", \"ticks\": \"\"}, \"bgcolor\": \"#E5ECF6\", \"radialaxis\": {\"gridcolor\": \"white\", \"linecolor\": \"white\", \"ticks\": \"\"}}, \"scene\": {\"xaxis\": {\"backgroundcolor\": \"#E5ECF6\", \"gridcolor\": \"white\", \"gridwidth\": 2, \"linecolor\": \"white\", \"showbackground\": true, \"ticks\": \"\", \"zerolinecolor\": \"white\"}, \"yaxis\": {\"backgroundcolor\": \"#E5ECF6\", \"gridcolor\": \"white\", \"gridwidth\": 2, \"linecolor\": \"white\", \"showbackground\": true, \"ticks\": \"\", \"zerolinecolor\": \"white\"}, \"zaxis\": {\"backgroundcolor\": \"#E5ECF6\", \"gridcolor\": \"white\", \"gridwidth\": 2, \"linecolor\": \"white\", \"showbackground\": true, \"ticks\": \"\", \"zerolinecolor\": \"white\"}}, \"shapedefaults\": {\"line\": {\"color\": \"#2a3f5f\"}}, \"ternary\": {\"aaxis\": {\"gridcolor\": \"white\", \"linecolor\": \"white\", \"ticks\": \"\"}, \"baxis\": {\"gridcolor\": \"white\", \"linecolor\": \"white\", \"ticks\": \"\"}, \"bgcolor\": \"#E5ECF6\", \"caxis\": {\"gridcolor\": \"white\", \"linecolor\": \"white\", \"ticks\": \"\"}}, \"title\": {\"x\": 0.05}, \"xaxis\": {\"automargin\": true, \"gridcolor\": \"white\", \"linecolor\": \"white\", \"ticks\": \"\", \"zerolinecolor\": \"white\", \"zerolinewidth\": 2}, \"yaxis\": {\"automargin\": true, \"gridcolor\": \"white\", \"linecolor\": \"white\", \"ticks\": \"\", \"zerolinecolor\": \"white\", \"zerolinewidth\": 2}}}, \"xaxis\": {\"anchor\": \"y\", \"domain\": [0.0, 0.98], \"title\": {\"text\": \"year\"}}, \"yaxis\": {\"anchor\": \"x\", \"domain\": [0.0, 1.0], \"title\": {\"text\": \"pop\"}}},\n",
       "                        {\"responsive\": true}\n",
       "                    ).then(function(){\n",
       "                            \n",
       "var gd = document.getElementById('9efb7af4-89f9-4f95-8caf-f2bb097b7e51');\n",
       "var x = new MutationObserver(function (mutations, observer) {{\n",
       "        var display = window.getComputedStyle(gd).display;\n",
       "        if (!display || display === 'none') {{\n",
       "            console.log([gd, 'removed!']);\n",
       "            Plotly.purge(gd);\n",
       "            observer.disconnect();\n",
       "        }}\n",
       "}});\n",
       "\n",
       "// Listen for the removal of the full notebook cells\n",
       "var notebookContainer = gd.closest('#notebook-container');\n",
       "if (notebookContainer) {{\n",
       "    x.observe(notebookContainer, {childList: true});\n",
       "}}\n",
       "\n",
       "// Listen for the clearing of the current output cell\n",
       "var outputEl = gd.closest('.output');\n",
       "if (outputEl) {{\n",
       "    x.observe(outputEl, {childList: true});\n",
       "}}\n",
       "\n",
       "                        })\n",
       "                };\n",
       "                });\n",
       "            </script>\n",
       "        </div>"
      ]
     },
     "metadata": {},
     "output_type": "display_data"
    }
   ],
   "source": [
    "import plotly.express as px\n",
    "\n",
    "gender = data['Gender'].unique()\n",
    "violation_year = data['Violation Year'].unique()\n",
    "amount_of_violations_per_group = data.groupby(['Violation Description']).size()\n",
    "\n",
    "\n",
    "#tips = px.data.tips()\n",
    "#fig = px.bar(tips, x=gender, y=amount_of_violations_per_group, color=gender)\n",
    "#fig.show()\n",
    "\n",
    "\n",
    "\n",
    "data_canada = px.data.gapminder().query(\"country == 'Canada'\")\n",
    "\n",
    "print(data)\n",
    "\n",
    "fig = px.bar(data, x='Violation Year', y='pop')\n",
    "fig.show()"
   ]
  },
  {
   "cell_type": "code",
   "execution_count": null,
   "metadata": {},
   "outputs": [],
   "source": [
    "# Remove mirrored correlation\n",
    "mask = np.zeros_like(data.corr(), dtype=np.bool)\n",
    "mask[np.triu_indices_from(mask)] = True\n",
    "# Size of heatmap\n",
    "f, ax = plt.subplots(figsize=(8,8))\n",
    "\n",
    "sns.heatmap(data.corr()\n",
    "                      , mask=mask\n",
    "                      , vmin=-1\n",
    "                      , vmax=1\n",
    "                      , cmap='coolwarm'\n",
    "                      , square=True\n",
    "                      , annot=True\n",
    "                      , linewidths=.7\n",
    ")"
   ]
  },
  {
   "cell_type": "markdown",
   "metadata": {},
   "source": [
    "## Raw analysis\n",
    "\n",
    "This does not really help us a lot... lets take another less visual look at the data:"
   ]
  },
  {
   "cell_type": "code",
   "execution_count": 2,
   "metadata": {},
   "outputs": [
    {
     "ename": "NameError",
     "evalue": "name 'data' is not defined",
     "output_type": "error",
     "traceback": [
      "\u001b[1;31m---------------------------------------------------------------------------\u001b[0m",
      "\u001b[1;31mNameError\u001b[0m                                 Traceback (most recent call last)",
      "\u001b[1;32m<ipython-input-2-f6f2f04ef65e>\u001b[0m in \u001b[0;36m<module>\u001b[1;34m()\u001b[0m\n\u001b[0;32m      8\u001b[0m \u001b[1;33m\u001b[0m\u001b[0m\n\u001b[0;32m      9\u001b[0m \u001b[1;33m\u001b[0m\u001b[0m\n\u001b[1;32m---> 10\u001b[1;33m \u001b[0mfig\u001b[0m \u001b[1;33m=\u001b[0m \u001b[0mgo\u001b[0m\u001b[1;33m.\u001b[0m\u001b[0mbar\u001b[0m\u001b[1;33m(\u001b[0m\u001b[0mdata\u001b[0m\u001b[1;33m[\u001b[0m\u001b[1;34m'Violation Year'\u001b[0m\u001b[1;33m]\u001b[0m\u001b[1;33m,\u001b[0m \u001b[0mx\u001b[0m\u001b[1;33m=\u001b[0m\u001b[1;34m'year'\u001b[0m\u001b[1;33m,\u001b[0m \u001b[0my\u001b[0m\u001b[1;33m=\u001b[0m\u001b[1;34m'pop'\u001b[0m\u001b[1;33m)\u001b[0m\u001b[1;33m\u001b[0m\u001b[0m\n\u001b[0m\u001b[0;32m     11\u001b[0m \u001b[0mfig\u001b[0m\u001b[1;33m.\u001b[0m\u001b[0mshow\u001b[0m\u001b[1;33m(\u001b[0m\u001b[1;33m)\u001b[0m\u001b[1;33m\u001b[0m\u001b[0m\n\u001b[0;32m     12\u001b[0m \u001b[1;33m\u001b[0m\u001b[0m\n",
      "\u001b[1;31mNameError\u001b[0m: name 'data' is not defined"
     ]
    }
   ],
   "source": [
    "#data.groupby(['Violation Description']).size().sort_values(ascending=False)"
   ]
  }
 ],
 "metadata": {
  "kernelspec": {
   "display_name": "Python 3",
   "language": "python",
   "name": "python3"
  },
  "language_info": {
   "codemirror_mode": {
    "name": "ipython",
    "version": 3
   },
   "file_extension": ".py",
   "mimetype": "text/x-python",
   "name": "python",
   "nbconvert_exporter": "python",
   "pygments_lexer": "ipython3",
   "version": "3.6.4"
  }
 },
 "nbformat": 4,
 "nbformat_minor": 2
}
