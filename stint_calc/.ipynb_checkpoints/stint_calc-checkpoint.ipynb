{
 "cells": [
  {
   "cell_type": "code",
   "execution_count": 1,
   "id": "international-motion",
   "metadata": {},
   "outputs": [
    {
     "name": "stdout",
     "output_type": "stream",
     "text": [
      "Requirement already satisfied: matplotlib in c:\\users\\jakob engl\\appdata\\local\\programs\\python\\python38\\lib\\site-packages (3.4.3)\n",
      "Requirement already satisfied: kiwisolver>=1.0.1 in c:\\users\\jakob engl\\appdata\\local\\programs\\python\\python38\\lib\\site-packages (from matplotlib) (1.3.2)\n",
      "Requirement already satisfied: pyparsing>=2.2.1 in c:\\users\\jakob engl\\appdata\\local\\programs\\python\\python38\\lib\\site-packages (from matplotlib) (2.4.7)\n",
      "Requirement already satisfied: pillow>=6.2.0 in c:\\users\\jakob engl\\appdata\\local\\programs\\python\\python38\\lib\\site-packages (from matplotlib) (8.4.0)\n",
      "Requirement already satisfied: python-dateutil>=2.7 in c:\\users\\jakob engl\\appdata\\local\\programs\\python\\python38\\lib\\site-packages (from matplotlib) (2.8.1)\n",
      "Requirement already satisfied: numpy>=1.16 in c:\\users\\jakob engl\\appdata\\local\\programs\\python\\python38\\lib\\site-packages (from matplotlib) (1.20.1)\n",
      "Requirement already satisfied: cycler>=0.10 in c:\\users\\jakob engl\\appdata\\local\\programs\\python\\python38\\lib\\site-packages (from matplotlib) (0.11.0)\n",
      "Requirement already satisfied: six>=1.5 in c:\\users\\jakob engl\\appdata\\roaming\\python\\python38\\site-packages (from python-dateutil>=2.7->matplotlib) (1.15.0)\n"
     ]
    },
    {
     "name": "stderr",
     "output_type": "stream",
     "text": [
      "WARNING: You are using pip version 19.2.3, however version 21.3.1 is available.\n",
      "You should consider upgrading via the 'python -m pip install --upgrade pip' command.\n"
     ]
    }
   ],
   "source": [
    "import sys\n",
    "\n",
    "!\"c:\\users\\jakob engl\\appdata\\local\\programs\\python\\python38\\python.exe\" -m pip install matplotlib"
   ]
  },
  {
   "cell_type": "code",
   "execution_count": 2,
   "id": "subtle-breeding",
   "metadata": {},
   "outputs": [],
   "source": [
    "import plotly.express as px\n",
    "import plotly.figure_factory as ff\n",
    "import pandas as pd\n",
    "from datetime import datetime, timedelta\n",
    "import math\n",
    "import numpy as np\n",
    "import matplotlib.pyplot as plt"
   ]
  },
  {
   "cell_type": "markdown",
   "id": "still-running",
   "metadata": {},
   "source": [
    "# Masterdata"
   ]
  },
  {
   "cell_type": "code",
   "execution_count": 4,
   "id": "adapted-reynolds",
   "metadata": {},
   "outputs": [],
   "source": [
    "__tires_perc_problem__ = .30\n",
    "__fuel_amount_start__ = 100\n",
    "__tire_change_sec__ = 3\n",
    "__l_per_sec__ = 5\n",
    "\n",
    "overall_rounds = 51\n",
    "tire_per_round = 12\n",
    "fuel_per_round = 10\n",
    "round_duration_sec = 51\n",
    "secs_lost_with_tires_low_per_round = 5\n",
    "pit_stop_delta_time = 20\n",
    "\n",
    "fuel_safety = 4\n",
    "\n",
    "strats = ['avoid_low_tire', 'minimize_low_tire', 'least_stops']\n",
    "rounds_fuel = math.floor(100 / fuel_per_round)\n",
    "rounds_tires = math.floor(100 / tire_per_round)\n"
   ]
  },
  {
   "cell_type": "markdown",
   "id": "settled-ancient",
   "metadata": {},
   "source": [
    "## Calculate some constants"
   ]
  },
  {
   "cell_type": "code",
   "execution_count": 5,
   "id": "jewish-millennium",
   "metadata": {},
   "outputs": [
    {
     "name": "stdout",
     "output_type": "stream",
     "text": [
      "Rounds per stint: 8 - 5/6 in 9.107142857142858 sints\n"
     ]
    }
   ],
   "source": [
    "rounds_without_tire_problem = rounds_tires * (1- __tires_perc_problem__)\n",
    "\n",
    "# Ceiled and floored rounds\n",
    "rounds_without_tire_problem_floored = math.floor(rounds_without_tire_problem)\n",
    "rounds_without_tire_problem_ceiled = math.ceil(rounds_without_tire_problem)\n",
    "\n",
    "# Stints overall needed\n",
    "stints_needed = overall_rounds /  rounds_without_tire_problem\n",
    "\n",
    "print(f\"Rounds per stint: {rounds_tires} - {rounds_without_tire_problem_floored}/{rounds_without_tire_problem_ceiled} in {stints_needed} sints\")"
   ]
  },
  {
   "cell_type": "markdown",
   "id": "forced-paste",
   "metadata": {},
   "source": [
    "## Helper functions for pitstop logic"
   ]
  },
  {
   "cell_type": "code",
   "execution_count": 6,
   "id": "billion-elephant",
   "metadata": {},
   "outputs": [],
   "source": [
    "def getTireLoss(tire_percent ):\n",
    "    return (max(0, 30 - tire_percent) / tire_per_round) * secs_lost_with_tires_low_per_round"
   ]
  },
  {
   "cell_type": "code",
   "execution_count": 7,
   "id": "secondary-revelation",
   "metadata": {},
   "outputs": [],
   "source": [
    "def getFuelToRefuel(rounds_left, fuel_per_round, fuel_safety, current_fuel_percent):\n",
    "    \n",
    "    fuel_needed_to_finish = (rounds_left * fuel_per_round) + fuel_safety\n",
    "    # either 100 percent or simply for how many rounds are left\n",
    "    fuel_to_refuel = min(fuel_needed_to_finish, 100)\n",
    "    # if we now need less, dont lower the val...    \n",
    "    return max(fuel_to_refuel, current_fuel_percent)    \n",
    "    "
   ]
  },
  {
   "cell_type": "code",
   "execution_count": 10,
   "id": "bulgarian-western",
   "metadata": {},
   "outputs": [],
   "source": [
    "def doPitStop(fuel_percent, tire_percent, last_stop_round, df, reason):\n",
    "    \n",
    "    #print(f\"PITSPOT in round: {current_round} (last stop in: {last_stop_round}) due to __{reason}__\")\n",
    "    \n",
    "      \n",
    "    rounds_left = (overall_rounds) - current_round\n",
    "    fuel_calculated = getFuelToRefuel(rounds_left, fuel_per_round, fuel_safety, fuel_percent)\n",
    "    \n",
    "    # it starts with 30% so 30 - current tire = 30 - 25 = 5%, 12% per round = 40%, so 40%\n",
    "    sec_lost_with_low_tire = getTireLoss(tire_percent)\n",
    "    \n",
    "    df.append(dict(Task=f\"Stint {len(df) + 1}\"\n",
    "                       , start=last_stop_round\n",
    "                       , finish=current_round\n",
    "                       , current_fuel=fuel_percent\n",
    "                       , current_tire=tire_percent\n",
    "                       , refueling_to=fuel_calculated\n",
    "                       , sec_lost_with_low_tire=sec_lost_with_low_tire))\n",
    "    \n",
    "    \n",
    "    fuel_percent = fuel_calculated\n",
    "    tire_percent = 100\n",
    "    \n",
    "    return fuel_percent, tire_percent, current_round"
   ]
  },
  {
   "cell_type": "code",
   "execution_count": 11,
   "id": "supported-split",
   "metadata": {},
   "outputs": [],
   "source": [
    "def makePlot(df):\n",
    "    plotDf = pd.DataFrame(df)\n",
    "    \n",
    "    plotDf['days_start_to_end'] = plotDf.finish - plotDf.start\n",
    "\n",
    "    fig, ax = plt.subplots(1, figsize=(16,6))\n",
    "    ax.barh(plotDf.Task, plotDf.days_start_to_end, left=plotDf.start)\n",
    "    \n",
    "    plt.axvline(x=overall_rounds, color='r', linestyle='--')\n",
    "    \n",
    "    plt.show()\n",
    "\n"
   ]
  },
  {
   "cell_type": "markdown",
   "id": "brutal-timber",
   "metadata": {},
   "source": [
    "## Simulation"
   ]
  },
  {
   "cell_type": "code",
   "execution_count": 12,
   "id": "contemporary-syndrome",
   "metadata": {},
   "outputs": [
    {
     "name": "stdout",
     "output_type": "stream",
     "text": [
      "Simulating with strat: avoid_low_tire\n",
      "Summary\n",
      "1. stop in round 5 with tire: 40% and fuel: 50l / refuel to: 100l\n",
      "2. stop in round 10 with tire: 40% and fuel: 50l / refuel to: 100l\n",
      "3. stop in round 15 with tire: 40% and fuel: 50l / refuel to: 100l\n",
      "4. stop in round 20 with tire: 40% and fuel: 50l / refuel to: 100l\n",
      "5. stop in round 25 with tire: 40% and fuel: 50l / refuel to: 100l\n",
      "6. stop in round 30 with tire: 40% and fuel: 50l / refuel to: 100l\n",
      "7. stop in round 35 with tire: 40% and fuel: 50l / refuel to: 100l\n",
      "8. stop in round 40 with tire: 40% and fuel: 50l / refuel to: 100l\n",
      "9. stop in round 45 with tire: 40% and fuel: 50l / refuel to: 64l\n",
      "10. stop in round 50 with tire: 40% and fuel: 14l / refuel to: 14l\n",
      "Finishing race with tire: 88% and fuel: 4l\n",
      "\n",
      "\n",
      "Race duration:\n",
      "51 rounds = 2601s\n",
      "11 pitstops = 220s\n",
      "51 seconds lost due to low tire = 0.0s\n",
      "Overall duration: 47m 1sec\n"
     ]
    },
    {
     "data": {
      "image/png": "[encoded data removed]",
      "text/plain": [
       "<Figure size 1152x432 with 1 Axes>"
      ]
     },
     "metadata": {
      "needs_background": "light"
     },
     "output_type": "display_data"
    },
    {
     "name": "stdout",
     "output_type": "stream",
     "text": [
      "Simulating with strat: minimize_low_tire\n",
      "Summary\n",
      "1. stop in round 6 with tire: 28% and fuel: 40l / refuel to: 100l\n",
      "2. stop in round 12 with tire: 28% and fuel: 40l / refuel to: 100l\n",
      "3. stop in round 18 with tire: 28% and fuel: 40l / refuel to: 100l\n",
      "4. stop in round 24 with tire: 28% and fuel: 40l / refuel to: 100l\n",
      "5. stop in round 30 with tire: 28% and fuel: 40l / refuel to: 100l\n",
      "6. stop in round 36 with tire: 28% and fuel: 40l / refuel to: 100l\n",
      "7. stop in round 42 with tire: 28% and fuel: 40l / refuel to: 94l\n",
      "8. stop in round 48 with tire: 28% and fuel: 34l / refuel to: 34l\n",
      "Finishing race with tire: 64% and fuel: 4l\n",
      "\n",
      "\n",
      "Race duration:\n",
      "51 rounds = 2601s\n",
      "9 pitstops = 180s\n",
      "51 seconds lost due to low tire = 6.67s\n",
      "Overall duration: 46m 27sec\n"
     ]
    },
    {
     "data": {
      "image/png": "[encoded data removed]",
      "text/plain": [
       "<Figure size 1152x432 with 1 Axes>"
      ]
     },
     "metadata": {
      "needs_background": "light"
     },
     "output_type": "display_data"
    },
    {
     "name": "stdout",
     "output_type": "stream",
     "text": [
      "Simulating with strat: least_stops\n",
      "Summary\n",
      "1. stop in round 8 with tire: 4% and fuel: 20l / refuel to: 100l\n",
      "2. stop in round 16 with tire: 4% and fuel: 20l / refuel to: 100l\n",
      "3. stop in round 24 with tire: 4% and fuel: 20l / refuel to: 100l\n",
      "4. stop in round 32 with tire: 4% and fuel: 20l / refuel to: 100l\n",
      "5. stop in round 40 with tire: 4% and fuel: 20l / refuel to: 100l\n",
      "6. stop in round 48 with tire: 4% and fuel: 20l / refuel to: 34l\n",
      "Finishing race with tire: 64% and fuel: 4l\n",
      "\n",
      "\n",
      "Race duration:\n",
      "51 rounds = 2601s\n",
      "7 pitstops = 140s\n",
      "51 seconds lost due to low tire = 65.0s\n",
      "Overall duration: 46m 46sec\n"
     ]
    },
    {
     "data": {
      "image/png": "[encoded data removed]",
      "text/plain": [
       "<Figure size 1152x432 with 1 Axes>"
      ]
     },
     "metadata": {
      "needs_background": "light"
     },
     "output_type": "display_data"
    }
   ],
   "source": [
    "splits = []\n",
    "\n",
    "for i, strat in enumerate(strats):\n",
    "    \n",
    "    df = []\n",
    "   \n",
    "    current_round = 1\n",
    "    fuel_percent = 100\n",
    "    tire_percent = 100\n",
    "    last_stop_round = 1\n",
    "    \n",
    "    print(f\"Simulating with strat: {strat}\")\n",
    "    \n",
    "    while current_round <= overall_rounds:\n",
    "        \n",
    "        fuel_percent -= fuel_per_round\n",
    "        tire_percent -= tire_per_round\n",
    "        \n",
    "        #print(f\"End of round: {current_round} - fuel: {fuel_percent}/ tire: {tire_percent}\")\n",
    "\n",
    "        # No pitstops in last round\n",
    "        if current_round < overall_rounds:\n",
    "            if fuel_percent < fuel_per_round:\n",
    "                fuel_percent, tire_percent, last_stop_round = doPitStop(fuel_percent, tire_percent, last_stop_round, df, 'FUEL')\n",
    "\n",
    "            if strat == 'avoid_low_tire':\n",
    "                # cant do another round without getting into red zone\n",
    "                if tire_percent < (__tires_perc_problem__) * 100 + tire_per_round:\n",
    "                    fuel_percent, tire_percent, last_stop_round = doPitStop(fuel_percent, tire_percent, last_stop_round, df, 'TIRE')\n",
    "            elif strat == 'minimize_low_tire':\n",
    "                # this round with red tires will be done, then pitted\n",
    "                if tire_percent < (__tires_perc_problem__) * 100:\n",
    "                    fuel_percent, tire_percent, last_stop_round = doPitStop(fuel_percent, tire_percent, last_stop_round, df, 'TIRE')\n",
    "            elif strat == 'least_stops':\n",
    "                # This is the last round which can be done before tires breaking\n",
    "                if tire_percent < tire_per_round * 1:\n",
    "                    fuel_percent, tire_percent, last_stop_round = doPitStop(fuel_percent, tire_percent, last_stop_round, df, 'TIRE')     \n",
    "        elif current_round == overall_rounds:\n",
    "            print(\"Summary\")\n",
    "            \n",
    "            # TODO add here the new fields added in the pitstop func\n",
    "            df.append(dict(Task=f\"Stint {len(df) + 1}\"\n",
    "                               , start=last_stop_round\n",
    "                               , finish=current_round\n",
    "                               , current_fuel=fuel_percent\n",
    "                               , current_tire=tire_percent\n",
    "                               , refueling_to=fuel_percent\n",
    "                               , sec_lost_with_low_tire=getTireLoss(tire_percent)\n",
    "                              , ))\n",
    "            \n",
    "            for i, stint in enumerate(df):\n",
    "                \n",
    "                if i + 1 == len(df):\n",
    "                    print(f\"Finishing race with tire: {stint.get('current_tire')}% and fuel: {stint.get('current_fuel')}l\")\n",
    "                else:\n",
    "                    print(f\"{i+1}. stop in round {stint.get('finish')} with tire: {stint.get('current_tire')}% and fuel: {stint.get('current_fuel')}l / refuel to: {stint.get('refueling_to')}l\")\n",
    "            \n",
    "            \n",
    "            racing_time = overall_rounds * round_duration_sec\n",
    "            pitstop_time = len(df) * pit_stop_delta_time\n",
    "            low_tire_loss = sum([elem.get('sec_lost_with_low_tire') for elem in df])\n",
    "            \n",
    "            print('')\n",
    "            print('')\n",
    "            print('Race duration:')\n",
    "            print(f\"{overall_rounds} rounds = {racing_time}s\")\n",
    "            print(f\"{len(df)} pitstops = {pitstop_time}s\")\n",
    "            print(f\"{overall_rounds} seconds lost due to low tire = {round(low_tire_loss, 2)}s\")\n",
    "            \n",
    "            print(f\"Overall duration: {int((racing_time + pitstop_time + low_tire_loss) / 60)}m {int((racing_time + pitstop_time + low_tire_loss) % 60)}sec\")\n",
    "            \n",
    "            #print(df)\n",
    "            \n",
    "            makePlot(df)\n",
    "            \n",
    "        current_round+=1\n",
    "    "
   ]
  }
 ],
 "metadata": {
  "kernelspec": {
   "display_name": "Python 3",
   "language": "python",
   "name": "python3"
  },
  "language_info": {
   "codemirror_mode": {
    "name": "ipython",
    "version": 3
   },
   "file_extension": ".py",
   "mimetype": "text/x-python",
   "name": "python",
   "nbconvert_exporter": "python",
   "pygments_lexer": "ipython3",
   "version": "3.8.3"
  }
 },
 "nbformat": 4,
 "nbformat_minor": 5
}
