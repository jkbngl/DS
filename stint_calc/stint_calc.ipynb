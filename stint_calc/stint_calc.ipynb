{
 "cells": [
  {
   "cell_type": "code",
   "execution_count": 36,
   "id": "international-motion",
   "metadata": {},
   "outputs": [
    {
     "name": "stdout",
     "output_type": "stream",
     "text": [
      "Requirement already satisfied: matplotlib in c:\\users\\jakob engl\\appdata\\local\\programs\\python\\python38\\lib\\site-packages (3.4.3)\n",
      "Requirement already satisfied: pillow>=6.2.0 in c:\\users\\jakob engl\\appdata\\local\\programs\\python\\python38\\lib\\site-packages (from matplotlib) (8.4.0)\n",
      "Requirement already satisfied: numpy>=1.16 in c:\\users\\jakob engl\\appdata\\local\\programs\\python\\python38\\lib\\site-packages (from matplotlib) (1.20.1)\n",
      "Requirement already satisfied: python-dateutil>=2.7 in c:\\users\\jakob engl\\appdata\\local\\programs\\python\\python38\\lib\\site-packages (from matplotlib) (2.8.1)\n",
      "Requirement already satisfied: pyparsing>=2.2.1 in c:\\users\\jakob engl\\appdata\\local\\programs\\python\\python38\\lib\\site-packages (from matplotlib) (2.4.7)"
     ]
    },
    {
     "name": "stderr",
     "output_type": "stream",
     "text": [
      "WARNING: You are using pip version 19.2.3, however version 21.3.1 is available.\n",
      "You should consider upgrading via the 'python -m pip install --upgrade pip' command.\n"
     ]
    },
    {
     "name": "stdout",
     "output_type": "stream",
     "text": [
      "\n",
      "Requirement already satisfied: kiwisolver>=1.0.1 in c:\\users\\jakob engl\\appdata\\local\\programs\\python\\python38\\lib\\site-packages (from matplotlib) (1.3.2)\n",
      "Requirement already satisfied: cycler>=0.10 in c:\\users\\jakob engl\\appdata\\local\\programs\\python\\python38\\lib\\site-packages (from matplotlib) (0.11.0)\n",
      "Requirement already satisfied: six>=1.5 in c:\\users\\jakob engl\\appdata\\roaming\\python\\python38\\site-packages (from python-dateutil>=2.7->matplotlib) (1.15.0)\n"
     ]
    }
   ],
   "source": [
    "import sys\n",
    "\n",
    "!\"c:\\users\\jakob engl\\appdata\\local\\programs\\python\\python38\\python.exe\" -m pip install matplotlib"
   ]
  },
  {
   "cell_type": "code",
   "execution_count": 37,
   "id": "british-moisture",
   "metadata": {},
   "outputs": [],
   "source": [
    "import plotly.express as px\n",
    "import plotly.figure_factory as ff\n",
    "import pandas as pd\n",
    "from datetime import datetime, timedelta\n",
    "import math\n",
    "import numpy as np\n",
    "import matplotlib.pyplot as plt"
   ]
  },
  {
   "cell_type": "markdown",
   "id": "still-running",
   "metadata": {},
   "source": [
    "# Masterdata"
   ]
  },
  {
   "cell_type": "code",
   "execution_count": 11,
   "id": "adapted-reynolds",
   "metadata": {},
   "outputs": [],
   "source": [
    "__tires_perc_problem__ = .30\n",
    "__fuel_amount_start__ = 100\n",
    "__tire_change_sec__ = 3\n",
    "__l_per_sec__ = 5\n",
    "\n",
    "overall_rounds = 51\n",
    "tire_per_round = 12\n",
    "fuel_per_round = 10\n",
    "rounds_fuel = math.floor(100 / fuel_per_round)\n",
    "rounds_tires = math.floor(100 / tire_per_round)\n",
    "round_duration_sec = 51\n",
    "secs_lost_with_tires_low_per_round = 5\n",
    "fuel_safety = 4\n",
    "strats = ['avoid_low_tire', 'minimize_low_tire', 'least_stops']\n"
   ]
  },
  {
   "cell_type": "markdown",
   "id": "settled-ancient",
   "metadata": {},
   "source": [
    "## Calculate some constants"
   ]
  },
  {
   "cell_type": "code",
   "execution_count": 13,
   "id": "jewish-millennium",
   "metadata": {},
   "outputs": [
    {
     "name": "stdout",
     "output_type": "stream",
     "text": [
      "Rounds per stint: 8 - 5/6 in 9.107142857142858 sints\n"
     ]
    }
   ],
   "source": [
    "rounds_without_tire_problem = rounds_tires * (1- __tires_perc_problem__)\n",
    "\n",
    "\n",
    "# Ceiled and floored rounds\n",
    "rounds_without_tire_problem_floored = math.floor(rounds_without_tire_problem)\n",
    "rounds_without_tire_problem_ceiled = math.ceil(rounds_without_tire_problem)\n",
    "\n",
    "# Stints overall needed\n",
    "stints_needed = overall_rounds /  rounds_without_tire_problem\n",
    "\n",
    "print(f\"Rounds per stint: {rounds_tires} - {rounds_without_tire_problem_floored}/{rounds_without_tire_problem_ceiled} in {stints_needed} sints\")"
   ]
  },
  {
   "cell_type": "markdown",
   "id": "forced-paste",
   "metadata": {},
   "source": [
    "## Helper functions for pitstop logic"
   ]
  },
  {
   "cell_type": "code",
   "execution_count": 15,
   "id": "mechanical-refrigerator",
   "metadata": {},
   "outputs": [],
   "source": [
    "def doPitStop(fuel_percent, tire_percent, last_stop_round, df, reason):\n",
    "    \n",
    "    print(f\"PITSPOT in round: {current_round} (last stop in: {last_stop_round}) due to __{reason}__\")\n",
    "    \n",
    "    tire_percent = 100\n",
    "    \n",
    "    rounds_left = overall_rounds - current_round\n",
    "    \n",
    "    # either 100 percent or simply for how many rounds are left\n",
    "    fuel_percent = max(min((rounds_left * fuel_per_round) + fuel_safety, 100), fuel_percent)\n",
    "        \n",
    "    df.append(dict(Task=f\"Stint {len(df) + 1}\", start=last_stop_round, finish=current_round))\n",
    "    \n",
    "    print(f\"PITSPOT done, tire: {tire_percent}, fuel: {fuel_percent} - nr.: {len(df) + 1}\")\n",
    "    \n",
    "    \n",
    "    return fuel_percent, tire_percent, current_round"
   ]
  },
  {
   "cell_type": "code",
   "execution_count": 52,
   "id": "criminal-ecology",
   "metadata": {},
   "outputs": [
    {
     "data": {
      "text/html": [
       "<div>\n",
       "<style scoped>\n",
       "    .dataframe tbody tr th:only-of-type {\n",
       "        vertical-align: middle;\n",
       "    }\n",
       "\n",
       "    .dataframe tbody tr th {\n",
       "        vertical-align: top;\n",
       "    }\n",
       "\n",
       "    .dataframe thead th {\n",
       "        text-align: right;\n",
       "    }\n",
       "</style>\n",
       "<table border=\"1\" class=\"dataframe\">\n",
       "  <thead>\n",
       "    <tr style=\"text-align: right;\">\n",
       "      <th></th>\n",
       "      <th>Task</th>\n",
       "      <th>start</th>\n",
       "      <th>finish</th>\n",
       "    </tr>\n",
       "  </thead>\n",
       "  <tbody>\n",
       "    <tr>\n",
       "      <th>0</th>\n",
       "      <td>Stint 1</td>\n",
       "      <td>1</td>\n",
       "      <td>9</td>\n",
       "    </tr>\n",
       "    <tr>\n",
       "      <th>1</th>\n",
       "      <td>Stint 2</td>\n",
       "      <td>9</td>\n",
       "      <td>17</td>\n",
       "    </tr>\n",
       "    <tr>\n",
       "      <th>2</th>\n",
       "      <td>Stint 3</td>\n",
       "      <td>17</td>\n",
       "      <td>25</td>\n",
       "    </tr>\n",
       "    <tr>\n",
       "      <th>3</th>\n",
       "      <td>Stint 4</td>\n",
       "      <td>25</td>\n",
       "      <td>33</td>\n",
       "    </tr>\n",
       "    <tr>\n",
       "      <th>4</th>\n",
       "      <td>Stint 5</td>\n",
       "      <td>33</td>\n",
       "      <td>41</td>\n",
       "    </tr>\n",
       "    <tr>\n",
       "      <th>5</th>\n",
       "      <td>Stint 6</td>\n",
       "      <td>41</td>\n",
       "      <td>49</td>\n",
       "    </tr>\n",
       "    <tr>\n",
       "      <th>6</th>\n",
       "      <td>Stint 7</td>\n",
       "      <td>49</td>\n",
       "      <td>51</td>\n",
       "    </tr>\n",
       "  </tbody>\n",
       "</table>\n",
       "</div>"
      ],
      "text/plain": [
       "      Task  start  finish\n",
       "0  Stint 1      1       9\n",
       "1  Stint 2      9      17\n",
       "2  Stint 3     17      25\n",
       "3  Stint 4     25      33\n",
       "4  Stint 5     33      41\n",
       "5  Stint 6     41      49\n",
       "6  Stint 7     49      51"
      ]
     },
     "execution_count": 52,
     "metadata": {},
     "output_type": "execute_result"
    }
   ],
   "source": [
    "plotDf"
   ]
  },
  {
   "cell_type": "code",
   "execution_count": 50,
   "id": "silent-contribution",
   "metadata": {},
   "outputs": [],
   "source": [
    "def makePlot(df):\n",
    "    plotDf = pd.DataFrame(df)\n",
    "    \n",
    "    plotDf['days_start_to_end'] = plotDf.finish - plotDf.start\n",
    "\n",
    "\n",
    "    fig, ax = plt.subplots(1, figsize=(16,6))\n",
    "    ax.barh(plotDf.Task, plotDf.start, left=plotDf.days_start_to_end)\n",
    "    plt.show()\n",
    "\n"
   ]
  },
  {
   "cell_type": "markdown",
   "id": "favorite-journal",
   "metadata": {},
   "source": [
    "## Simulation"
   ]
  },
  {
   "cell_type": "code",
   "execution_count": 51,
   "id": "guilty-index",
   "metadata": {},
   "outputs": [
    {
     "name": "stdout",
     "output_type": "stream",
     "text": [
      "##################\n",
      "Simulating with strat: avoid_low_tire\n",
      "Current round: 1 - fuel: 100/ tire: 100\n",
      "Current round: 2 - fuel: 90/ tire: 88\n",
      "Current round: 3 - fuel: 80/ tire: 76\n",
      "Current round: 4 - fuel: 70/ tire: 64\n",
      "Current round: 5 - fuel: 60/ tire: 52\n",
      "Current round: 6 - fuel: 50/ tire: 40\n",
      "PITSPOT in round: 6 (last stop in: 1) due to __TIRE__\n",
      "PITSPOT done, tire: 100, fuel: 100 - nr.: 2\n",
      "Current round: 7 - fuel: 90/ tire: 88\n",
      "Current round: 8 - fuel: 80/ tire: 76\n",
      "Current round: 9 - fuel: 70/ tire: 64\n",
      "Current round: 10 - fuel: 60/ tire: 52\n",
      "Current round: 11 - fuel: 50/ tire: 40\n",
      "PITSPOT in round: 11 (last stop in: 6) due to __TIRE__\n",
      "PITSPOT done, tire: 100, fuel: 100 - nr.: 3\n",
      "Current round: 12 - fuel: 90/ tire: 88\n",
      "Current round: 13 - fuel: 80/ tire: 76\n",
      "Current round: 14 - fuel: 70/ tire: 64\n",
      "Current round: 15 - fuel: 60/ tire: 52\n",
      "Current round: 16 - fuel: 50/ tire: 40\n",
      "PITSPOT in round: 16 (last stop in: 11) due to __TIRE__\n",
      "PITSPOT done, tire: 100, fuel: 100 - nr.: 4\n",
      "Current round: 17 - fuel: 90/ tire: 88\n",
      "Current round: 18 - fuel: 80/ tire: 76\n",
      "Current round: 19 - fuel: 70/ tire: 64\n",
      "Current round: 20 - fuel: 60/ tire: 52\n",
      "Current round: 21 - fuel: 50/ tire: 40\n",
      "PITSPOT in round: 21 (last stop in: 16) due to __TIRE__\n",
      "PITSPOT done, tire: 100, fuel: 100 - nr.: 5\n",
      "Current round: 22 - fuel: 90/ tire: 88\n",
      "Current round: 23 - fuel: 80/ tire: 76\n",
      "Current round: 24 - fuel: 70/ tire: 64\n",
      "Current round: 25 - fuel: 60/ tire: 52\n",
      "Current round: 26 - fuel: 50/ tire: 40\n",
      "PITSPOT in round: 26 (last stop in: 21) due to __TIRE__\n",
      "PITSPOT done, tire: 100, fuel: 100 - nr.: 6\n",
      "Current round: 27 - fuel: 90/ tire: 88\n",
      "Current round: 28 - fuel: 80/ tire: 76\n",
      "Current round: 29 - fuel: 70/ tire: 64\n",
      "Current round: 30 - fuel: 60/ tire: 52\n",
      "Current round: 31 - fuel: 50/ tire: 40\n",
      "PITSPOT in round: 31 (last stop in: 26) due to __TIRE__\n",
      "PITSPOT done, tire: 100, fuel: 100 - nr.: 7\n",
      "Current round: 32 - fuel: 90/ tire: 88\n",
      "Current round: 33 - fuel: 80/ tire: 76\n",
      "Current round: 34 - fuel: 70/ tire: 64\n",
      "Current round: 35 - fuel: 60/ tire: 52\n",
      "Current round: 36 - fuel: 50/ tire: 40\n",
      "PITSPOT in round: 36 (last stop in: 31) due to __TIRE__\n",
      "PITSPOT done, tire: 100, fuel: 100 - nr.: 8\n",
      "Current round: 37 - fuel: 90/ tire: 88\n",
      "Current round: 38 - fuel: 80/ tire: 76\n",
      "Current round: 39 - fuel: 70/ tire: 64\n",
      "Current round: 40 - fuel: 60/ tire: 52\n",
      "Current round: 41 - fuel: 50/ tire: 40\n",
      "PITSPOT in round: 41 (last stop in: 36) due to __TIRE__\n",
      "PITSPOT done, tire: 100, fuel: 100 - nr.: 9\n",
      "Current round: 42 - fuel: 90/ tire: 88\n",
      "Current round: 43 - fuel: 80/ tire: 76\n",
      "Current round: 44 - fuel: 70/ tire: 64\n",
      "Current round: 45 - fuel: 60/ tire: 52\n",
      "Current round: 46 - fuel: 50/ tire: 40\n",
      "PITSPOT in round: 46 (last stop in: 41) due to __TIRE__\n",
      "PITSPOT done, tire: 100, fuel: 54 - nr.: 10\n",
      "Current round: 47 - fuel: 44/ tire: 88\n",
      "Current round: 48 - fuel: 34/ tire: 76\n",
      "Current round: 49 - fuel: 24/ tire: 64\n",
      "Current round: 50 - fuel: 14/ tire: 52\n",
      "Current round: 51 - fuel: 4/ tire: 40\n",
      "PITSPOT in round: 51 (last stop in: 46) due to __FUEL__\n",
      "PITSPOT done, tire: 100, fuel: 4 - nr.: 11\n",
      "FINISH, making plot with\n",
      "[{'Task': 'Stint 1', 'start': 1, 'finish': 6}, {'Task': 'Stint 2', 'start': 6, 'finish': 11}, {'Task': 'Stint 3', 'start': 11, 'finish': 16}, {'Task': 'Stint 4', 'start': 16, 'finish': 21}, {'Task': 'Stint 5', 'start': 21, 'finish': 26}, {'Task': 'Stint 6', 'start': 26, 'finish': 31}, {'Task': 'Stint 7', 'start': 31, 'finish': 36}, {'Task': 'Stint 8', 'start': 36, 'finish': 41}, {'Task': 'Stint 9', 'start': 41, 'finish': 46}, {'Task': 'Stint 10', 'start': 46, 'finish': 51}]\n"
     ]
    },
    {
     "data": {
      "image/png": "[encoded data removed]",
      "text/plain": [
       "<Figure size 1152x432 with 1 Axes>"
      ]
     },
     "metadata": {
      "needs_background": "light"
     },
     "output_type": "display_data"
    },
    {
     "name": "stdout",
     "output_type": "stream",
     "text": [
      "##################\n",
      "Simulating with strat: minimize_low_tire\n",
      "Current round: 1 - fuel: 100/ tire: 100\n",
      "Current round: 2 - fuel: 90/ tire: 88\n",
      "Current round: 3 - fuel: 80/ tire: 76\n",
      "Current round: 4 - fuel: 70/ tire: 64\n",
      "Current round: 5 - fuel: 60/ tire: 52\n",
      "Current round: 6 - fuel: 50/ tire: 40\n",
      "Current round: 7 - fuel: 40/ tire: 28\n",
      "PITSPOT in round: 7 (last stop in: 1) due to __TIRE__\n",
      "PITSPOT done, tire: 100, fuel: 100 - nr.: 2\n",
      "Current round: 8 - fuel: 90/ tire: 88\n",
      "Current round: 9 - fuel: 80/ tire: 76\n",
      "Current round: 10 - fuel: 70/ tire: 64\n",
      "Current round: 11 - fuel: 60/ tire: 52\n",
      "Current round: 12 - fuel: 50/ tire: 40\n",
      "Current round: 13 - fuel: 40/ tire: 28\n",
      "PITSPOT in round: 13 (last stop in: 7) due to __TIRE__\n",
      "PITSPOT done, tire: 100, fuel: 100 - nr.: 3\n",
      "Current round: 14 - fuel: 90/ tire: 88\n",
      "Current round: 15 - fuel: 80/ tire: 76\n",
      "Current round: 16 - fuel: 70/ tire: 64\n",
      "Current round: 17 - fuel: 60/ tire: 52\n",
      "Current round: 18 - fuel: 50/ tire: 40\n",
      "Current round: 19 - fuel: 40/ tire: 28\n",
      "PITSPOT in round: 19 (last stop in: 13) due to __TIRE__\n",
      "PITSPOT done, tire: 100, fuel: 100 - nr.: 4\n",
      "Current round: 20 - fuel: 90/ tire: 88\n",
      "Current round: 21 - fuel: 80/ tire: 76\n",
      "Current round: 22 - fuel: 70/ tire: 64\n",
      "Current round: 23 - fuel: 60/ tire: 52\n",
      "Current round: 24 - fuel: 50/ tire: 40\n",
      "Current round: 25 - fuel: 40/ tire: 28\n",
      "PITSPOT in round: 25 (last stop in: 19) due to __TIRE__\n",
      "PITSPOT done, tire: 100, fuel: 100 - nr.: 5\n",
      "Current round: 26 - fuel: 90/ tire: 88\n",
      "Current round: 27 - fuel: 80/ tire: 76\n",
      "Current round: 28 - fuel: 70/ tire: 64\n",
      "Current round: 29 - fuel: 60/ tire: 52\n",
      "Current round: 30 - fuel: 50/ tire: 40\n",
      "Current round: 31 - fuel: 40/ tire: 28\n",
      "PITSPOT in round: 31 (last stop in: 25) due to __TIRE__\n",
      "PITSPOT done, tire: 100, fuel: 100 - nr.: 6\n",
      "Current round: 32 - fuel: 90/ tire: 88\n",
      "Current round: 33 - fuel: 80/ tire: 76\n",
      "Current round: 34 - fuel: 70/ tire: 64\n",
      "Current round: 35 - fuel: 60/ tire: 52\n",
      "Current round: 36 - fuel: 50/ tire: 40\n",
      "Current round: 37 - fuel: 40/ tire: 28\n",
      "PITSPOT in round: 37 (last stop in: 31) due to __TIRE__\n",
      "PITSPOT done, tire: 100, fuel: 100 - nr.: 7\n",
      "Current round: 38 - fuel: 90/ tire: 88\n",
      "Current round: 39 - fuel: 80/ tire: 76\n",
      "Current round: 40 - fuel: 70/ tire: 64\n",
      "Current round: 41 - fuel: 60/ tire: 52\n",
      "Current round: 42 - fuel: 50/ tire: 40\n",
      "Current round: 43 - fuel: 40/ tire: 28\n",
      "PITSPOT in round: 43 (last stop in: 37) due to __TIRE__\n",
      "PITSPOT done, tire: 100, fuel: 84 - nr.: 8\n",
      "Current round: 44 - fuel: 74/ tire: 88\n",
      "Current round: 45 - fuel: 64/ tire: 76\n",
      "Current round: 46 - fuel: 54/ tire: 64\n",
      "Current round: 47 - fuel: 44/ tire: 52\n",
      "Current round: 48 - fuel: 34/ tire: 40\n",
      "Current round: 49 - fuel: 24/ tire: 28\n",
      "PITSPOT in round: 49 (last stop in: 43) due to __TIRE__\n",
      "PITSPOT done, tire: 100, fuel: 24 - nr.: 9\n",
      "Current round: 50 - fuel: 14/ tire: 88\n",
      "Current round: 51 - fuel: 4/ tire: 76\n",
      "PITSPOT in round: 51 (last stop in: 49) due to __FUEL__\n",
      "PITSPOT done, tire: 100, fuel: 4 - nr.: 10\n",
      "FINISH, making plot with\n",
      "[{'Task': 'Stint 1', 'start': 1, 'finish': 7}, {'Task': 'Stint 2', 'start': 7, 'finish': 13}, {'Task': 'Stint 3', 'start': 13, 'finish': 19}, {'Task': 'Stint 4', 'start': 19, 'finish': 25}, {'Task': 'Stint 5', 'start': 25, 'finish': 31}, {'Task': 'Stint 6', 'start': 31, 'finish': 37}, {'Task': 'Stint 7', 'start': 37, 'finish': 43}, {'Task': 'Stint 8', 'start': 43, 'finish': 49}, {'Task': 'Stint 9', 'start': 49, 'finish': 51}]\n"
     ]
    },
    {
     "data": {
      "image/png": "[encoded data removed]",
      "text/plain": [
       "<Figure size 1152x432 with 1 Axes>"
      ]
     },
     "metadata": {
      "needs_background": "light"
     },
     "output_type": "display_data"
    },
    {
     "name": "stdout",
     "output_type": "stream",
     "text": [
      "##################\n",
      "Simulating with strat: least_stops\n",
      "Current round: 1 - fuel: 100/ tire: 100\n",
      "Current round: 2 - fuel: 90/ tire: 88\n",
      "Current round: 3 - fuel: 80/ tire: 76\n",
      "Current round: 4 - fuel: 70/ tire: 64\n",
      "Current round: 5 - fuel: 60/ tire: 52\n",
      "Current round: 6 - fuel: 50/ tire: 40\n",
      "Current round: 7 - fuel: 40/ tire: 28\n",
      "Current round: 8 - fuel: 30/ tire: 16\n",
      "Current round: 9 - fuel: 20/ tire: 4\n",
      "PITSPOT in round: 9 (last stop in: 1) due to __TIRE__\n",
      "PITSPOT done, tire: 100, fuel: 100 - nr.: 2\n",
      "Current round: 10 - fuel: 90/ tire: 88\n",
      "Current round: 11 - fuel: 80/ tire: 76\n",
      "Current round: 12 - fuel: 70/ tire: 64\n",
      "Current round: 13 - fuel: 60/ tire: 52\n",
      "Current round: 14 - fuel: 50/ tire: 40\n",
      "Current round: 15 - fuel: 40/ tire: 28\n",
      "Current round: 16 - fuel: 30/ tire: 16\n",
      "Current round: 17 - fuel: 20/ tire: 4\n",
      "PITSPOT in round: 17 (last stop in: 9) due to __TIRE__\n",
      "PITSPOT done, tire: 100, fuel: 100 - nr.: 3\n",
      "Current round: 18 - fuel: 90/ tire: 88\n",
      "Current round: 19 - fuel: 80/ tire: 76\n",
      "Current round: 20 - fuel: 70/ tire: 64\n",
      "Current round: 21 - fuel: 60/ tire: 52\n",
      "Current round: 22 - fuel: 50/ tire: 40\n",
      "Current round: 23 - fuel: 40/ tire: 28\n",
      "Current round: 24 - fuel: 30/ tire: 16\n",
      "Current round: 25 - fuel: 20/ tire: 4\n",
      "PITSPOT in round: 25 (last stop in: 17) due to __TIRE__\n",
      "PITSPOT done, tire: 100, fuel: 100 - nr.: 4\n",
      "Current round: 26 - fuel: 90/ tire: 88\n",
      "Current round: 27 - fuel: 80/ tire: 76\n",
      "Current round: 28 - fuel: 70/ tire: 64\n",
      "Current round: 29 - fuel: 60/ tire: 52\n",
      "Current round: 30 - fuel: 50/ tire: 40\n",
      "Current round: 31 - fuel: 40/ tire: 28\n",
      "Current round: 32 - fuel: 30/ tire: 16\n",
      "Current round: 33 - fuel: 20/ tire: 4\n",
      "PITSPOT in round: 33 (last stop in: 25) due to __TIRE__\n",
      "PITSPOT done, tire: 100, fuel: 100 - nr.: 5\n",
      "Current round: 34 - fuel: 90/ tire: 88\n",
      "Current round: 35 - fuel: 80/ tire: 76\n",
      "Current round: 36 - fuel: 70/ tire: 64\n",
      "Current round: 37 - fuel: 60/ tire: 52\n",
      "Current round: 38 - fuel: 50/ tire: 40\n",
      "Current round: 39 - fuel: 40/ tire: 28\n",
      "Current round: 40 - fuel: 30/ tire: 16\n",
      "Current round: 41 - fuel: 20/ tire: 4\n",
      "PITSPOT in round: 41 (last stop in: 33) due to __TIRE__\n",
      "PITSPOT done, tire: 100, fuel: 100 - nr.: 6\n",
      "Current round: 42 - fuel: 90/ tire: 88\n",
      "Current round: 43 - fuel: 80/ tire: 76\n",
      "Current round: 44 - fuel: 70/ tire: 64\n",
      "Current round: 45 - fuel: 60/ tire: 52\n",
      "Current round: 46 - fuel: 50/ tire: 40\n",
      "Current round: 47 - fuel: 40/ tire: 28\n",
      "Current round: 48 - fuel: 30/ tire: 16\n",
      "Current round: 49 - fuel: 20/ tire: 4\n",
      "PITSPOT in round: 49 (last stop in: 41) due to __TIRE__\n",
      "PITSPOT done, tire: 100, fuel: 24 - nr.: 7\n",
      "Current round: 50 - fuel: 14/ tire: 88\n",
      "Current round: 51 - fuel: 4/ tire: 76\n",
      "PITSPOT in round: 51 (last stop in: 49) due to __FUEL__\n",
      "PITSPOT done, tire: 100, fuel: 4 - nr.: 8\n",
      "FINISH, making plot with\n",
      "[{'Task': 'Stint 1', 'start': 1, 'finish': 9}, {'Task': 'Stint 2', 'start': 9, 'finish': 17}, {'Task': 'Stint 3', 'start': 17, 'finish': 25}, {'Task': 'Stint 4', 'start': 25, 'finish': 33}, {'Task': 'Stint 5', 'start': 33, 'finish': 41}, {'Task': 'Stint 6', 'start': 41, 'finish': 49}, {'Task': 'Stint 7', 'start': 49, 'finish': 51}]\n"
     ]
    },
    {
     "data": {
      "image/png": "[encoded data removed]",
      "text/plain": [
       "<Figure size 1152x432 with 1 Axes>"
      ]
     },
     "metadata": {
      "needs_background": "light"
     },
     "output_type": "display_data"
    }
   ],
   "source": [
    "splits = []\n",
    "\n",
    "for i, strat in enumerate(strats):\n",
    "    \n",
    "    df = []\n",
    "   \n",
    "    current_round = 1\n",
    "    fuel_percent = 100\n",
    "    tire_percent = 100\n",
    "    last_stop_round = 1\n",
    "    \n",
    "    print(f\"##################\")\n",
    "    print(f\"Simulating with strat: {strat}\")\n",
    "    \n",
    "    while current_round <= overall_rounds:\n",
    "        \n",
    "        if current_round == 1:\n",
    "            print(f\"Current round: {current_round} - fuel: {fuel_percent}/ tire: {tire_percent}\")\n",
    "            current_round+=1\n",
    "            pass\n",
    "        \n",
    "        fuel_percent -= fuel_per_round\n",
    "        tire_percent -= tire_per_round\n",
    "        \n",
    "        print(f\"Current round: {current_round} - fuel: {fuel_percent}/ tire: {tire_percent}\")\n",
    "        \n",
    "        if fuel_percent < fuel_per_round:\n",
    "            fuel_percent, tire_percent, last_stop_round = doPitStop(fuel_percent, tire_percent, last_stop_round, df, 'FUEL')\n",
    "\n",
    "        if strat == 'avoid_low_tire':\n",
    "            # cant do another round without getting into red zone\n",
    "            if tire_percent < (__tires_perc_problem__) * 100 + tire_per_round:\n",
    "                fuel_percent, tire_percent, last_stop_round = doPitStop(fuel_percent, tire_percent, last_stop_round, df, 'TIRE')\n",
    "        elif strat == 'minimize_low_tire':\n",
    "            # this round with red tires will be done, then pitted\n",
    "            if tire_percent < (__tires_perc_problem__) * 100:\n",
    "                fuel_percent, tire_percent, last_stop_round = doPitStop(fuel_percent, tire_percent, last_stop_round, df, 'TIRE')\n",
    "        elif strat == 'least_stops':\n",
    "            # This is the last round which can be done before tires breaking\n",
    "            if tire_percent < tire_per_round * 1:\n",
    "                fuel_percent, tire_percent, last_stop_round = doPitStop(fuel_percent, tire_percent, last_stop_round, df, 'TIRE')\n",
    "                \n",
    "        \n",
    "        current_round+=1\n",
    "        \n",
    "        if current_round == overall_rounds + 1:\n",
    "            print(\"FINISH, making plot with\")\n",
    "            print(df)\n",
    "            \n",
    "            makePlot(df)\n",
    "    "
   ]
  },
  {
   "cell_type": "code",
   "execution_count": 80,
   "id": "western-linux",
   "metadata": {},
   "outputs": [
    {
     "ename": "NameError",
     "evalue": "name 'start' is not defined",
     "output_type": "error",
     "traceback": [
      "\u001b[1;31m---------------------------------------------------------------------------\u001b[0m",
      "\u001b[1;31mNameError\u001b[0m                                 Traceback (most recent call last)",
      "\u001b[1;32m<ipython-input-80-767931a4b3a3>\u001b[0m in \u001b[0;36m<module>\u001b[1;34m\u001b[0m\n\u001b[0;32m      7\u001b[0m     \u001b[1;31m# ROUND CALC #\u001b[0m\u001b[1;33m\u001b[0m\u001b[1;33m\u001b[0m\u001b[1;33m\u001b[0m\u001b[0m\n\u001b[0;32m      8\u001b[0m     \u001b[1;31m############\u001b[0m\u001b[1;33m\u001b[0m\u001b[1;33m\u001b[0m\u001b[1;33m\u001b[0m\u001b[0m\n\u001b[1;32m----> 9\u001b[1;33m     \u001b[0msplits\u001b[0m\u001b[1;33m.\u001b[0m\u001b[0mappend\u001b[0m\u001b[1;33m(\u001b[0m\u001b[0mdict\u001b[0m\u001b[1;33m(\u001b[0m\u001b[0mTask\u001b[0m\u001b[1;33m=\u001b[0m\u001b[1;34mf\"{i} Stint\"\u001b[0m\u001b[1;33m,\u001b[0m \u001b[0mStart\u001b[0m\u001b[1;33m=\u001b[0m\u001b[0mstart\u001b[0m\u001b[1;33m,\u001b[0m \u001b[0mFinish\u001b[0m\u001b[1;33m=\u001b[0m\u001b[0mend\u001b[0m\u001b[1;33m,\u001b[0m \u001b[0msplit_type\u001b[0m\u001b[1;33m=\u001b[0m\u001b[1;34m\"stint\"\u001b[0m\u001b[1;33m,\u001b[0m \u001b[0mrounds_driven\u001b[0m\u001b[1;33m=\u001b[0m\u001b[0mrounds_driven\u001b[0m\u001b[1;33m)\u001b[0m\u001b[1;33m)\u001b[0m\u001b[1;33m\u001b[0m\u001b[1;33m\u001b[0m\u001b[0m\n\u001b[0m\u001b[0;32m     10\u001b[0m \u001b[1;33m\u001b[0m\u001b[0m\n\u001b[0;32m     11\u001b[0m     df = [\n",
      "\u001b[1;31mNameError\u001b[0m: name 'start' is not defined"
     ]
    }
   ],
   "source": [
    "splits = []\n",
    "rounds_driven = 0\n",
    "start_fuel = 100\n",
    "\n",
    "while rounds_driven <= overall_rounds:\n",
    "    ############\n",
    "    # ROUND CALC #\n",
    "    ############\n",
    "    splits.append(dict(Task=f\"{i} Stint\", Start=start, Finish=end, split_type=\"stint\", rounds_driven=rounds_driven))\n",
    "    \n",
    "    df = [\n",
    "        \n",
    "        dict(Task=\"Job A\", Start=convert_to_datetime(0), Finish=convert_to_datetime(4)),\n",
    "        dict(Task=\"Job B\", Start=convert_to_datetime(3), Finish=convert_to_datetime(6)),\n",
    "        dict(Task=\"Job C\", Start=convert_to_datetime(6), Finish=convert_to_datetime(10))\n",
    "    ]\n",
    "\n",
    "    num_tick_labels = np.linspace(start = 0, stop = 10, num = 11, dtype = int)\n",
    "    date_ticks = [convert_to_datetime(x) for x in num_tick_labels]\n",
    "\n",
    "   \n",
    "    \n",
    "    ############\n",
    "    ## BOX CALC ##\n",
    "    ############\n",
    "    \n",
    "    # TODO change \"rounds_without_tire_problem\" if different strats are applied\n",
    "    fuel_charging_time = ((rounds_without_tire_problem / rounds_fuel) * 100) / __l_per_sec__\n",
    "    \n",
    "    # If fueling takes longer than changing tyres, this can be done in parallel so doesnt need to be summed up\n",
    "    if fuel_charging_time > __tire_change_sec__:\n",
    "        stop_time = fuel_charging_time\n",
    "    else:\n",
    "        stop_time = __tire_change_sec__\n",
    "    \n",
    "    start =  f\"{datetime.strptime(end, '%Y-%m-%dT%H:%M:%S.%fZ').isoformat()[:-3]}Z\"\n",
    "    end = f\"{(datetime.strptime(end, '%Y-%m-%dT%H:%M:%S.%fZ') +  timedelta(seconds=stop_time)).isoformat()[:-3]}Z\"\n",
    "        \n",
    "    print(start)\n",
    "    print(end)\n",
    "    print(fuel_charging_time)\n",
    "        \n",
    "    splits.append(dict(Task=f\"{i} Stop\", Start=start, Finish=end, split_type=\"box_stop\"))\n",
    "                  \n",
    "    i+=1"
   ]
  },
  {
   "cell_type": "code",
   "execution_count": 175,
   "id": "pleased-ivory",
   "metadata": {},
   "outputs": [
    {
     "data": {
      "application/vnd.plotly.v1+json": {
       "config": {
        "plotlyServerURL": "https://plot.ly"
       },
       "data": [
        {
         "fill": "toself",
         "fillcolor": "rgb(214, 39, 40)",
         "hoverinfo": "name",
         "legendgroup": "rgb(214, 39, 40)",
         "mode": "none",
         "name": "Job D",
         "type": "scatter",
         "x": [
          "1971-07-01",
          "1971-21-02",
          "1971-21-02",
          "1971-07-01"
         ],
         "y": [
          2.8,
          2.8,
          3.2,
          3.2
         ]
        },
        {
         "fill": "toself",
         "fillcolor": "rgb(255, 127, 14)",
         "hoverinfo": "name",
         "legendgroup": "rgb(255, 127, 14)",
         "mode": "none",
         "name": "Job B",
         "type": "scatter",
         "x": [
          "1971-04-01",
          "1971-06-01",
          "1971-06-01",
          "1971-04-01"
         ],
         "y": [
          0.8,
          0.8,
          1.2,
          1.2
         ]
        },
        {
         "fill": "toself",
         "fillcolor": "rgb(31, 119, 180)",
         "hoverinfo": "name",
         "legendgroup": "rgb(31, 119, 180)",
         "mode": "none",
         "name": "Job A",
         "type": "scatter",
         "x": [
          "1971-01-01",
          "1971-05-01",
          "1971-05-01",
          "1971-01-01"
         ],
         "y": [
          -0.2,
          -0.2,
          0.2,
          0.2
         ]
        },
        {
         "fill": "toself",
         "fillcolor": "rgb(44, 160, 44)",
         "hoverinfo": "name",
         "legendgroup": "rgb(44, 160, 44)",
         "mode": "none",
         "name": "Job C",
         "type": "scatter",
         "x": [
          "1971-06-01",
          "1971-08-01",
          "1971-08-01",
          "1971-06-01"
         ],
         "y": [
          1.8,
          1.8,
          2.2,
          2.2
         ]
        },
        {
         "legendgroup": "rgb(214, 39, 40)",
         "marker": {
          "color": "rgb(214, 39, 40)",
          "opacity": 0,
          "size": 1
         },
         "mode": "markers",
         "name": "",
         "showlegend": false,
         "text": [
          null,
          null
         ],
         "type": "scatter",
         "x": [
          "1971-07-01",
          "1971-21-02"
         ],
         "y": [
          3,
          3
         ]
        },
        {
         "legendgroup": "rgb(255, 127, 14)",
         "marker": {
          "color": "rgb(255, 127, 14)",
          "opacity": 0,
          "size": 1
         },
         "mode": "markers",
         "name": "",
         "showlegend": false,
         "text": [
          null,
          null
         ],
         "type": "scatter",
         "x": [
          "1971-04-01",
          "1971-06-01"
         ],
         "y": [
          1,
          1
         ]
        },
        {
         "legendgroup": "rgb(31, 119, 180)",
         "marker": {
          "color": "rgb(31, 119, 180)",
          "opacity": 0,
          "size": 1
         },
         "mode": "markers",
         "name": "",
         "showlegend": false,
         "text": [
          null,
          null
         ],
         "type": "scatter",
         "x": [
          "1971-01-01",
          "1971-05-01"
         ],
         "y": [
          0,
          0
         ]
        },
        {
         "legendgroup": "rgb(44, 160, 44)",
         "marker": {
          "color": "rgb(44, 160, 44)",
          "opacity": 0,
          "size": 1
         },
         "mode": "markers",
         "name": "",
         "showlegend": false,
         "text": [
          null,
          null
         ],
         "type": "scatter",
         "x": [
          "1971-06-01",
          "1971-08-01"
         ],
         "y": [
          2,
          2
         ]
        }
       ],
       "layout": {
        "height": 600,
        "hovermode": "closest",
        "showlegend": false,
        "template": {
         "data": {
          "bar": [
           {
            "error_x": {
             "color": "#2a3f5f"
            },
            "error_y": {
             "color": "#2a3f5f"
            },
            "marker": {
             "line": {
              "color": "#E5ECF6",
              "width": 0.5
             }
            },
            "type": "bar"
           }
          ],
          "barpolar": [
           {
            "marker": {
             "line": {
              "color": "#E5ECF6",
              "width": 0.5
             }
            },
            "type": "barpolar"
           }
          ],
          "carpet": [
           {
            "aaxis": {
             "endlinecolor": "#2a3f5f",
             "gridcolor": "white",
             "linecolor": "white",
             "minorgridcolor": "white",
             "startlinecolor": "#2a3f5f"
            },
            "baxis": {
             "endlinecolor": "#2a3f5f",
             "gridcolor": "white",
             "linecolor": "white",
             "minorgridcolor": "white",
             "startlinecolor": "#2a3f5f"
            },
            "type": "carpet"
           }
          ],
          "choropleth": [
           {
            "colorbar": {
             "outlinewidth": 0,
             "ticks": ""
            },
            "type": "choropleth"
           }
          ],
          "contour": [
           {
            "colorbar": {
             "outlinewidth": 0,
             "ticks": ""
            },
            "colorscale": [
             [
              0,
              "#0d0887"
             ],
             [
              0.1111111111111111,
              "#46039f"
             ],
             [
              0.2222222222222222,
              "#7201a8"
             ],
             [
              0.3333333333333333,
              "#9c179e"
             ],
             [
              0.4444444444444444,
              "#bd3786"
             ],
             [
              0.5555555555555556,
              "#d8576b"
             ],
             [
              0.6666666666666666,
              "#ed7953"
             ],
             [
              0.7777777777777778,
              "#fb9f3a"
             ],
             [
              0.8888888888888888,
              "#fdca26"
             ],
             [
              1,
              "#f0f921"
             ]
            ],
            "type": "contour"
           }
          ],
          "contourcarpet": [
           {
            "colorbar": {
             "outlinewidth": 0,
             "ticks": ""
            },
            "type": "contourcarpet"
           }
          ],
          "heatmap": [
           {
            "colorbar": {
             "outlinewidth": 0,
             "ticks": ""
            },
            "colorscale": [
             [
              0,
              "#0d0887"
             ],
             [
              0.1111111111111111,
              "#46039f"
             ],
             [
              0.2222222222222222,
              "#7201a8"
             ],
             [
              0.3333333333333333,
              "#9c179e"
             ],
             [
              0.4444444444444444,
              "#bd3786"
             ],
             [
              0.5555555555555556,
              "#d8576b"
             ],
             [
              0.6666666666666666,
              "#ed7953"
             ],
             [
              0.7777777777777778,
              "#fb9f3a"
             ],
             [
              0.8888888888888888,
              "#fdca26"
             ],
             [
              1,
              "#f0f921"
             ]
            ],
            "type": "heatmap"
           }
          ],
          "heatmapgl": [
           {
            "colorbar": {
             "outlinewidth": 0,
             "ticks": ""
            },
            "colorscale": [
             [
              0,
              "#0d0887"
             ],
             [
              0.1111111111111111,
              "#46039f"
             ],
             [
              0.2222222222222222,
              "#7201a8"
             ],
             [
              0.3333333333333333,
              "#9c179e"
             ],
             [
              0.4444444444444444,
              "#bd3786"
             ],
             [
              0.5555555555555556,
              "#d8576b"
             ],
             [
              0.6666666666666666,
              "#ed7953"
             ],
             [
              0.7777777777777778,
              "#fb9f3a"
             ],
             [
              0.8888888888888888,
              "#fdca26"
             ],
             [
              1,
              "#f0f921"
             ]
            ],
            "type": "heatmapgl"
           }
          ],
          "histogram": [
           {
            "marker": {
             "colorbar": {
              "outlinewidth": 0,
              "ticks": ""
             }
            },
            "type": "histogram"
           }
          ],
          "histogram2d": [
           {
            "colorbar": {
             "outlinewidth": 0,
             "ticks": ""
            },
            "colorscale": [
             [
              0,
              "#0d0887"
             ],
             [
              0.1111111111111111,
              "#46039f"
             ],
             [
              0.2222222222222222,
              "#7201a8"
             ],
             [
              0.3333333333333333,
              "#9c179e"
             ],
             [
              0.4444444444444444,
              "#bd3786"
             ],
             [
              0.5555555555555556,
              "#d8576b"
             ],
             [
              0.6666666666666666,
              "#ed7953"
             ],
             [
              0.7777777777777778,
              "#fb9f3a"
             ],
             [
              0.8888888888888888,
              "#fdca26"
             ],
             [
              1,
              "#f0f921"
             ]
            ],
            "type": "histogram2d"
           }
          ],
          "histogram2dcontour": [
           {
            "colorbar": {
             "outlinewidth": 0,
             "ticks": ""
            },
            "colorscale": [
             [
              0,
              "#0d0887"
             ],
             [
              0.1111111111111111,
              "#46039f"
             ],
             [
              0.2222222222222222,
              "#7201a8"
             ],
             [
              0.3333333333333333,
              "#9c179e"
             ],
             [
              0.4444444444444444,
              "#bd3786"
             ],
             [
              0.5555555555555556,
              "#d8576b"
             ],
             [
              0.6666666666666666,
              "#ed7953"
             ],
             [
              0.7777777777777778,
              "#fb9f3a"
             ],
             [
              0.8888888888888888,
              "#fdca26"
             ],
             [
              1,
              "#f0f921"
             ]
            ],
            "type": "histogram2dcontour"
           }
          ],
          "mesh3d": [
           {
            "colorbar": {
             "outlinewidth": 0,
             "ticks": ""
            },
            "type": "mesh3d"
           }
          ],
          "parcoords": [
           {
            "line": {
             "colorbar": {
              "outlinewidth": 0,
              "ticks": ""
             }
            },
            "type": "parcoords"
           }
          ],
          "pie": [
           {
            "automargin": true,
            "type": "pie"
           }
          ],
          "scatter": [
           {
            "marker": {
             "colorbar": {
              "outlinewidth": 0,
              "ticks": ""
             }
            },
            "type": "scatter"
           }
          ],
          "scatter3d": [
           {
            "line": {
             "colorbar": {
              "outlinewidth": 0,
              "ticks": ""
             }
            },
            "marker": {
             "colorbar": {
              "outlinewidth": 0,
              "ticks": ""
             }
            },
            "type": "scatter3d"
           }
          ],
          "scattercarpet": [
           {
            "marker": {
             "colorbar": {
              "outlinewidth": 0,
              "ticks": ""
             }
            },
            "type": "scattercarpet"
           }
          ],
          "scattergeo": [
           {
            "marker": {
             "colorbar": {
              "outlinewidth": 0,
              "ticks": ""
             }
            },
            "type": "scattergeo"
           }
          ],
          "scattergl": [
           {
            "marker": {
             "colorbar": {
              "outlinewidth": 0,
              "ticks": ""
             }
            },
            "type": "scattergl"
           }
          ],
          "scattermapbox": [
           {
            "marker": {
             "colorbar": {
              "outlinewidth": 0,
              "ticks": ""
             }
            },
            "type": "scattermapbox"
           }
          ],
          "scatterpolar": [
           {
            "marker": {
             "colorbar": {
              "outlinewidth": 0,
              "ticks": ""
             }
            },
            "type": "scatterpolar"
           }
          ],
          "scatterpolargl": [
           {
            "marker": {
             "colorbar": {
              "outlinewidth": 0,
              "ticks": ""
             }
            },
            "type": "scatterpolargl"
           }
          ],
          "scatterternary": [
           {
            "marker": {
             "colorbar": {
              "outlinewidth": 0,
              "ticks": ""
             }
            },
            "type": "scatterternary"
           }
          ],
          "surface": [
           {
            "colorbar": {
             "outlinewidth": 0,
             "ticks": ""
            },
            "colorscale": [
             [
              0,
              "#0d0887"
             ],
             [
              0.1111111111111111,
              "#46039f"
             ],
             [
              0.2222222222222222,
              "#7201a8"
             ],
             [
              0.3333333333333333,
              "#9c179e"
             ],
             [
              0.4444444444444444,
              "#bd3786"
             ],
             [
              0.5555555555555556,
              "#d8576b"
             ],
             [
              0.6666666666666666,
              "#ed7953"
             ],
             [
              0.7777777777777778,
              "#fb9f3a"
             ],
             [
              0.8888888888888888,
              "#fdca26"
             ],
             [
              1,
              "#f0f921"
             ]
            ],
            "type": "surface"
           }
          ],
          "table": [
           {
            "cells": {
             "fill": {
              "color": "#EBF0F8"
             },
             "line": {
              "color": "white"
             }
            },
            "header": {
             "fill": {
              "color": "#C8D4E3"
             },
             "line": {
              "color": "white"
             }
            },
            "type": "table"
           }
          ]
         },
         "layout": {
          "annotationdefaults": {
           "arrowcolor": "#2a3f5f",
           "arrowhead": 0,
           "arrowwidth": 1
          },
          "autotypenumbers": "strict",
          "coloraxis": {
           "colorbar": {
            "outlinewidth": 0,
            "ticks": ""
           }
          },
          "colorscale": {
           "diverging": [
            [
             0,
             "#8e0152"
            ],
            [
             0.1,
             "#c51b7d"
            ],
            [
             0.2,
             "#de77ae"
            ],
            [
             0.3,
             "#f1b6da"
            ],
            [
             0.4,
             "#fde0ef"
            ],
            [
             0.5,
             "#f7f7f7"
            ],
            [
             0.6,
             "#e6f5d0"
            ],
            [
             0.7,
             "#b8e186"
            ],
            [
             0.8,
             "#7fbc41"
            ],
            [
             0.9,
             "#4d9221"
            ],
            [
             1,
             "#276419"
            ]
           ],
           "sequential": [
            [
             0,
             "#0d0887"
            ],
            [
             0.1111111111111111,
             "#46039f"
            ],
            [
             0.2222222222222222,
             "#7201a8"
            ],
            [
             0.3333333333333333,
             "#9c179e"
            ],
            [
             0.4444444444444444,
             "#bd3786"
            ],
            [
             0.5555555555555556,
             "#d8576b"
            ],
            [
             0.6666666666666666,
             "#ed7953"
            ],
            [
             0.7777777777777778,
             "#fb9f3a"
            ],
            [
             0.8888888888888888,
             "#fdca26"
            ],
            [
             1,
             "#f0f921"
            ]
           ],
           "sequentialminus": [
            [
             0,
             "#0d0887"
            ],
            [
             0.1111111111111111,
             "#46039f"
            ],
            [
             0.2222222222222222,
             "#7201a8"
            ],
            [
             0.3333333333333333,
             "#9c179e"
            ],
            [
             0.4444444444444444,
             "#bd3786"
            ],
            [
             0.5555555555555556,
             "#d8576b"
            ],
            [
             0.6666666666666666,
             "#ed7953"
            ],
            [
             0.7777777777777778,
             "#fb9f3a"
            ],
            [
             0.8888888888888888,
             "#fdca26"
            ],
            [
             1,
             "#f0f921"
            ]
           ]
          },
          "colorway": [
           "#636efa",
           "#EF553B",
           "#00cc96",
           "#ab63fa",
           "#FFA15A",
           "#19d3f3",
           "#FF6692",
           "#B6E880",
           "#FF97FF",
           "#FECB52"
          ],
          "font": {
           "color": "#2a3f5f"
          },
          "geo": {
           "bgcolor": "white",
           "lakecolor": "white",
           "landcolor": "#E5ECF6",
           "showlakes": true,
           "showland": true,
           "subunitcolor": "white"
          },
          "hoverlabel": {
           "align": "left"
          },
          "hovermode": "closest",
          "mapbox": {
           "style": "light"
          },
          "paper_bgcolor": "white",
          "plot_bgcolor": "#E5ECF6",
          "polar": {
           "angularaxis": {
            "gridcolor": "white",
            "linecolor": "white",
            "ticks": ""
           },
           "bgcolor": "#E5ECF6",
           "radialaxis": {
            "gridcolor": "white",
            "linecolor": "white",
            "ticks": ""
           }
          },
          "scene": {
           "xaxis": {
            "backgroundcolor": "#E5ECF6",
            "gridcolor": "white",
            "gridwidth": 2,
            "linecolor": "white",
            "showbackground": true,
            "ticks": "",
            "zerolinecolor": "white"
           },
           "yaxis": {
            "backgroundcolor": "#E5ECF6",
            "gridcolor": "white",
            "gridwidth": 2,
            "linecolor": "white",
            "showbackground": true,
            "ticks": "",
            "zerolinecolor": "white"
           },
           "zaxis": {
            "backgroundcolor": "#E5ECF6",
            "gridcolor": "white",
            "gridwidth": 2,
            "linecolor": "white",
            "showbackground": true,
            "ticks": "",
            "zerolinecolor": "white"
           }
          },
          "shapedefaults": {
           "line": {
            "color": "#2a3f5f"
           }
          },
          "ternary": {
           "aaxis": {
            "gridcolor": "white",
            "linecolor": "white",
            "ticks": ""
           },
           "baxis": {
            "gridcolor": "white",
            "linecolor": "white",
            "ticks": ""
           },
           "bgcolor": "#E5ECF6",
           "caxis": {
            "gridcolor": "white",
            "linecolor": "white",
            "ticks": ""
           }
          },
          "title": {
           "x": 0.05
          },
          "xaxis": {
           "automargin": true,
           "gridcolor": "white",
           "linecolor": "white",
           "ticks": "",
           "title": {
            "standoff": 15
           },
           "zerolinecolor": "white",
           "zerolinewidth": 2
          },
          "yaxis": {
           "automargin": true,
           "gridcolor": "white",
           "linecolor": "white",
           "ticks": "",
           "title": {
            "standoff": 15
           },
           "zerolinecolor": "white",
           "zerolinewidth": 2
          }
         }
        },
        "title": {
         "text": "Gantt Chart"
        },
        "xaxis": {
         "rangeselector": {
          "buttons": [
           {
            "count": 7,
            "label": "1w",
            "step": "day",
            "stepmode": "backward"
           },
           {
            "count": 1,
            "label": "1m",
            "step": "month",
            "stepmode": "backward"
           },
           {
            "count": 6,
            "label": "6m",
            "step": "month",
            "stepmode": "backward"
           },
           {
            "count": 1,
            "label": "YTD",
            "step": "year",
            "stepmode": "todate"
           },
           {
            "count": 1,
            "label": "1y",
            "step": "year",
            "stepmode": "backward"
           },
           {
            "step": "all"
           }
          ]
         },
         "showgrid": false,
         "ticktext": [
          0,
          1,
          2,
          3,
          4,
          5,
          6,
          7,
          8,
          9,
          10,
          11,
          12,
          13,
          14,
          15
         ],
         "tickvals": [
          "1971-01-01",
          "1971-02-01",
          "1971-03-01",
          "1971-04-01",
          "1971-05-01",
          "1971-06-01",
          "1971-07-01",
          "1971-08-01",
          "1971-09-01",
          "1971-10-01",
          "1971-11-01",
          "1971-12-01",
          "1971-13-01",
          "1971-14-01",
          "1971-15-01",
          "1971-16-01"
         ],
         "type": "date",
         "zeroline": false
        },
        "yaxis": {
         "autorange": false,
         "range": [
          -1,
          5
         ],
         "showgrid": false,
         "ticktext": [
          "Job A",
          "Job B",
          "Job C",
          "Job D"
         ],
         "tickvals": [
          0,
          1,
          2,
          3
         ],
         "zeroline": false
        }
       }
      },
      "text/html": [
       "<div>                            <div id=\"bb632230-d719-45f9-a0f1-950b1ad38cfb\" class=\"plotly-graph-div\" style=\"height:600px; width:100%;\"></div>            <script type=\"text/javascript\">                require([\"plotly\"], function(Plotly) {                    window.PLOTLYENV=window.PLOTLYENV || {};                                    if (document.getElementById(\"bb632230-d719-45f9-a0f1-950b1ad38cfb\")) {                    Plotly.newPlot(                        \"bb632230-d719-45f9-a0f1-950b1ad38cfb\",                        [{\"fill\": \"toself\", \"fillcolor\": \"rgb(214, 39, 40)\", \"hoverinfo\": \"name\", \"legendgroup\": \"rgb(214, 39, 40)\", \"mode\": \"none\", \"name\": \"Job D\", \"type\": \"scatter\", \"x\": [\"1971-07-01\", \"1971-21-02\", \"1971-21-02\", \"1971-07-01\"], \"y\": [2.8, 2.8, 3.2, 3.2]}, {\"fill\": \"toself\", \"fillcolor\": \"rgb(255, 127, 14)\", \"hoverinfo\": \"name\", \"legendgroup\": \"rgb(255, 127, 14)\", \"mode\": \"none\", \"name\": \"Job B\", \"type\": \"scatter\", \"x\": [\"1971-04-01\", \"1971-06-01\", \"1971-06-01\", \"1971-04-01\"], \"y\": [0.8, 0.8, 1.2, 1.2]}, {\"fill\": \"toself\", \"fillcolor\": \"rgb(31, 119, 180)\", \"hoverinfo\": \"name\", \"legendgroup\": \"rgb(31, 119, 180)\", \"mode\": \"none\", \"name\": \"Job A\", \"type\": \"scatter\", \"x\": [\"1971-01-01\", \"1971-05-01\", \"1971-05-01\", \"1971-01-01\"], \"y\": [-0.2, -0.2, 0.2, 0.2]}, {\"fill\": \"toself\", \"fillcolor\": \"rgb(44, 160, 44)\", \"hoverinfo\": \"name\", \"legendgroup\": \"rgb(44, 160, 44)\", \"mode\": \"none\", \"name\": \"Job C\", \"type\": \"scatter\", \"x\": [\"1971-06-01\", \"1971-08-01\", \"1971-08-01\", \"1971-06-01\"], \"y\": [1.8, 1.8, 2.2, 2.2]}, {\"legendgroup\": \"rgb(214, 39, 40)\", \"marker\": {\"color\": \"rgb(214, 39, 40)\", \"opacity\": 0, \"size\": 1}, \"mode\": \"markers\", \"name\": \"\", \"showlegend\": false, \"text\": [null, null], \"type\": \"scatter\", \"x\": [\"1971-07-01\", \"1971-21-02\"], \"y\": [3, 3]}, {\"legendgroup\": \"rgb(255, 127, 14)\", \"marker\": {\"color\": \"rgb(255, 127, 14)\", \"opacity\": 0, \"size\": 1}, \"mode\": \"markers\", \"name\": \"\", \"showlegend\": false, \"text\": [null, null], \"type\": \"scatter\", \"x\": [\"1971-04-01\", \"1971-06-01\"], \"y\": [1, 1]}, {\"legendgroup\": \"rgb(31, 119, 180)\", \"marker\": {\"color\": \"rgb(31, 119, 180)\", \"opacity\": 0, \"size\": 1}, \"mode\": \"markers\", \"name\": \"\", \"showlegend\": false, \"text\": [null, null], \"type\": \"scatter\", \"x\": [\"1971-01-01\", \"1971-05-01\"], \"y\": [0, 0]}, {\"legendgroup\": \"rgb(44, 160, 44)\", \"marker\": {\"color\": \"rgb(44, 160, 44)\", \"opacity\": 0, \"size\": 1}, \"mode\": \"markers\", \"name\": \"\", \"showlegend\": false, \"text\": [null, null], \"type\": \"scatter\", \"x\": [\"1971-06-01\", \"1971-08-01\"], \"y\": [2, 2]}],                        {\"height\": 600, \"hovermode\": \"closest\", \"showlegend\": false, \"template\": {\"data\": {\"bar\": [{\"error_x\": {\"color\": \"#2a3f5f\"}, \"error_y\": {\"color\": \"#2a3f5f\"}, \"marker\": {\"line\": {\"color\": \"#E5ECF6\", \"width\": 0.5}}, \"type\": \"bar\"}], \"barpolar\": [{\"marker\": {\"line\": {\"color\": \"#E5ECF6\", \"width\": 0.5}}, \"type\": \"barpolar\"}], \"carpet\": [{\"aaxis\": {\"endlinecolor\": \"#2a3f5f\", \"gridcolor\": \"white\", \"linecolor\": \"white\", \"minorgridcolor\": \"white\", \"startlinecolor\": \"#2a3f5f\"}, \"baxis\": {\"endlinecolor\": \"#2a3f5f\", \"gridcolor\": \"white\", \"linecolor\": \"white\", \"minorgridcolor\": \"white\", \"startlinecolor\": \"#2a3f5f\"}, \"type\": \"carpet\"}], \"choropleth\": [{\"colorbar\": {\"outlinewidth\": 0, \"ticks\": \"\"}, \"type\": \"choropleth\"}], \"contour\": [{\"colorbar\": {\"outlinewidth\": 0, \"ticks\": \"\"}, \"colorscale\": [[0.0, \"#0d0887\"], [0.1111111111111111, \"#46039f\"], [0.2222222222222222, \"#7201a8\"], [0.3333333333333333, \"#9c179e\"], [0.4444444444444444, \"#bd3786\"], [0.5555555555555556, \"#d8576b\"], [0.6666666666666666, \"#ed7953\"], [0.7777777777777778, \"#fb9f3a\"], [0.8888888888888888, \"#fdca26\"], [1.0, \"#f0f921\"]], \"type\": \"contour\"}], \"contourcarpet\": [{\"colorbar\": {\"outlinewidth\": 0, \"ticks\": \"\"}, \"type\": \"contourcarpet\"}], \"heatmap\": [{\"colorbar\": {\"outlinewidth\": 0, \"ticks\": \"\"}, \"colorscale\": [[0.0, \"#0d0887\"], [0.1111111111111111, \"#46039f\"], [0.2222222222222222, \"#7201a8\"], [0.3333333333333333, \"#9c179e\"], [0.4444444444444444, \"#bd3786\"], [0.5555555555555556, \"#d8576b\"], [0.6666666666666666, \"#ed7953\"], [0.7777777777777778, \"#fb9f3a\"], [0.8888888888888888, \"#fdca26\"], [1.0, \"#f0f921\"]], \"type\": \"heatmap\"}], \"heatmapgl\": [{\"colorbar\": {\"outlinewidth\": 0, \"ticks\": \"\"}, \"colorscale\": [[0.0, \"#0d0887\"], [0.1111111111111111, \"#46039f\"], [0.2222222222222222, \"#7201a8\"], [0.3333333333333333, \"#9c179e\"], [0.4444444444444444, \"#bd3786\"], [0.5555555555555556, \"#d8576b\"], [0.6666666666666666, \"#ed7953\"], [0.7777777777777778, \"#fb9f3a\"], [0.8888888888888888, \"#fdca26\"], [1.0, \"#f0f921\"]], \"type\": \"heatmapgl\"}], \"histogram\": [{\"marker\": {\"colorbar\": {\"outlinewidth\": 0, \"ticks\": \"\"}}, \"type\": \"histogram\"}], \"histogram2d\": [{\"colorbar\": {\"outlinewidth\": 0, \"ticks\": \"\"}, \"colorscale\": [[0.0, \"#0d0887\"], [0.1111111111111111, \"#46039f\"], [0.2222222222222222, \"#7201a8\"], [0.3333333333333333, \"#9c179e\"], [0.4444444444444444, \"#bd3786\"], [0.5555555555555556, \"#d8576b\"], [0.6666666666666666, \"#ed7953\"], [0.7777777777777778, \"#fb9f3a\"], [0.8888888888888888, \"#fdca26\"], [1.0, \"#f0f921\"]], \"type\": \"histogram2d\"}], \"histogram2dcontour\": [{\"colorbar\": {\"outlinewidth\": 0, \"ticks\": \"\"}, \"colorscale\": [[0.0, \"#0d0887\"], [0.1111111111111111, \"#46039f\"], [0.2222222222222222, \"#7201a8\"], [0.3333333333333333, \"#9c179e\"], [0.4444444444444444, \"#bd3786\"], [0.5555555555555556, \"#d8576b\"], [0.6666666666666666, \"#ed7953\"], [0.7777777777777778, \"#fb9f3a\"], [0.8888888888888888, \"#fdca26\"], [1.0, \"#f0f921\"]], \"type\": \"histogram2dcontour\"}], \"mesh3d\": [{\"colorbar\": {\"outlinewidth\": 0, \"ticks\": \"\"}, \"type\": \"mesh3d\"}], \"parcoords\": [{\"line\": {\"colorbar\": {\"outlinewidth\": 0, \"ticks\": \"\"}}, \"type\": \"parcoords\"}], \"pie\": [{\"automargin\": true, \"type\": \"pie\"}], \"scatter\": [{\"marker\": {\"colorbar\": {\"outlinewidth\": 0, \"ticks\": \"\"}}, \"type\": \"scatter\"}], \"scatter3d\": [{\"line\": {\"colorbar\": {\"outlinewidth\": 0, \"ticks\": \"\"}}, \"marker\": {\"colorbar\": {\"outlinewidth\": 0, \"ticks\": \"\"}}, \"type\": \"scatter3d\"}], \"scattercarpet\": [{\"marker\": {\"colorbar\": {\"outlinewidth\": 0, \"ticks\": \"\"}}, \"type\": \"scattercarpet\"}], \"scattergeo\": [{\"marker\": {\"colorbar\": {\"outlinewidth\": 0, \"ticks\": \"\"}}, \"type\": \"scattergeo\"}], \"scattergl\": [{\"marker\": {\"colorbar\": {\"outlinewidth\": 0, \"ticks\": \"\"}}, \"type\": \"scattergl\"}], \"scattermapbox\": [{\"marker\": {\"colorbar\": {\"outlinewidth\": 0, \"ticks\": \"\"}}, \"type\": \"scattermapbox\"}], \"scatterpolar\": [{\"marker\": {\"colorbar\": {\"outlinewidth\": 0, \"ticks\": \"\"}}, \"type\": \"scatterpolar\"}], \"scatterpolargl\": [{\"marker\": {\"colorbar\": {\"outlinewidth\": 0, \"ticks\": \"\"}}, \"type\": \"scatterpolargl\"}], \"scatterternary\": [{\"marker\": {\"colorbar\": {\"outlinewidth\": 0, \"ticks\": \"\"}}, \"type\": \"scatterternary\"}], \"surface\": [{\"colorbar\": {\"outlinewidth\": 0, \"ticks\": \"\"}, \"colorscale\": [[0.0, \"#0d0887\"], [0.1111111111111111, \"#46039f\"], [0.2222222222222222, \"#7201a8\"], [0.3333333333333333, \"#9c179e\"], [0.4444444444444444, \"#bd3786\"], [0.5555555555555556, \"#d8576b\"], [0.6666666666666666, \"#ed7953\"], [0.7777777777777778, \"#fb9f3a\"], [0.8888888888888888, \"#fdca26\"], [1.0, \"#f0f921\"]], \"type\": \"surface\"}], \"table\": [{\"cells\": {\"fill\": {\"color\": \"#EBF0F8\"}, \"line\": {\"color\": \"white\"}}, \"header\": {\"fill\": {\"color\": \"#C8D4E3\"}, \"line\": {\"color\": \"white\"}}, \"type\": \"table\"}]}, \"layout\": {\"annotationdefaults\": {\"arrowcolor\": \"#2a3f5f\", \"arrowhead\": 0, \"arrowwidth\": 1}, \"autotypenumbers\": \"strict\", \"coloraxis\": {\"colorbar\": {\"outlinewidth\": 0, \"ticks\": \"\"}}, \"colorscale\": {\"diverging\": [[0, \"#8e0152\"], [0.1, \"#c51b7d\"], [0.2, \"#de77ae\"], [0.3, \"#f1b6da\"], [0.4, \"#fde0ef\"], [0.5, \"#f7f7f7\"], [0.6, \"#e6f5d0\"], [0.7, \"#b8e186\"], [0.8, \"#7fbc41\"], [0.9, \"#4d9221\"], [1, \"#276419\"]], \"sequential\": [[0.0, \"#0d0887\"], [0.1111111111111111, \"#46039f\"], [0.2222222222222222, \"#7201a8\"], [0.3333333333333333, \"#9c179e\"], [0.4444444444444444, \"#bd3786\"], [0.5555555555555556, \"#d8576b\"], [0.6666666666666666, \"#ed7953\"], [0.7777777777777778, \"#fb9f3a\"], [0.8888888888888888, \"#fdca26\"], [1.0, \"#f0f921\"]], \"sequentialminus\": [[0.0, \"#0d0887\"], [0.1111111111111111, \"#46039f\"], [0.2222222222222222, \"#7201a8\"], [0.3333333333333333, \"#9c179e\"], [0.4444444444444444, \"#bd3786\"], [0.5555555555555556, \"#d8576b\"], [0.6666666666666666, \"#ed7953\"], [0.7777777777777778, \"#fb9f3a\"], [0.8888888888888888, \"#fdca26\"], [1.0, \"#f0f921\"]]}, \"colorway\": [\"#636efa\", \"#EF553B\", \"#00cc96\", \"#ab63fa\", \"#FFA15A\", \"#19d3f3\", \"#FF6692\", \"#B6E880\", \"#FF97FF\", \"#FECB52\"], \"font\": {\"color\": \"#2a3f5f\"}, \"geo\": {\"bgcolor\": \"white\", \"lakecolor\": \"white\", \"landcolor\": \"#E5ECF6\", \"showlakes\": true, \"showland\": true, \"subunitcolor\": \"white\"}, \"hoverlabel\": {\"align\": \"left\"}, \"hovermode\": \"closest\", \"mapbox\": {\"style\": \"light\"}, \"paper_bgcolor\": \"white\", \"plot_bgcolor\": \"#E5ECF6\", \"polar\": {\"angularaxis\": {\"gridcolor\": \"white\", \"linecolor\": \"white\", \"ticks\": \"\"}, \"bgcolor\": \"#E5ECF6\", \"radialaxis\": {\"gridcolor\": \"white\", \"linecolor\": \"white\", \"ticks\": \"\"}}, \"scene\": {\"xaxis\": {\"backgroundcolor\": \"#E5ECF6\", \"gridcolor\": \"white\", \"gridwidth\": 2, \"linecolor\": \"white\", \"showbackground\": true, \"ticks\": \"\", \"zerolinecolor\": \"white\"}, \"yaxis\": {\"backgroundcolor\": \"#E5ECF6\", \"gridcolor\": \"white\", \"gridwidth\": 2, \"linecolor\": \"white\", \"showbackground\": true, \"ticks\": \"\", \"zerolinecolor\": \"white\"}, \"zaxis\": {\"backgroundcolor\": \"#E5ECF6\", \"gridcolor\": \"white\", \"gridwidth\": 2, \"linecolor\": \"white\", \"showbackground\": true, \"ticks\": \"\", \"zerolinecolor\": \"white\"}}, \"shapedefaults\": {\"line\": {\"color\": \"#2a3f5f\"}}, \"ternary\": {\"aaxis\": {\"gridcolor\": \"white\", \"linecolor\": \"white\", \"ticks\": \"\"}, \"baxis\": {\"gridcolor\": \"white\", \"linecolor\": \"white\", \"ticks\": \"\"}, \"bgcolor\": \"#E5ECF6\", \"caxis\": {\"gridcolor\": \"white\", \"linecolor\": \"white\", \"ticks\": \"\"}}, \"title\": {\"x\": 0.05}, \"xaxis\": {\"automargin\": true, \"gridcolor\": \"white\", \"linecolor\": \"white\", \"ticks\": \"\", \"title\": {\"standoff\": 15}, \"zerolinecolor\": \"white\", \"zerolinewidth\": 2}, \"yaxis\": {\"automargin\": true, \"gridcolor\": \"white\", \"linecolor\": \"white\", \"ticks\": \"\", \"title\": {\"standoff\": 15}, \"zerolinecolor\": \"white\", \"zerolinewidth\": 2}}}, \"title\": {\"text\": \"Gantt Chart\"}, \"xaxis\": {\"rangeselector\": {\"buttons\": [{\"count\": 7, \"label\": \"1w\", \"step\": \"day\", \"stepmode\": \"backward\"}, {\"count\": 1, \"label\": \"1m\", \"step\": \"month\", \"stepmode\": \"backward\"}, {\"count\": 6, \"label\": \"6m\", \"step\": \"month\", \"stepmode\": \"backward\"}, {\"count\": 1, \"label\": \"YTD\", \"step\": \"year\", \"stepmode\": \"todate\"}, {\"count\": 1, \"label\": \"1y\", \"step\": \"year\", \"stepmode\": \"backward\"}, {\"step\": \"all\"}]}, \"showgrid\": false, \"ticktext\": [0, 1, 2, 3, 4, 5, 6, 7, 8, 9, 10, 11, 12, 13, 14, 15], \"tickvals\": [\"1971-01-01\", \"1971-02-01\", \"1971-03-01\", \"1971-04-01\", \"1971-05-01\", \"1971-06-01\", \"1971-07-01\", \"1971-08-01\", \"1971-09-01\", \"1971-10-01\", \"1971-11-01\", \"1971-12-01\", \"1971-13-01\", \"1971-14-01\", \"1971-15-01\", \"1971-16-01\"], \"type\": \"date\", \"zeroline\": false}, \"yaxis\": {\"autorange\": false, \"range\": [-1, 5], \"showgrid\": false, \"ticktext\": [\"Job A\", \"Job B\", \"Job C\", \"Job D\"], \"tickvals\": [0, 1, 2, 3], \"zeroline\": false}},                        {\"responsive\": true}                    ).then(function(){\n",
       "                            \n",
       "var gd = document.getElementById('bb632230-d719-45f9-a0f1-950b1ad38cfb');\n",
       "var x = new MutationObserver(function (mutations, observer) {{\n",
       "        var display = window.getComputedStyle(gd).display;\n",
       "        if (!display || display === 'none') {{\n",
       "            console.log([gd, 'removed!']);\n",
       "            Plotly.purge(gd);\n",
       "            observer.disconnect();\n",
       "        }}\n",
       "}});\n",
       "\n",
       "// Listen for the removal of the full notebook cells\n",
       "var notebookContainer = gd.closest('#notebook-container');\n",
       "if (notebookContainer) {{\n",
       "    x.observe(notebookContainer, {childList: true});\n",
       "}}\n",
       "\n",
       "// Listen for the clearing of the current output cell\n",
       "var outputEl = gd.closest('.output');\n",
       "if (outputEl) {{\n",
       "    x.observe(outputEl, {childList: true});\n",
       "}}\n",
       "\n",
       "                        })                };                });            </script>        </div>"
      ]
     },
     "metadata": {},
     "output_type": "display_data"
    }
   ],
   "source": [
    "import plotly.figure_factory as ff\n",
    "from datetime import datetime\n",
    "import numpy as np\n",
    "\n",
    "def convert_to_datetime(x):\n",
    "    return datetime.fromtimestamp(31536000+x*24*3600).strftime(\"%Y-%d-%m\")\n",
    "\n",
    "df = [dict(Task=\"Job A\", Start=convert_to_datetime(0), Finish=convert_to_datetime(4)),\n",
    "      dict(Task=\"Job B\", Start=convert_to_datetime(3), Finish=convert_to_datetime(5)),\n",
    "      dict(Task=\"Job C\", Start=convert_to_datetime(5), Finish=convert_to_datetime(7)),\n",
    "      dict(Task=\"Job D\", Start=convert_to_datetime(6), Finish=convert_to_datetime(51))]\n",
    "\n",
    "num_tick_labels = np.linspace(start = 0, stop = 15, num = 16, dtype = int)\n",
    "date_ticks = [convert_to_datetime(x) for x in num_tick_labels]\n",
    "\n",
    "fig = ff.create_gantt(df)\n",
    "fig.layout.xaxis.update({\n",
    "        'tickvals' : date_ticks,\n",
    "        'ticktext' : num_tick_labels\n",
    "        })\n",
    "\n",
    "fig.show()"
   ]
  },
  {
   "cell_type": "code",
   "execution_count": 79,
   "id": "hindu-protein",
   "metadata": {},
   "outputs": [
    {
     "ename": "ValueError",
     "evalue": "Value of 'y' is not the name of a column in 'data_frame'. Expected one of [] but received: Task",
     "output_type": "error",
     "traceback": [
      "\u001b[1;31m---------------------------------------------------------------------------\u001b[0m",
      "\u001b[1;31mValueError\u001b[0m                                Traceback (most recent call last)",
      "\u001b[1;32m<ipython-input-79-617ab5eb9bd1>\u001b[0m in \u001b[0;36m<module>\u001b[1;34m\u001b[0m\n\u001b[0;32m      1\u001b[0m \u001b[0mdf\u001b[0m \u001b[1;33m=\u001b[0m \u001b[0mpd\u001b[0m\u001b[1;33m.\u001b[0m\u001b[0mDataFrame\u001b[0m\u001b[1;33m(\u001b[0m\u001b[0msplits\u001b[0m\u001b[1;33m)\u001b[0m\u001b[1;33m\u001b[0m\u001b[1;33m\u001b[0m\u001b[0m\n\u001b[0;32m      2\u001b[0m \u001b[1;33m\u001b[0m\u001b[0m\n\u001b[1;32m----> 3\u001b[1;33m \u001b[0mfig\u001b[0m \u001b[1;33m=\u001b[0m \u001b[0mpx\u001b[0m\u001b[1;33m.\u001b[0m\u001b[0mtimeline\u001b[0m\u001b[1;33m(\u001b[0m\u001b[0mdf\u001b[0m\u001b[1;33m,\u001b[0m \u001b[0mx_start\u001b[0m\u001b[1;33m=\u001b[0m\u001b[1;34m\"Start\"\u001b[0m\u001b[1;33m,\u001b[0m \u001b[0mx_end\u001b[0m\u001b[1;33m=\u001b[0m\u001b[1;34m\"Finish\"\u001b[0m\u001b[1;33m,\u001b[0m \u001b[0my\u001b[0m\u001b[1;33m=\u001b[0m\u001b[1;34m\"Task\"\u001b[0m\u001b[1;33m,\u001b[0m \u001b[0mcolor\u001b[0m\u001b[1;33m=\u001b[0m\u001b[1;34m\"split_type\"\u001b[0m\u001b[1;33m,\u001b[0m \u001b[0mhover_data\u001b[0m\u001b[1;33m=\u001b[0m\u001b[1;33m{\u001b[0m\u001b[1;34m'rounds_driven'\u001b[0m\u001b[1;33m:\u001b[0m\u001b[1;32mTrue\u001b[0m\u001b[1;33m}\u001b[0m\u001b[1;33m)\u001b[0m\u001b[1;33m\u001b[0m\u001b[1;33m\u001b[0m\u001b[0m\n\u001b[0m\u001b[0;32m      4\u001b[0m \u001b[1;31m#fig.update_yaxes(autorange=\"reversed\")\u001b[0m\u001b[1;33m\u001b[0m\u001b[1;33m\u001b[0m\u001b[1;33m\u001b[0m\u001b[0m\n\u001b[0;32m      5\u001b[0m \u001b[1;33m\u001b[0m\u001b[0m\n",
      "\u001b[1;32mc:\\users\\jakob engl\\appdata\\local\\programs\\python\\python38\\lib\\site-packages\\plotly\\express\\_chart_types.py\u001b[0m in \u001b[0;36mtimeline\u001b[1;34m(data_frame, x_start, x_end, y, color, facet_row, facet_col, facet_col_wrap, facet_row_spacing, facet_col_spacing, hover_name, hover_data, custom_data, text, animation_frame, animation_group, category_orders, labels, color_discrete_sequence, color_discrete_map, color_continuous_scale, range_color, color_continuous_midpoint, opacity, range_x, range_y, title, template, width, height)\u001b[0m\n\u001b[0;32m    395\u001b[0m     \u001b[0mmark\u001b[0m \u001b[0mon\u001b[0m \u001b[0man\u001b[0m \u001b[0mx\u001b[0m \u001b[0maxis\u001b[0m \u001b[0mof\u001b[0m \u001b[0mtype\u001b[0m\u001b[0;31m \u001b[0m\u001b[0;31m`\u001b[0m\u001b[0mdate\u001b[0m\u001b[0;31m`\u001b[0m\u001b[1;33m,\u001b[0m \u001b[0mspanning\u001b[0m \u001b[1;32mfrom\u001b[0m\u001b[0;31m \u001b[0m\u001b[0;31m`\u001b[0m\u001b[0mx_start\u001b[0m\u001b[0;31m`\u001b[0m \u001b[0mto\u001b[0m\u001b[0;31m \u001b[0m\u001b[0;31m`\u001b[0m\u001b[0mx_end\u001b[0m\u001b[0;31m`\u001b[0m\u001b[1;33m.\u001b[0m\u001b[1;33m\u001b[0m\u001b[1;33m\u001b[0m\u001b[0m\n\u001b[0;32m    396\u001b[0m     \"\"\"\n\u001b[1;32m--> 397\u001b[1;33m     return make_figure(\n\u001b[0m\u001b[0;32m    398\u001b[0m         \u001b[0margs\u001b[0m\u001b[1;33m=\u001b[0m\u001b[0mlocals\u001b[0m\u001b[1;33m(\u001b[0m\u001b[1;33m)\u001b[0m\u001b[1;33m,\u001b[0m\u001b[1;33m\u001b[0m\u001b[1;33m\u001b[0m\u001b[0m\n\u001b[0;32m    399\u001b[0m         \u001b[0mconstructor\u001b[0m\u001b[1;33m=\u001b[0m\u001b[1;34m\"timeline\"\u001b[0m\u001b[1;33m,\u001b[0m\u001b[1;33m\u001b[0m\u001b[1;33m\u001b[0m\u001b[0m\n",
      "\u001b[1;32mc:\\users\\jakob engl\\appdata\\local\\programs\\python\\python38\\lib\\site-packages\\plotly\\express\\_core.py\u001b[0m in \u001b[0;36mmake_figure\u001b[1;34m(args, constructor, trace_patch, layout_patch)\u001b[0m\n\u001b[0;32m   1859\u001b[0m     \u001b[0mapply_default_cascade\u001b[0m\u001b[1;33m(\u001b[0m\u001b[0margs\u001b[0m\u001b[1;33m)\u001b[0m\u001b[1;33m\u001b[0m\u001b[1;33m\u001b[0m\u001b[0m\n\u001b[0;32m   1860\u001b[0m \u001b[1;33m\u001b[0m\u001b[0m\n\u001b[1;32m-> 1861\u001b[1;33m     \u001b[0margs\u001b[0m \u001b[1;33m=\u001b[0m \u001b[0mbuild_dataframe\u001b[0m\u001b[1;33m(\u001b[0m\u001b[0margs\u001b[0m\u001b[1;33m,\u001b[0m \u001b[0mconstructor\u001b[0m\u001b[1;33m)\u001b[0m\u001b[1;33m\u001b[0m\u001b[1;33m\u001b[0m\u001b[0m\n\u001b[0m\u001b[0;32m   1862\u001b[0m     \u001b[1;32mif\u001b[0m \u001b[0mconstructor\u001b[0m \u001b[1;32min\u001b[0m \u001b[1;33m[\u001b[0m\u001b[0mgo\u001b[0m\u001b[1;33m.\u001b[0m\u001b[0mTreemap\u001b[0m\u001b[1;33m,\u001b[0m \u001b[0mgo\u001b[0m\u001b[1;33m.\u001b[0m\u001b[0mSunburst\u001b[0m\u001b[1;33m]\u001b[0m \u001b[1;32mand\u001b[0m \u001b[0margs\u001b[0m\u001b[1;33m[\u001b[0m\u001b[1;34m\"path\"\u001b[0m\u001b[1;33m]\u001b[0m \u001b[1;32mis\u001b[0m \u001b[1;32mnot\u001b[0m \u001b[1;32mNone\u001b[0m\u001b[1;33m:\u001b[0m\u001b[1;33m\u001b[0m\u001b[1;33m\u001b[0m\u001b[0m\n\u001b[0;32m   1863\u001b[0m         \u001b[0margs\u001b[0m \u001b[1;33m=\u001b[0m \u001b[0mprocess_dataframe_hierarchy\u001b[0m\u001b[1;33m(\u001b[0m\u001b[0margs\u001b[0m\u001b[1;33m)\u001b[0m\u001b[1;33m\u001b[0m\u001b[1;33m\u001b[0m\u001b[0m\n",
      "\u001b[1;32mc:\\users\\jakob engl\\appdata\\local\\programs\\python\\python38\\lib\\site-packages\\plotly\\express\\_core.py\u001b[0m in \u001b[0;36mbuild_dataframe\u001b[1;34m(args, constructor)\u001b[0m\n\u001b[0;32m   1375\u001b[0m     \u001b[1;31m# now that things have been prepped, we do the systematic rewriting of `args`\u001b[0m\u001b[1;33m\u001b[0m\u001b[1;33m\u001b[0m\u001b[1;33m\u001b[0m\u001b[0m\n\u001b[0;32m   1376\u001b[0m \u001b[1;33m\u001b[0m\u001b[0m\n\u001b[1;32m-> 1377\u001b[1;33m     df_output, wide_id_vars = process_args_into_dataframe(\n\u001b[0m\u001b[0;32m   1378\u001b[0m         \u001b[0margs\u001b[0m\u001b[1;33m,\u001b[0m \u001b[0mwide_mode\u001b[0m\u001b[1;33m,\u001b[0m \u001b[0mvar_name\u001b[0m\u001b[1;33m,\u001b[0m \u001b[0mvalue_name\u001b[0m\u001b[1;33m\u001b[0m\u001b[1;33m\u001b[0m\u001b[0m\n\u001b[0;32m   1379\u001b[0m     )\n",
      "\u001b[1;32mc:\\users\\jakob engl\\appdata\\local\\programs\\python\\python38\\lib\\site-packages\\plotly\\express\\_core.py\u001b[0m in \u001b[0;36mprocess_args_into_dataframe\u001b[1;34m(args, wide_mode, var_name, value_name)\u001b[0m\n\u001b[0;32m   1181\u001b[0m                         \u001b[1;32mif\u001b[0m \u001b[0margument\u001b[0m \u001b[1;33m==\u001b[0m \u001b[1;34m\"index\"\u001b[0m\u001b[1;33m:\u001b[0m\u001b[1;33m\u001b[0m\u001b[1;33m\u001b[0m\u001b[0m\n\u001b[0;32m   1182\u001b[0m                             \u001b[0merr_msg\u001b[0m \u001b[1;33m+=\u001b[0m \u001b[1;34m\"\\n To use the index, pass it in directly as `df.index`.\"\u001b[0m\u001b[1;33m\u001b[0m\u001b[1;33m\u001b[0m\u001b[0m\n\u001b[1;32m-> 1183\u001b[1;33m                         \u001b[1;32mraise\u001b[0m \u001b[0mValueError\u001b[0m\u001b[1;33m(\u001b[0m\u001b[0merr_msg\u001b[0m\u001b[1;33m)\u001b[0m\u001b[1;33m\u001b[0m\u001b[1;33m\u001b[0m\u001b[0m\n\u001b[0m\u001b[0;32m   1184\u001b[0m                 \u001b[1;32melif\u001b[0m \u001b[0mlength\u001b[0m \u001b[1;32mand\u001b[0m \u001b[0mlen\u001b[0m\u001b[1;33m(\u001b[0m\u001b[0mdf_input\u001b[0m\u001b[1;33m[\u001b[0m\u001b[0margument\u001b[0m\u001b[1;33m]\u001b[0m\u001b[1;33m)\u001b[0m \u001b[1;33m!=\u001b[0m \u001b[0mlength\u001b[0m\u001b[1;33m:\u001b[0m\u001b[1;33m\u001b[0m\u001b[1;33m\u001b[0m\u001b[0m\n\u001b[0;32m   1185\u001b[0m                     raise ValueError(\n",
      "\u001b[1;31mValueError\u001b[0m: Value of 'y' is not the name of a column in 'data_frame'. Expected one of [] but received: Task"
     ]
    }
   ],
   "source": [
    "df = pd.DataFrame(splits)\n",
    "\n",
    "fig = px.timeline(df, x_start=\"Start\", x_end=\"Finish\", y=\"Task\", color=\"split_type\", hover_data={'rounds_driven':True})\n",
    "#fig.update_yaxes(autorange=\"reversed\")\n",
    "\n",
    "\n",
    "fig.add_vline(x=end, line_width=3, line_dash=\"dash\", line_color=\"green\")\n",
    "\n",
    "\n",
    "\n",
    "\n",
    "fig.show()"
   ]
  }
 ],
 "metadata": {
  "kernelspec": {
   "display_name": "Python 3",
   "language": "python",
   "name": "python3"
  },
  "language_info": {
   "codemirror_mode": {
    "name": "ipython",
    "version": 3
   },
   "file_extension": ".py",
   "mimetype": "text/x-python",
   "name": "python",
   "nbconvert_exporter": "python",
   "pygments_lexer": "ipython3",
   "version": "3.8.3"
  }
 },
 "nbformat": 4,
 "nbformat_minor": 5
}
