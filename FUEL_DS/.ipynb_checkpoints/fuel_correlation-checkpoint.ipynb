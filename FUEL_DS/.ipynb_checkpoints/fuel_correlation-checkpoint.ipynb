{
 "cells": [
  {
   "cell_type": "code",
   "execution_count": 2,
   "metadata": {},
   "outputs": [],
   "source": [
    "import pandas as pd\n",
    "import seaborn as sns\n",
    "import numpy as np\n",
    "import matplotlib.pyplot as plt\n",
    "import re"
   ]
  },
  {
   "cell_type": "markdown",
   "metadata": {},
   "source": [
    "First Things first, the imports, then import our data and lets have a look at it:"
   ]
  },
  {
   "cell_type": "code",
   "execution_count": 3,
   "metadata": {},
   "outputs": [
    {
     "data": {
      "text/html": [
       "<div>\n",
       "<style scoped>\n",
       "    .dataframe tbody tr th:only-of-type {\n",
       "        vertical-align: middle;\n",
       "    }\n",
       "\n",
       "    .dataframe tbody tr th {\n",
       "        vertical-align: top;\n",
       "    }\n",
       "\n",
       "    .dataframe thead th {\n",
       "        text-align: right;\n",
       "    }\n",
       "</style>\n",
       "<table border=\"1\" class=\"dataframe\">\n",
       "  <thead>\n",
       "    <tr style=\"text-align: right;\">\n",
       "      <th></th>\n",
       "      <th>mpg</th>\n",
       "      <th>cylinders</th>\n",
       "      <th>displacement</th>\n",
       "      <th>horsepower</th>\n",
       "      <th>weight</th>\n",
       "      <th>acceleration</th>\n",
       "      <th>model year</th>\n",
       "      <th>origin</th>\n",
       "      <th>car name</th>\n",
       "    </tr>\n",
       "  </thead>\n",
       "  <tbody>\n",
       "    <tr>\n",
       "      <th>0</th>\n",
       "      <td>18.0</td>\n",
       "      <td>8</td>\n",
       "      <td>307.0</td>\n",
       "      <td>130</td>\n",
       "      <td>3504</td>\n",
       "      <td>12.0</td>\n",
       "      <td>70</td>\n",
       "      <td>1</td>\n",
       "      <td>chevrolet chevelle malibu</td>\n",
       "    </tr>\n",
       "    <tr>\n",
       "      <th>1</th>\n",
       "      <td>15.0</td>\n",
       "      <td>8</td>\n",
       "      <td>350.0</td>\n",
       "      <td>165</td>\n",
       "      <td>3693</td>\n",
       "      <td>11.5</td>\n",
       "      <td>70</td>\n",
       "      <td>1</td>\n",
       "      <td>buick skylark 320</td>\n",
       "    </tr>\n",
       "    <tr>\n",
       "      <th>2</th>\n",
       "      <td>18.0</td>\n",
       "      <td>8</td>\n",
       "      <td>318.0</td>\n",
       "      <td>150</td>\n",
       "      <td>3436</td>\n",
       "      <td>11.0</td>\n",
       "      <td>70</td>\n",
       "      <td>1</td>\n",
       "      <td>plymouth satellite</td>\n",
       "    </tr>\n",
       "    <tr>\n",
       "      <th>3</th>\n",
       "      <td>16.0</td>\n",
       "      <td>8</td>\n",
       "      <td>304.0</td>\n",
       "      <td>150</td>\n",
       "      <td>3433</td>\n",
       "      <td>12.0</td>\n",
       "      <td>70</td>\n",
       "      <td>1</td>\n",
       "      <td>amc rebel sst</td>\n",
       "    </tr>\n",
       "    <tr>\n",
       "      <th>4</th>\n",
       "      <td>17.0</td>\n",
       "      <td>8</td>\n",
       "      <td>302.0</td>\n",
       "      <td>140</td>\n",
       "      <td>3449</td>\n",
       "      <td>10.5</td>\n",
       "      <td>70</td>\n",
       "      <td>1</td>\n",
       "      <td>ford torino</td>\n",
       "    </tr>\n",
       "  </tbody>\n",
       "</table>\n",
       "</div>"
      ],
      "text/plain": [
       "    mpg  cylinders  displacement horsepower  weight  acceleration  model year  \\\n",
       "0  18.0          8         307.0        130    3504          12.0          70   \n",
       "1  15.0          8         350.0        165    3693          11.5          70   \n",
       "2  18.0          8         318.0        150    3436          11.0          70   \n",
       "3  16.0          8         304.0        150    3433          12.0          70   \n",
       "4  17.0          8         302.0        140    3449          10.5          70   \n",
       "\n",
       "   origin                   car name  \n",
       "0       1  chevrolet chevelle malibu  \n",
       "1       1          buick skylark 320  \n",
       "2       1         plymouth satellite  \n",
       "3       1              amc rebel sst  \n",
       "4       1                ford torino  "
      ]
     },
     "execution_count": 3,
     "metadata": {},
     "output_type": "execute_result"
    }
   ],
   "source": [
    "data = pd.read_csv(\"auto-mpg.csv\") \n",
    "data.isna().sum().sum()\n",
    "data.head()"
   ]
  },
  {
   "cell_type": "markdown",
   "metadata": {},
   "source": [
    "Everything seems to work fine, lets get rid of the american values and clean up the data a bit:\n",
    "* We wanna have the mpg in l/100 km - we use 235 as the factor\n",
    "* The displacement in ccm - we use 16 as the factor\n",
    "* The weight in kg\n",
    "* As the horsepower column is not an integer lets fix this also real quick\n",
    "* The **model year** nor the **origin** is a very big indicator for anything, so lets get rid of it as well"
   ]
  },
  {
   "cell_type": "code",
   "execution_count": 4,
   "metadata": {},
   "outputs": [
    {
     "data": {
      "text/html": [
       "<div>\n",
       "<style scoped>\n",
       "    .dataframe tbody tr th:only-of-type {\n",
       "        vertical-align: middle;\n",
       "    }\n",
       "\n",
       "    .dataframe tbody tr th {\n",
       "        vertical-align: top;\n",
       "    }\n",
       "\n",
       "    .dataframe thead th {\n",
       "        text-align: right;\n",
       "    }\n",
       "</style>\n",
       "<table border=\"1\" class=\"dataframe\">\n",
       "  <thead>\n",
       "    <tr style=\"text-align: right;\">\n",
       "      <th></th>\n",
       "      <th>l/100 km</th>\n",
       "      <th>cylinders</th>\n",
       "      <th>ccm</th>\n",
       "      <th>horsepower</th>\n",
       "      <th>weight in kg</th>\n",
       "      <th>0 - 100</th>\n",
       "      <th>car name</th>\n",
       "    </tr>\n",
       "  </thead>\n",
       "  <tbody>\n",
       "    <tr>\n",
       "      <th>0</th>\n",
       "      <td>13.055556</td>\n",
       "      <td>8</td>\n",
       "      <td>4912.0</td>\n",
       "      <td>130</td>\n",
       "      <td>1401.6</td>\n",
       "      <td>5.714286</td>\n",
       "      <td>chevrolet chevelle malibu</td>\n",
       "    </tr>\n",
       "    <tr>\n",
       "      <th>1</th>\n",
       "      <td>15.666667</td>\n",
       "      <td>8</td>\n",
       "      <td>5600.0</td>\n",
       "      <td>165</td>\n",
       "      <td>1477.2</td>\n",
       "      <td>5.476190</td>\n",
       "      <td>buick skylark 320</td>\n",
       "    </tr>\n",
       "    <tr>\n",
       "      <th>2</th>\n",
       "      <td>13.055556</td>\n",
       "      <td>8</td>\n",
       "      <td>5088.0</td>\n",
       "      <td>150</td>\n",
       "      <td>1374.4</td>\n",
       "      <td>5.238095</td>\n",
       "      <td>plymouth satellite</td>\n",
       "    </tr>\n",
       "    <tr>\n",
       "      <th>3</th>\n",
       "      <td>14.687500</td>\n",
       "      <td>8</td>\n",
       "      <td>4864.0</td>\n",
       "      <td>150</td>\n",
       "      <td>1373.2</td>\n",
       "      <td>5.714286</td>\n",
       "      <td>amc rebel sst</td>\n",
       "    </tr>\n",
       "    <tr>\n",
       "      <th>4</th>\n",
       "      <td>13.823529</td>\n",
       "      <td>8</td>\n",
       "      <td>4832.0</td>\n",
       "      <td>140</td>\n",
       "      <td>1379.6</td>\n",
       "      <td>5.000000</td>\n",
       "      <td>ford torino</td>\n",
       "    </tr>\n",
       "  </tbody>\n",
       "</table>\n",
       "</div>"
      ],
      "text/plain": [
       "    l/100 km  cylinders     ccm  horsepower  weight in kg   0 - 100  \\\n",
       "0  13.055556          8  4912.0         130        1401.6  5.714286   \n",
       "1  15.666667          8  5600.0         165        1477.2  5.476190   \n",
       "2  13.055556          8  5088.0         150        1374.4  5.238095   \n",
       "3  14.687500          8  4864.0         150        1373.2  5.714286   \n",
       "4  13.823529          8  4832.0         140        1379.6  5.000000   \n",
       "\n",
       "                    car name  \n",
       "0  chevrolet chevelle malibu  \n",
       "1          buick skylark 320  \n",
       "2         plymouth satellite  \n",
       "3              amc rebel sst  \n",
       "4                ford torino  "
      ]
     },
     "execution_count": 4,
     "metadata": {},
     "output_type": "execute_result"
    }
   ],
   "source": [
    "data['mpg'] = 235 / data['mpg']\n",
    "data.rename(columns={'mpg':'l/100 km'}, inplace=True)\n",
    "\n",
    "data['displacement'] = 16 * data['displacement']\n",
    "data.rename(columns={'displacement':'ccm'}, inplace=True)\n",
    "\n",
    "data['weight'] = data['weight'] / 2.5\n",
    "data.rename(columns={'weight':'weight in kg'}, inplace=True)\n",
    "\n",
    "data['acceleration'] = data['acceleration'] / 2.1\n",
    "data.rename(columns={'acceleration':'0 - 100'}, inplace=True)\n",
    "\n",
    "data = data.dropna()\n",
    "data = data.dropna()\n",
    "data = data[data.horsepower != '?']\n",
    "data['horsepower'] = data['horsepower'].astype('int64')\n",
    "\n",
    "data = data.drop(['model year', 'origin'], axis=1)\n",
    "\n",
    "\n",
    "data.head()"
   ]
  },
  {
   "cell_type": "markdown",
   "metadata": {},
   "source": [
    "Before taking a look at the correlation of the data lets have a deeper look at the data to know what we are working with:"
   ]
  },
  {
   "cell_type": "code",
   "execution_count": 5,
   "metadata": {},
   "outputs": [
    {
     "data": {
      "text/html": [
       "<div>\n",
       "<style scoped>\n",
       "    .dataframe tbody tr th:only-of-type {\n",
       "        vertical-align: middle;\n",
       "    }\n",
       "\n",
       "    .dataframe tbody tr th {\n",
       "        vertical-align: top;\n",
       "    }\n",
       "\n",
       "    .dataframe thead th {\n",
       "        text-align: right;\n",
       "    }\n",
       "</style>\n",
       "<table border=\"1\" class=\"dataframe\">\n",
       "  <thead>\n",
       "    <tr style=\"text-align: right;\">\n",
       "      <th></th>\n",
       "      <th>l/100 km</th>\n",
       "      <th>cylinders</th>\n",
       "      <th>ccm</th>\n",
       "      <th>horsepower</th>\n",
       "      <th>weight in kg</th>\n",
       "      <th>0 - 100</th>\n",
       "      <th>car name</th>\n",
       "    </tr>\n",
       "  </thead>\n",
       "  <tbody>\n",
       "    <tr>\n",
       "      <th>28</th>\n",
       "      <td>26.111111</td>\n",
       "      <td>8</td>\n",
       "      <td>4864.0</td>\n",
       "      <td>193</td>\n",
       "      <td>1892.8</td>\n",
       "      <td>8.809524</td>\n",
       "      <td>hi 1200d</td>\n",
       "    </tr>\n",
       "    <tr>\n",
       "      <th>25</th>\n",
       "      <td>23.500000</td>\n",
       "      <td>8</td>\n",
       "      <td>5760.0</td>\n",
       "      <td>215</td>\n",
       "      <td>1846.0</td>\n",
       "      <td>6.666667</td>\n",
       "      <td>ford f250</td>\n",
       "    </tr>\n",
       "    <tr>\n",
       "      <th>26</th>\n",
       "      <td>23.500000</td>\n",
       "      <td>8</td>\n",
       "      <td>4912.0</td>\n",
       "      <td>200</td>\n",
       "      <td>1750.4</td>\n",
       "      <td>7.142857</td>\n",
       "      <td>chevy c20</td>\n",
       "    </tr>\n",
       "    <tr>\n",
       "      <th>67</th>\n",
       "      <td>21.363636</td>\n",
       "      <td>8</td>\n",
       "      <td>6864.0</td>\n",
       "      <td>208</td>\n",
       "      <td>1853.2</td>\n",
       "      <td>5.238095</td>\n",
       "      <td>mercury marquis</td>\n",
       "    </tr>\n",
       "    <tr>\n",
       "      <th>27</th>\n",
       "      <td>21.363636</td>\n",
       "      <td>8</td>\n",
       "      <td>5088.0</td>\n",
       "      <td>210</td>\n",
       "      <td>1752.8</td>\n",
       "      <td>6.428571</td>\n",
       "      <td>dodge d200</td>\n",
       "    </tr>\n",
       "  </tbody>\n",
       "</table>\n",
       "</div>"
      ],
      "text/plain": [
       "     l/100 km  cylinders     ccm  horsepower  weight in kg   0 - 100  \\\n",
       "28  26.111111          8  4864.0         193        1892.8  8.809524   \n",
       "25  23.500000          8  5760.0         215        1846.0  6.666667   \n",
       "26  23.500000          8  4912.0         200        1750.4  7.142857   \n",
       "67  21.363636          8  6864.0         208        1853.2  5.238095   \n",
       "27  21.363636          8  5088.0         210        1752.8  6.428571   \n",
       "\n",
       "           car name  \n",
       "28         hi 1200d  \n",
       "25        ford f250  \n",
       "26        chevy c20  \n",
       "67  mercury marquis  \n",
       "27       dodge d200  "
      ]
     },
     "execution_count": 5,
     "metadata": {},
     "output_type": "execute_result"
    }
   ],
   "source": [
    "data.sort_values('l/100 km',ascending = False).head(5)"
   ]
  },
  {
   "cell_type": "code",
   "execution_count": 6,
   "metadata": {},
   "outputs": [
    {
     "data": {
      "text/html": [
       "<div>\n",
       "<style scoped>\n",
       "    .dataframe tbody tr th:only-of-type {\n",
       "        vertical-align: middle;\n",
       "    }\n",
       "\n",
       "    .dataframe tbody tr th {\n",
       "        vertical-align: top;\n",
       "    }\n",
       "\n",
       "    .dataframe thead th {\n",
       "        text-align: right;\n",
       "    }\n",
       "</style>\n",
       "<table border=\"1\" class=\"dataframe\">\n",
       "  <thead>\n",
       "    <tr style=\"text-align: right;\">\n",
       "      <th></th>\n",
       "      <th>l/100 km</th>\n",
       "      <th>cylinders</th>\n",
       "      <th>ccm</th>\n",
       "      <th>horsepower</th>\n",
       "      <th>weight in kg</th>\n",
       "      <th>0 - 100</th>\n",
       "      <th>car name</th>\n",
       "    </tr>\n",
       "  </thead>\n",
       "  <tbody>\n",
       "    <tr>\n",
       "      <th>322</th>\n",
       "      <td>5.042918</td>\n",
       "      <td>4</td>\n",
       "      <td>1376.0</td>\n",
       "      <td>65</td>\n",
       "      <td>844.0</td>\n",
       "      <td>8.523810</td>\n",
       "      <td>mazda glc</td>\n",
       "    </tr>\n",
       "    <tr>\n",
       "      <th>329</th>\n",
       "      <td>5.269058</td>\n",
       "      <td>4</td>\n",
       "      <td>1456.0</td>\n",
       "      <td>67</td>\n",
       "      <td>740.0</td>\n",
       "      <td>6.571429</td>\n",
       "      <td>honda civic 1500 gl</td>\n",
       "    </tr>\n",
       "    <tr>\n",
       "      <th>325</th>\n",
       "      <td>5.304740</td>\n",
       "      <td>4</td>\n",
       "      <td>1440.0</td>\n",
       "      <td>48</td>\n",
       "      <td>834.0</td>\n",
       "      <td>10.333333</td>\n",
       "      <td>vw rabbit c (diesel)</td>\n",
       "    </tr>\n",
       "    <tr>\n",
       "      <th>394</th>\n",
       "      <td>5.340909</td>\n",
       "      <td>4</td>\n",
       "      <td>1552.0</td>\n",
       "      <td>52</td>\n",
       "      <td>852.0</td>\n",
       "      <td>11.714286</td>\n",
       "      <td>vw pickup</td>\n",
       "    </tr>\n",
       "    <tr>\n",
       "      <th>326</th>\n",
       "      <td>5.414747</td>\n",
       "      <td>4</td>\n",
       "      <td>1440.0</td>\n",
       "      <td>48</td>\n",
       "      <td>934.0</td>\n",
       "      <td>11.285714</td>\n",
       "      <td>vw dasher (diesel)</td>\n",
       "    </tr>\n",
       "  </tbody>\n",
       "</table>\n",
       "</div>"
      ],
      "text/plain": [
       "     l/100 km  cylinders     ccm  horsepower  weight in kg    0 - 100  \\\n",
       "322  5.042918          4  1376.0          65         844.0   8.523810   \n",
       "329  5.269058          4  1456.0          67         740.0   6.571429   \n",
       "325  5.304740          4  1440.0          48         834.0  10.333333   \n",
       "394  5.340909          4  1552.0          52         852.0  11.714286   \n",
       "326  5.414747          4  1440.0          48         934.0  11.285714   \n",
       "\n",
       "                 car name  \n",
       "322             mazda glc  \n",
       "329   honda civic 1500 gl  \n",
       "325  vw rabbit c (diesel)  \n",
       "394             vw pickup  \n",
       "326    vw dasher (diesel)  "
      ]
     },
     "execution_count": 6,
     "metadata": {},
     "output_type": "execute_result"
    }
   ],
   "source": [
    "data.sort_values('l/100 km',ascending = True).head(5)"
   ]
  },
  {
   "cell_type": "markdown",
   "metadata": {},
   "source": [
    "This gave us some first insights, now we know some more about our data lets take a look at the relations between the data, we set up a quick heatmap:"
   ]
  },
  {
   "cell_type": "code",
   "execution_count": 12,
   "metadata": {},
   "outputs": [
    {
     "data": {
      "text/plain": [
       "<matplotlib.axes._subplots.AxesSubplot at 0x217b2345550>"
      ]
     },
     "execution_count": 12,
     "metadata": {},
     "output_type": "execute_result"
    },
    {
     "data": {
      "image/png": "[encoded data removed]",
      "text/plain": [
       "<matplotlib.figure.Figure at 0x217b2343cc0>"
      ]
     },
     "metadata": {},
     "output_type": "display_data"
    }
   ],
   "source": [
    "# Remove mirrored correlation\n",
    "mask = np.zeros_like(data.corr(), dtype=np.bool)\n",
    "mask[np.triu_indices_from(mask)] = True\n",
    "# Size of heatmap\n",
    "f, ax = plt.subplots(figsize=(8,8))\n",
    "\n",
    "sns.heatmap(data.corr()\n",
    "                      , mask=mask\n",
    "                      , vmin=-1\n",
    "                      , vmax=1\n",
    "                      , cmap='coolwarm'\n",
    "                      , square=True\n",
    "                      , annot=True\n",
    "                      , linewidths=.7\n",
    ")"
   ]
  },
  {
   "cell_type": "markdown",
   "metadata": {},
   "source": [
    "First thing we see is that there i a big correlation between cylinders and the size of the engine of the car, nothing surprising - I am more surprised that the acceleration does not affect the mpg in any way, this was also alredy visible when we took a look at our top and bottom consumers.\n",
    "As the **mpg** is our target variable lets take a deeper look at only the correlations between the **mpg** and the other features"
   ]
  },
  {
   "cell_type": "code",
   "execution_count": 37,
   "metadata": {},
   "outputs": [
    {
     "data": {
      "image/png": "[encoded data removed]",
      "text/plain": [
       "<matplotlib.figure.Figure at 0x217b260b588>"
      ]
     },
     "metadata": {},
     "output_type": "display_data"
    }
   ],
   "source": [
    "plt.figure(figsize=(6,4))\n",
    "sns.set(font_scale=1)\n",
    "\n",
    "sns.heatmap(data.corr()[['l/100 km']].sort_values('l/100 km',ascending=False)[1:]\n",
    "                     , annot=True\n",
    "                     , vmin=-1\n",
    "                     , vmax=1\n",
    "                     , cmap='coolwarm'\n",
    ")\n",
    "\n",
    "plt.show();"
   ]
  },
  {
   "cell_type": "markdown",
   "metadata": {},
   "source": [
    "Enough with the exploration of the data we wanna see some results: \n",
    "\n",
    "Lets see if we have enough data available to train a model which can help us predict the fuel consumption of the car given following parameters:\n",
    "* cylinders\n",
    "* displacement\n",
    "* horse power\n",
    "* weight\n",
    "* acceleration"
   ]
  },
  {
   "cell_type": "markdown",
   "metadata": {},
   "source": [
    "#Preparing the model\n",
    "\n",
    "We have three big steps to take\n",
    "1. First thing we are gonna do is split the data up in training and testing data!\n",
    "2. Train the model.\n",
    "3. Evaluate the results"
   ]
  },
  {
   "cell_type": "markdown",
   "metadata": {},
   "source": [
    "## Splitting the data into Training and Testing data\n",
    "\n",
    "We need the imports first - then we have to remove the target column from the dependent variables and add it seperate as the target column/ independent column and then we have need only one line to split the data:"
   ]
  },
  {
   "cell_type": "code",
   "execution_count": 18,
   "metadata": {},
   "outputs": [
    {
     "data": {
      "text/html": [
       "<div>\n",
       "<style scoped>\n",
       "    .dataframe tbody tr th:only-of-type {\n",
       "        vertical-align: middle;\n",
       "    }\n",
       "\n",
       "    .dataframe tbody tr th {\n",
       "        vertical-align: top;\n",
       "    }\n",
       "\n",
       "    .dataframe thead th {\n",
       "        text-align: right;\n",
       "    }\n",
       "</style>\n",
       "<table border=\"1\" class=\"dataframe\">\n",
       "  <thead>\n",
       "    <tr style=\"text-align: right;\">\n",
       "      <th></th>\n",
       "      <th>cylinders</th>\n",
       "      <th>ccm</th>\n",
       "      <th>horsepower</th>\n",
       "      <th>weight in kg</th>\n",
       "      <th>0 - 100</th>\n",
       "    </tr>\n",
       "  </thead>\n",
       "  <tbody>\n",
       "    <tr>\n",
       "      <th>0</th>\n",
       "      <td>8</td>\n",
       "      <td>4912.0</td>\n",
       "      <td>130</td>\n",
       "      <td>1401.6</td>\n",
       "      <td>5.714286</td>\n",
       "    </tr>\n",
       "    <tr>\n",
       "      <th>1</th>\n",
       "      <td>8</td>\n",
       "      <td>5600.0</td>\n",
       "      <td>165</td>\n",
       "      <td>1477.2</td>\n",
       "      <td>5.476190</td>\n",
       "    </tr>\n",
       "    <tr>\n",
       "      <th>2</th>\n",
       "      <td>8</td>\n",
       "      <td>5088.0</td>\n",
       "      <td>150</td>\n",
       "      <td>1374.4</td>\n",
       "      <td>5.238095</td>\n",
       "    </tr>\n",
       "    <tr>\n",
       "      <th>3</th>\n",
       "      <td>8</td>\n",
       "      <td>4864.0</td>\n",
       "      <td>150</td>\n",
       "      <td>1373.2</td>\n",
       "      <td>5.714286</td>\n",
       "    </tr>\n",
       "    <tr>\n",
       "      <th>4</th>\n",
       "      <td>8</td>\n",
       "      <td>4832.0</td>\n",
       "      <td>140</td>\n",
       "      <td>1379.6</td>\n",
       "      <td>5.000000</td>\n",
       "    </tr>\n",
       "  </tbody>\n",
       "</table>\n",
       "</div>"
      ],
      "text/plain": [
       "   cylinders     ccm  horsepower  weight in kg   0 - 100\n",
       "0          8  4912.0         130        1401.6  5.714286\n",
       "1          8  5600.0         165        1477.2  5.476190\n",
       "2          8  5088.0         150        1374.4  5.238095\n",
       "3          8  4864.0         150        1373.2  5.714286\n",
       "4          8  4832.0         140        1379.6  5.000000"
      ]
     },
     "execution_count": 18,
     "metadata": {},
     "output_type": "execute_result"
    }
   ],
   "source": [
    "# Import 'train_test_split'\n",
    "from sklearn.model_selection import train_test_split\n",
    "\n",
    "fuel_usage = data['l/100 km']\n",
    "features = data.drop( ['l/100 km', 'car name'], axis = 1)\n",
    "\n",
    "# Shuffle and split the data into training and testing subsets\n",
    "X_train, X_test, y_train, y_test = train_test_split(features, fuel_usage, test_size=0.2, random_state = 42)\n",
    "\n",
    "features.head()"
   ]
  },
  {
   "cell_type": "markdown",
   "metadata": {},
   "source": [
    "### Configuring the model\n",
    "\n",
    "Next lets write a function which helps us to find the best depth:"
   ]
  },
  {
   "cell_type": "code",
   "execution_count": 19,
   "metadata": {},
   "outputs": [],
   "source": [
    "from sklearn.tree import DecisionTreeRegressor\n",
    "from sklearn.metrics import make_scorer\n",
    "from sklearn.model_selection import GridSearchCV\n",
    "from sklearn.model_selection import ShuffleSplit\n",
    "from sklearn.metrics import r2_score\n",
    "\n",
    "\n",
    "def performance_metric(y_true, y_predict):\n",
    "    \"\"\" Calculates and returns the performance score between \n",
    "        true (y_true) and predicted (y_predict) values based on the metric chosen. \"\"\"\n",
    "    \n",
    "    score = r2_score(y_true, y_predict)\n",
    "    \n",
    "    # Return the score\n",
    "    return score\n",
    "\n",
    "\n",
    "def fit_model(X, y):\n",
    "    \"\"\" Performs grid search over the 'max_depth' parameter for a \n",
    "        decision tree regressor trained on the input data [X, y]. \"\"\"\n",
    "    \n",
    "    # Create cross-validation sets from the training data\n",
    "    cv_sets = ShuffleSplit(n_splits = 10, test_size = 0.20, random_state = 0)\n",
    "\n",
    "    # Create a decision tree regressor object\n",
    "    regressor = DecisionTreeRegressor()\n",
    "\n",
    "    # Create a dictionary for the parameter 'max_depth' with a range from 1 to 10\n",
    "    params = {'max_depth':[1,2,3,4,5,6,7,8,9,10]}\n",
    "\n",
    "    # Transform 'performance_metric' into a scoring function using 'make_scorer' \n",
    "    scoring_fnc = make_scorer(performance_metric)\n",
    "\n",
    "    # Create the grid search cv object --> GridSearchCV()\n",
    "    grid = GridSearchCV(estimator=regressor, param_grid=params, scoring=scoring_fnc, cv=cv_sets)\n",
    "\n",
    "    # Fit the grid search object to the data to compute the optimal model\n",
    "    grid = grid.fit(X, y)\n",
    "\n",
    "    # Return the optimal model after fitting the data\n",
    "    return grid.best_estimator_\n"
   ]
  },
  {
   "cell_type": "markdown",
   "metadata": {},
   "source": [
    "### Fitting the model\n",
    "\n",
    "Next check what our function will give us is we try to fit some data into it:"
   ]
  },
  {
   "cell_type": "code",
   "execution_count": 20,
   "metadata": {},
   "outputs": [
    {
     "name": "stdout",
     "output_type": "stream",
     "text": [
      "Parameter 'max_depth' is 2 for the optimal model.\n"
     ]
    }
   ],
   "source": [
    "# Fit the training data to the model using grid search\n",
    "reg = fit_model(X_train, y_train)\n",
    "\n",
    "# Produce the value for 'max_depth'\n",
    "print(\"Parameter 'max_depth' is {} for the optimal model.\".format(reg.get_params()['max_depth']))"
   ]
  },
  {
   "cell_type": "markdown",
   "metadata": {},
   "source": [
    "### Testing the model:\n",
    "\n",
    "We found out that the optimal value for max_depth is 2, lets test out how good the regressor performs on our testing data:"
   ]
  },
  {
   "cell_type": "code",
   "execution_count": 35,
   "metadata": {},
   "outputs": [
    {
     "data": {
      "text/plain": [
       "0.7138761451057597"
      ]
     },
     "execution_count": 35,
     "metadata": {},
     "output_type": "execute_result"
    }
   ],
   "source": [
    "# We use the score function to evaluate how good our regressor peforms on our testing data\n",
    "reg.score(X_test, y_test)"
   ]
  },
  {
   "cell_type": "markdown",
   "metadata": {},
   "source": [
    "Next lets try and make some preditions with data generated by us, our input parameters are:\n",
    "* cylinders\n",
    "* ccm\n",
    "* horsepower\n",
    "* weight in kg\t\n",
    "* 0 - 100"
   ]
  },
  {
   "cell_type": "code",
   "execution_count": 32,
   "metadata": {},
   "outputs": [
    {
     "name": "stdout",
     "output_type": "stream",
     "text": [
      "Predicted fuel consume for Car 1's is: 9.99\n",
      "Predicted fuel consume for Car 2's is: 7.48\n",
      "Predicted fuel consume for Car 3's is: 16.97\n"
     ]
    }
   ],
   "source": [
    "# Lets test the model with a few real world values\n",
    "car_data = [[4, 1400, 125, 1370, 96]\n",
    "                     ,[3, 1400, 75, 1300, 15]\n",
    "                     ,[8, 5000, 620, 1800, 4]]  \n",
    "\n",
    "\n",
    "for i, fuel_usage in enumerate(reg.predict(car_data)):\n",
    "   print(\"Predicted fuel consume for Car {}'s is: {:,.2f}\".format(i+1, fuel_usage))\n"
   ]
  },
  {
   "cell_type": "code",
   "execution_count": null,
   "metadata": {},
   "outputs": [],
   "source": [
    "Lets test out how good the regressor performs on our testing data:"
   ]
  },
  {
   "cell_type": "code",
   "execution_count": null,
   "metadata": {},
   "outputs": [],
   "source": []
  }
 ],
 "metadata": {
  "kernelspec": {
   "display_name": "Python 3",
   "language": "python",
   "name": "python3"
  },
  "language_info": {
   "codemirror_mode": {
    "name": "ipython",
    "version": 3
   },
   "file_extension": ".py",
   "mimetype": "text/x-python",
   "name": "python",
   "nbconvert_exporter": "python",
   "pygments_lexer": "ipython3",
   "version": "3.6.4"
  }
 },
 "nbformat": 4,
 "nbformat_minor": 2
}
